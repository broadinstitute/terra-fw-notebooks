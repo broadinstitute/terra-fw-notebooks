{
 "cells": [
  {
   "cell_type": "markdown",
   "metadata": {
    "heading_collapsed": true
   },
   "source": [
    "### <font color=\"#FF6600\">(expand for tip) </font> <font color=\"#445555\">A note on opening notebooks in shared workspaces</font><a class=\"tocSkip\">"
   ]
  },
  {
   "cell_type": "markdown",
   "metadata": {
    "hidden": true
   },
   "source": [
    "<font color=\"#445555\">Master copies of notebooks should not be run or edited unless you intend to improve the code. As a general rule, it is good to be cautious when editing a notebook in a shared workspace, because you don't want to overwrite the work of your collaborators. Best practices is to test in a cloned workspace with an easily identifiable name.</font>"
   ]
  },
  {
   "cell_type": "markdown",
   "metadata": {},
   "source": [
    "# Setup notebook overview"
   ]
  },
  {
   "cell_type": "markdown",
   "metadata": {},
   "source": [
    "In this notebook we install a collection of R packages and Jupyter extensions above and beyond what is installed by default. These are packages used in one or more of the notebooks in this workspace. \n",
    "\n",
    "This notebook needs to be rerun when you recreate the \"Cloud Environment\" (which may be a VM or cluster). Note that this is rare -- when you stop using a notebook, your VM is paused, not deleted. Your runtime only recreates after you click the \"Delete environment options\" button.\n",
    "\n",
    "## Directions <a class=\"tocSkip\">  \n",
    "Run this notebook in your workspace before running any other R notebooks. For more information about Jupyter notebooks, and practice running a notebook in Terra, see the **0_Intro_to_Jupyter** notebook in this workspace.    \n",
    "    \n",
    "## Documentation key </font><a class=\"tocSkip\">     \n",
    "    \n",
    "Below is an outline of how to identify different documentation components throughout the notebook     \n",
    "    \n",
    "|Type of information|Documentation cue | Action |   \n",
    "|----|----|----|   \n",
    "| Step by step instructions | **black font** | These are steps you shouldd follow to make sure the notebook runs properly |   \n",
    "| Addditional details | **<font color=\"#FF6600\">\"expand for tip\"</font>** | <font color=\"#445555\">Expand the section for additional (optional) information and resources by clicking on the downward-facing gray arrow (at top left)  </font> |  \n",
    "| **<font color=\"#445555\">Optional information**</font> | <font color=\"#445555\">**gray font** | You can read or not read these details, as you wish</font> |     \n",
    "|Full code blocks | purple **<font color=\"purple\"> <-></font>**<font color=\"#445555\"> (at the right of code cell) | Click on the arrow at top left of cell to expand and see all the code.  <font color=\"#445555\">**Note that you have to run the cell, but you don't have to unfold the code to do so**</font> |    "
   ]
  },
  {
   "cell_type": "markdown",
   "metadata": {
    "heading_collapsed": true
   },
   "source": [
    "## <font color=\"#FF6600\">(expand for tip) </font> <font color=\"#445555\">How to customize your Cloud Environment</font><a class=\"tocSkip\">"
   ]
  },
  {
   "cell_type": "markdown",
   "metadata": {
    "hidden": true
   },
   "source": [
    "To expose the customization menu, select the gear icon at the top right of your workspace page.    \n",
    "\n",
    "**<font color=\"#FF6600\">Try clicking the gear icon at the top right to see!</font>**   \n",
    "\n",
    " <font color=\"#445555\">You can customize at any time. **Note that changing these values will recreate your Cloud Environment**. To learn more about customizing your notebook Cloud Environment, see [this article](https://support.terra.bio/hc/en-us/articles/360038125912).\n",
    "\n",
    "### <font color=\"#445555\">Application configuration</font><a class=\"tocSkip\">    \n",
    "<font color=\"#445555\">These are the packages and libraries installed on the VM that runs your notebook. There are several pre-configured environments with popular packages installed in Terra by default.      \n",
    "    \n",
    "**To use a custom Docker** to customize and standardize your Cloud Environment, choose the \"Custom Environment\" option in the dropdown menu and insert the URL for your Docker image in the \"Container image\" field. To learn more about making custom Dockers on Terra, see [this article](https://support.terra.bio/hc/en-us/articles/360037143432).    \n",
    "\n",
    "**You can also specify a startup script in the Cloud Compute section to customize your Cloud Environment.** To learn more about using a startup script, see [this article](https://support.terra.bio/hc/en-us/articles/360058193872)</font></font>   \n",
    "\n",
    "### <font color=\"#445555\">Cloud compute</font><a class=\"tocSkip\">    \n",
    "<font color=\"#445555\">This is where you can choose the VM CPU and memory (RAM). You can choose a standard VM, Spark Master Node, or Spark Cluster in the dropdown.    \n",
    "\n",
    "\n",
    "### <font color=\"#445555\">Detachable Persistent Disk size</font><a class=\"tocSkip\">    \n",
    "<font color=\"#445555\">Terra attaches a persistent disk (PD) to your cloud compute in order to provide an option to keep the data on the disk after you delete your compute. PDs also act as a safeguard to protect your data in the case that something goes wrong with the compute. You can choose the size of your Persistent Disk. To learn more about Persistent disks and where your disk is mounted, see [this article](https://support.terra.bio/hc/en-us/articles/360047318551)</font>"
   ]
  },
  {
   "cell_type": "markdown",
   "metadata": {
    "heading_collapsed": true
   },
   "source": [
    "## <font color=\"#FF6600\">(expand for tip) </font> <font color=\"#445555\"> Useful notebook extensions<a class=\"tocSkip\">  \n",
    "This notebook uses two extensions to make it cleaner and easier to follow.Expand these sections if you aren't familiar with the codefolding and collapsible headings extensions. "
   ]
  },
  {
   "cell_type": "markdown",
   "metadata": {
    "heading_collapsed": true,
    "hidden": true
   },
   "source": [
    "### <font color=\"FF6600\">(expand for tip)</font> <font color=\"#445555\">About Jupyter notebook extensions</font><a class=\"tocSkip\">"
   ]
  },
  {
   "cell_type": "markdown",
   "metadata": {
    "hidden": true
   },
   "source": [
    "<font color=\"#445555\">Jupyter notebook extensions are useful add-ons, developed by the community, to extend notebook functionality. You can read more about notebook extentions and how they work [here](http://www.blog.pythonlibrary.org/2018/10/02/jupyter-notebook-extension-basics/). The extensions we will use in this notebook include:   \n",
    "\n",
    "* **Codefolding** - Makes the notebook cleaner by compressing large blocks of code    \n",
    "You'll know this extension is in place by the small gray triangle at the top left of a code cell. Folded code cells have a right-facing triangle at the top left of the cell and a purple <font color=#7433FF>**<->**</font> to the right of the first line of code. To see the full code, you can expand the cell by clicking either the triangle or the arrow at the top of the code cell.    \n",
    "\n",
    "**Note that you still need to run folded code cells but you will not need to unfold them to do so.** \n",
    "\n",
    "* **Collapsible headers** - Also makes the notebook tidier, by collapsing the cells under a header.  \n",
    "\n",
    "### To use the notebook extensions, run the code, then refresh the browser before proceeding <a class=\"tocSkip\"></font>"
   ]
  },
  {
   "cell_type": "markdown",
   "metadata": {
    "heading_collapsed": true,
    "hidden": true
   },
   "source": [
    "### <font color=\"FF6600\">(expand for tip)</font> <font color=\"#445555\"> Test collapsible header<a class=\"tocSkip\">\n",
    "You can uncollapse the header markdown cell in this section by clicking the right-facing arrow beside the header... Try it and see! "
   ]
  },
  {
   "cell_type": "markdown",
   "metadata": {
    "hidden": true
   },
   "source": [
    "<font color=\"purple\">Congratulations!! You've discovered the hidden markdown beneath the collapsed header.</font>"
   ]
  },
  {
   "cell_type": "code",
   "execution_count": null,
   "metadata": {
    "hidden": true
   },
   "outputs": [],
   "source": [
    "# Code cells are also collapsed under the header... \n",
    "# To run code cells collapsed under a header, you need to first uncollapse the header!! "
   ]
  },
  {
   "cell_type": "markdown",
   "metadata": {
    "hidden": true
   },
   "source": [
    "**Try it out!** Once you implement the extensions, you can collapse and uncollapse any code cells and headings"
   ]
  },
  {
   "cell_type": "markdown",
   "metadata": {
    "heading_collapsed": true,
    "hidden": true
   },
   "source": [
    "### <font color=\"FF6600\">(expand for tip)</font> <font color=\"#445555\"> Test codefolding extension<a class=\"tocSkip\">\n",
    "Expand this section to practice using the codefolding extension. "
   ]
  },
  {
   "cell_type": "code",
   "execution_count": null,
   "metadata": {
    "code_folding": [],
    "hidden": true
   },
   "outputs": [],
   "source": [
    "# This code cell is unfolded \n",
    "# Notice the small arrow at the top left of the cell is pointing DOWN\n",
    "# There is no purple two-way arrow to the right of the first line\n",
    "# You can click on the small arrow to fold the cell"
   ]
  },
  {
   "cell_type": "code",
   "execution_count": null,
   "metadata": {
    "code_folding": [
     0
    ],
    "hidden": true
   },
   "outputs": [],
   "source": [
    "# This code cell is folded. Notice the triangle (left) is pointing RIGHT and the purple arrow (right) \n",
    "# If you clicked on the DOWN arrow, you will expand the cell and be able to read this text. \n",
    "\n",
    "# CONGRATULATIONS!!!"
   ]
  },
  {
   "cell_type": "markdown",
   "metadata": {
    "heading_collapsed": true
   },
   "source": [
    "## <font color=\"#FF6600\">(expand for tip) </font> <font color=\"#445555\">How to know your code cell is running/complete</font><a class=\"tocSkip\">"
   ]
  },
  {
   "cell_type": "markdown",
   "metadata": {
    "hidden": true
   },
   "source": [
    "**<font color=\"#445555\">Running code cells</font>**    \n",
    "<font color=\"#445555\">1. There will be an `*` in between the brackets to the left at the top of the code cell (`In [*] </font>   \n",
    "<font color=\"#445555\">2. The section with the code cell will be highlighted in red in the Table of Contents</font>    \n",
    "\n",
    "**<font color=\"#445555\">Completed code cells</font>**    \n",
    "<font color=\"#445555\">1. The `*` will turn into a number (`IN [*]` will become `In [3]` for example)</font>\n",
    "<font color=\"#445555\">2. You may get some output information (in black text on either white or pink background). Note that a pink warning message does not necessarily mean your notebook is broken!</font>"
   ]
  },
  {
   "cell_type": "markdown",
   "metadata": {},
   "source": [
    "# Install R packages\n",
    "\n"
   ]
  },
  {
   "cell_type": "markdown",
   "metadata": {},
   "source": [
    "## Generally useful R packages"
   ]
  },
  {
   "cell_type": "code",
   "execution_count": null,
   "metadata": {
    "code_folding": []
   },
   "outputs": [],
   "source": [
    "# This code defines a time-saving command, that checks to see if the needed libraries are already installed and\n",
    "# installs them only if they're missing. The `install_if_missing,` command will be used below.\n",
    "\n",
    "install_if_missing <- function(packages) {\n",
    "    if (length(setdiff(packages, rownames(installed.packages()))) > 0) {\n",
    "        install.packages(setdiff(packages, rownames(installed.packages())))\n",
    "    }\n",
    "}"
   ]
  },
  {
   "cell_type": "code",
   "execution_count": null,
   "metadata": {
    "code_folding": [],
    "scrolled": false
   },
   "outputs": [],
   "source": [
    "# Use the command defined above to install the nine R packages (in parentheses) below \n",
    "install_if_missing(c('tidyverse','viridis', 'ggthemes', 'pryr', 'skimr',\n",
    "                     'testthat', 'reticulate', 'data.table', 'RCurl'))\n",
    "\n",
    "# There may be a warning in pink that says 'lib' is unspecified, which you can ignore. "
   ]
  },
  {
   "cell_type": "markdown",
   "metadata": {
    "heading_collapsed": true
   },
   "source": [
    "### <font color=\"FF6600\">(expand for tip)</font> <font color=\"#445555\">What about those pink output warnings?</font><a class=\"tocSkip\">"
   ]
  },
  {
   "cell_type": "markdown",
   "metadata": {
    "hidden": true
   },
   "source": [
    "<font color=\"#445555\">**If you get a warning in pink after running a code cell**   \n",
    "These warnings are simply standard output from the virtual machine. They give useful information, but are usually not anything that will break the rest of the notebook. Often they refer to versions of libraries or library commands that are masked. Feel free to read through to get a sense of what is going on behind-the-scene. <font color=\"#445555\">"
   ]
  },
  {
   "cell_type": "markdown",
   "metadata": {},
   "source": [
    "## Leonardo R package"
   ]
  },
  {
   "cell_type": "markdown",
   "metadata": {},
   "source": [
    "Leonardo is a service that provides access to interactive tools like Jupyter, RStudio, and Hail running in the cloud inside the Terra security boundary."
   ]
  },
  {
   "cell_type": "code",
   "execution_count": null,
   "metadata": {
    "code_folding": []
   },
   "outputs": [],
   "source": [
    "# Install the package of libraries that Leonardo needs, which are hosted on github \n",
    "devtools::install_github('DataBiosphere/ronaldo')"
   ]
  },
  {
   "cell_type": "markdown",
   "metadata": {},
   "source": [
    "**Warning note**    \n",
    "Note that after running this cell you may get a warning that reads    \n",
    "\n",
    "`Skipping install of 'Ronaldo' from a github remote, the SHA1 (426459ff) has not changed since last install.     \n",
    "Use 'force = TRUE' to force installation`   \n",
    "\n",
    "**Plain English**   \n",
    "This warning is telling you that this package has already been installed, and to save time, it's skipping this step. The code `force = TRUE` allows you to override this and re-install the package.    \n"
   ]
  },
  {
   "cell_type": "markdown",
   "metadata": {},
   "source": [
    "# Confirm that the R packages loaded properly"
   ]
  },
  {
   "cell_type": "code",
   "execution_count": null,
   "metadata": {
    "code_folding": [
     0
    ]
   },
   "outputs": [],
   "source": [
    "# Warnings that objects are masked between R packages are to be expected and you can ignore them \n",
    "library(viridis)    # A nice color scheme for plots.\n",
    "library(ggthemes)   # Common themes to change the look and feel of plots.\n",
    "library(scales)     # Graphical scales map data to aesthetics in plots.\n",
    "library(testthat)   # Testing functions.\n",
    "library(assertthat) # Assertion functions.\n",
    "library(pryr)       # Memory usage functions.\n",
    "library(skimr)      # Summary statistics for dataframes.\n",
    "library(bigrquery)  # BigQuery R client.\n",
    "library(tidyverse)  # Data wrangling packages.\n",
    "library(reticulate) # Python R client.\n",
    "library(Ronaldo)    # Leonardo R package."
   ]
  },
  {
   "cell_type": "markdown",
   "metadata": {},
   "source": [
    "# Troubleshooting tips and tricks"
   ]
  },
  {
   "cell_type": "markdown",
   "metadata": {},
   "source": [
    "This notebook installs the most recent versions of R packages from [CRAN](https://cran.r-project.org/) and Python packages from [pip](https://pypi.org/project/pip/) on to your VM. Additionally, some packages come from [GitHub](https://github.com/) or [Cloud Source Repositories](https://cloud.google.com/source-repositories/).\n",
    "\n",
    "1. If you encounter any errors, first try restarting the kernel and running all: `Kernel -> Restart & Run All`.\n",
    "1. If an R package still fails to install:\n",
    " - Open a terminal by clicking on the terminal icon next to 'Notebook Runtime' in the upper top right corner of the window\n",
    " - Type `R` to start R in the terminal\n",
    " - Type `install.packages(\"qwraps2\")` to get a more detailed error message. Replace `qwraps2` with the name of which ever package is failing to install.\n",
    "1. If that error message tells you what you need to do to resolve the issue, great! If not, copy and paste the error message into Google Search for more help. "
   ]
  },
  {
   "cell_type": "markdown",
   "metadata": {},
   "source": [
    "# Provenance"
   ]
  },
  {
   "cell_type": "markdown",
   "metadata": {},
   "source": [
    "Provenance is a record of exactly the environment used to run the notebook. It's useful for collaborating, and also helpful when you return to a notebook months after your initial analysis. It's also Best Practices for reproducible research."
   ]
  },
  {
   "cell_type": "code",
   "execution_count": null,
   "metadata": {},
   "outputs": [],
   "source": [
    "# Output all session information\n",
    "devtools::session_info()"
   ]
  },
  {
   "cell_type": "markdown",
   "metadata": {},
   "source": [
    "Copyright 2019 The Broad Institute, Inc., Verily Life Sciences, LLC All rights reserved.\n",
    "\n",
    "This software may be modified and distributed under the terms of the BSD license. See the LICENSE file for details."
   ]
  }
 ],
 "metadata": {
  "kernelspec": {
   "display_name": "R",
   "language": "R",
   "name": "ir"
  },
  "language_info": {
   "codemirror_mode": "r",
   "file_extension": ".r",
   "mimetype": "text/x-r-source",
   "name": "R",
   "pygments_lexer": "r",
   "version": "4.0.3"
  },
  "toc": {
   "base_numbering": 1,
   "nav_menu": {},
   "number_sections": true,
   "sideBar": true,
   "skip_h1_title": false,
   "title_cell": "Table of Contents",
   "title_sidebar": "Contents",
   "toc_cell": false,
   "toc_position": {
    "height": "calc(100% - 180px)",
    "left": "10px",
    "top": "150px",
    "width": "290px"
   },
   "toc_section_display": true,
   "toc_window_display": true
  }
 },
 "nbformat": 4,
 "nbformat_minor": 2
}
