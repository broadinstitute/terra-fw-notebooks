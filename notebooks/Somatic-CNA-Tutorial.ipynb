{
 "cells": [
  {
   "cell_type": "markdown",
   "metadata": {
    "colab_type": "text",
    "id": "US-9OQ8XgZQF"
   },
   "source": [
    "# GATK Somatic Copy Number Alteration Tutorial <a class=\"tocSkip\">"
   ]
  },
  {
   "cell_type": "markdown",
   "metadata": {},
   "source": [
    "**February 2020**  \n",
    "\n",
    "<img src=\"https://storage.googleapis.com/gatk-tutorials/images/3-somatic/somatic-cna-image1.July2019.png\" alt=\"drawing\" width=\"50%\" align=\"left\" style=\"margin:10px 20px\"/> \n",
    "<font size=3>This hands-on tutorial outlines steps to sensitively detect alterations in total and allelic copy ratios using GATK4's ModelSegments CNA workflow. The workflow is suitable towards detecting somatic copy ratio alterations, more familiarly copy number alterations (CNAs) or copy number variants (CNVs), for whole genomes and targeted exomes.</font>\n",
    "\n",
    "\n",
    "_This tutorial was last tested with the GATK v4.1.4.1 and IGV v2.8.0._\n",
    " See [GATK Tool Documentation](https://gatk.broadinstitute.org/hc/en-us/articles/360037224712) for further information on the tools we use below.\n"
   ]
  },
  {
   "cell_type": "markdown",
   "metadata": {
    "colab_type": "text",
    "id": "OgzJFRYkgZQH"
   },
   "source": [
    "# Set up your Notebook\n",
    "\n",
    "<b><font color=red>The instructions below are slightly different from what you ran this morning. Run all the commands to ensure the notebook will work properly.</font></b>\n",
    "\n",
    "## Set cloud environment values\n",
    "If you are opening a notebook for the first time today and you didn't adjust any runtime values, now's the time to edit them. Click on the gear icon in the upper right to edit your Notebook Runtime. Set the values as specified below:\n",
    "\n",
    "| Option | Value |\n",
    "| ------ | ------ |\n",
    "| Environment | Default |\n",
    "| Profile | Custom |\n",
    "| CPU | 4 |\n",
    "| Disk size | 100 GB |\n",
    "| Memory | 15 GB |\n",
    "\n",
    "Click the \"Update\" button when you are done, and Terra will begin to create a new runtime with your settings. When it is finished, it will pop up asking you to apply the new settings. In the meantime, you can continue with the setup instructions below. "
   ]
  },
  {
   "cell_type": "markdown",
   "metadata": {},
   "source": [
    "## Check kernel type\n",
    "A kernel is a _computational engine_ that executes the code in the notebook. For this particular notebook, we will be using a Python 3 kernel so we can execute GATK commands using _Python Magic_ (`!`). In the upper right corner of the notebook, just under the Notebook Runtime, it should say `Python3`. If this notebook isn't running a Python 3 kernel, you can switch it by navigating to the Kernel menu and selecting `Change kernel`.\n",
    "\n",
    "## Install required packages\n",
    "\n",
    "<font color = \"green\"> **Tool Tip:** To run a cell in a notebook, press `SHIFT + ENTER`</font>"
   ]
  },
  {
   "cell_type": "code",
   "execution_count": null,
   "metadata": {},
   "outputs": [],
   "source": [
    "!pip install rpy2\n",
    "import rpy2\n",
    "%load_ext rpy2.ipython"
   ]
  },
  {
   "cell_type": "code",
   "execution_count": null,
   "metadata": {},
   "outputs": [],
   "source": [
    "%%R\n",
    "install.packages(\"optparse\")\n",
    "library(\"optparse\")"
   ]
  },
  {
   "cell_type": "markdown",
   "metadata": {},
   "source": [
    "## Set up your files\n",
    "Your notebook has a temporary folder that exists so long as your cluster is running. To see what files are in your notebook environment at any time, you can click on the Jupyter logo in the upper left corner. \n",
    "\n",
    "For this tutorial, we need to copy some files from this temporary folder to and from our workspace bucket. Run the two commands below to set up the workspace bucket variable and the file paths inside your notebook."
   ]
  },
  {
   "cell_type": "code",
   "execution_count": null,
   "metadata": {
    "colab": {},
    "colab_type": "code",
    "id": "aZc1n9fxgZQI"
   },
   "outputs": [],
   "source": [
    "# Set your workspace bucket variable for this notebook.\n",
    "import os\n",
    "BUCKET = os.environ['WORKSPACE_BUCKET']"
   ]
  },
  {
   "cell_type": "code",
   "execution_count": null,
   "metadata": {},
   "outputs": [],
   "source": [
    "# Set workshop variable to access the most recent materials\n",
    "WORKSHOP = \"workshop_2002\""
   ]
  },
  {
   "cell_type": "code",
   "execution_count": null,
   "metadata": {
    "colab": {},
    "colab_type": "code",
    "id": "M2vQ99YsgZQL"
   },
   "outputs": [],
   "source": [
    "# Create sandbox and file directories\n",
    "! mkdir -p /home/jupyter/notebooks/3-somatic-cna/sandbox/\n",
    "! mkdir -p /home/jupyter/notebooks/3-somatic-cna/sandbox/cna_plots/\n",
    "! mkdir -p /home/jupyter/notebooks/3-somatic-cna/ref/\n",
    "! mkdir -p /home/jupyter/notebooks/3-somatic-cna/cna_inputs\n",
    "\n",
    "# Removes any old symbolic linked sandbox directory and adds a new link, in case you've run this before\n",
    "! rm -rf sandbox\n",
    "! ln -s /home/jupyter/notebooks/3-somatic-cna/sandbox sandbox"
   ]
  },
  {
   "cell_type": "code",
   "execution_count": null,
   "metadata": {},
   "outputs": [],
   "source": [
    "# Adds Display function for viewing images from the notebook folder. We will use this to look\n",
    "# at the outputs at different steps in this pipeline\n",
    "from IPython.display import display, Image"
   ]
  },
  {
   "cell_type": "markdown",
   "metadata": {
    "colab_type": "text",
    "id": "lG2m2totgZQN"
   },
   "source": [
    "## Check data permissions\n",
    "For this tutorial, we have hosted the starting files in a public Google bucket. We will first check that the data is available to your user account, and if it is not, we simply need to install Google Cloud Storage."
   ]
  },
  {
   "cell_type": "code",
   "execution_count": null,
   "metadata": {
    "colab": {},
    "colab_type": "code",
    "id": "pH5Yhgh6gZQO",
    "scrolled": true
   },
   "outputs": [],
   "source": [
    "# Check if data is accessible. The command should list several gs:// URLs.\n",
    "! gsutil ls gs://gatk-tutorials/$WORKSHOP/3-somatic/"
   ]
  },
  {
   "cell_type": "code",
   "execution_count": null,
   "metadata": {},
   "outputs": [],
   "source": [
    "# If you do not see gs:// URLs listed above, run this cell to install Google Cloud Storage. \n",
    "# Afterwards, restart the kernel with Kernel > Restart.\n",
    "#! pip install google-cloud-storage"
   ]
  },
  {
   "cell_type": "markdown",
   "metadata": {
    "colab_type": "text",
    "id": "_QGHTOCvgZQS"
   },
   "source": [
    "## Download Data to the Notebook \n",
    "Some tools are not able to read directly from a Google bucket, so we download their files to our local notebook folder."
   ]
  },
  {
   "cell_type": "code",
   "execution_count": null,
   "metadata": {
    "colab": {},
    "colab_type": "code",
    "id": "-TkCGW77gZQS",
    "scrolled": true
   },
   "outputs": [],
   "source": [
    "! gsutil cp gs://gatk-tutorials/$WORKSHOP/3-somatic/cna_inputs/* /home/jupyter/notebooks/3-somatic-cna/cna_inputs/\n",
    "! gsutil cp gs://gatk-tutorials/$WORKSHOP/3-somatic/ref/Homo_sapiens_assembly38.dict /home/jupyter/notebooks/3-somatic-cna/ref/\n",
    "    "
   ]
  },
  {
   "cell_type": "markdown",
   "metadata": {
    "colab_type": "text",
    "id": "cs1hPg-IgZQX"
   },
   "source": [
    "---\n",
    "\n",
    "# PERFORM COVERAGE ANALYSIS: MODELSEGMENTS CNA"
   ]
  },
  {
   "cell_type": "markdown",
   "metadata": {
    "colab_type": "text",
    "id": "6SId3hYJgZQY"
   },
   "source": [
    "## Prepare intervals for coverage collection\n",
    "<img src=\"https://storage.googleapis.com/gatk-tutorials/images/3-somatic/somatic-cna-image3.July2019.png\" alt=\"drawing\" width=\"300\" align=\"right\" style=\"margin:0px 20px\"/> \n",
    "Collecting coverage counts forms the basis of copy number variant detection. However, before we can do that, we must define the resolution of the analysis with a genomic intervals list. Since we are using exome data, we will pad the target regions. Padding target regions 250 bases on each side has been shown to increase sensitivity for the CNA workflow. In the case of whole genome data, we would divide the reference genome into equally sized intervals or bins. In either case, we use PreprocessIntervals to prepare the intervals list.\n",
    " \n",
    "The `--bin-length` value must be set for different data types, e.g. default 1000 for whole genome or 0 for exomes. For the tutorial exome data, we provide a snippet of the capture kit target regions and set --bin-length to zero."
   ]
  },
  {
   "cell_type": "code",
   "execution_count": null,
   "metadata": {
    "colab": {},
    "colab_type": "code",
    "id": "jP5klLTAgZQZ",
    "scrolled": true
   },
   "outputs": [],
   "source": [
    " ! gatk PreprocessIntervals \\\n",
    "    -L gs://gatk-tutorials/$WORKSHOP/3-somatic/resources/targets_chr17.interval_list \\\n",
    "    -R gs://gatk-tutorials/$WORKSHOP/3-somatic/ref/Homo_sapiens_assembly38.fasta \\\n",
    "    --padding 250 \\\n",
    "    --bin-length 0 \\\n",
    "    --interval-merging-rule OVERLAPPING_ONLY \\\n",
    "    -O /home/jupyter/notebooks/3-somatic-cna/sandbox/targets_chr17.preprocessed.interval_list"
   ]
  },
  {
   "cell_type": "markdown",
   "metadata": {
    "colab_type": "text",
    "id": "NW5hnW16gZQg",
    "scrolled": true
   },
   "source": [
    "This produces a Picard-style intervals list targets_chr17.preprocessed.interval_list with 11,307 targets for use in the coverage collection step."
   ]
  },
  {
   "cell_type": "markdown",
   "metadata": {
    "colab_type": "text",
    "id": "DstknhS8gZQg"
   },
   "source": [
    "➤ Peruse both the before and after intervals. Do we have the same number of intervals as before? How does the tool pad intervals that are less than 500bp apart?  \n",
    "➤ Take a look at the tool doc description for `-imr OVERLAPPING_ONLY` [here](https://gatk.broadinstitute.org/hc/en-us/articles/4405443672347-PreprocessIntervals#--interval-merging-rule). What does this option ensure?"
   ]
  },
  {
   "cell_type": "code",
   "execution_count": null,
   "metadata": {},
   "outputs": [],
   "source": [
    "!gsutil cat gs://gatk-tutorials/$WORKSHOP/3-somatic/resources/targets_chr17.interval_list | egrep -v \"^@\" | wc -l\n",
    "    "
   ]
  },
  {
   "cell_type": "code",
   "execution_count": null,
   "metadata": {},
   "outputs": [],
   "source": [
    "!egrep -v \"^@\" /home/jupyter/notebooks/3-somatic-cna/sandbox/targets_chr17.preprocessed.interval_list | wc -l\n"
   ]
  },
  {
   "cell_type": "code",
   "execution_count": null,
   "metadata": {},
   "outputs": [],
   "source": [
    "!gsutil cat gs://gatk-tutorials/workshop_1910/3-somatic/resources/targets_chr17.interval_list | egrep -v \"^@\" | awk '{$6=$3-$2;print}' | head\n",
    "    "
   ]
  },
  {
   "cell_type": "code",
   "execution_count": null,
   "metadata": {},
   "outputs": [],
   "source": [
    "!grep -v \"^@\" /home/jupyter/notebooks/3-somatic-cna/sandbox/targets_chr17.preprocessed.interval_list | awk '{$6=$3-$2;print}' | head\n"
   ]
  },
  {
   "cell_type": "markdown",
   "metadata": {
    "colab_type": "text",
    "id": "QX2SfBjSgZQh"
   },
   "source": [
    "---\n",
    "## Collect read counts for samples across target intervals"
   ]
  },
  {
   "cell_type": "markdown",
   "metadata": {
    "colab_type": "text",
    "id": "3kc34LJpgZQi"
   },
   "source": [
    "<img src=\"https://storage.googleapis.com/gatk-tutorials/images/3-somatic/somatic-cna-image4.July2019.png\" alt=\"drawing\" width=\"300\" align=\"right\" style=\"margin:0px 20px\"/> \n",
    "\n",
    "The basis for detecting amplification and deletion events from sequencing data is read coverage. In this step, we count the number of read starts that overlap each interval using CollectReadCounts. We perform this step for the tumor sample and for the normal sample.\n",
    "\n",
    "By default, the tool writes [HDF5 format](https://software.broadinstitute.org/gatk/documentation/article?id=11508) data, which is handled more efficiently by downstream tools (decreases runtime by reducing time spent on IO). Here we change the output format to TSV for teaching purposes. "
   ]
  },
  {
   "cell_type": "code",
   "execution_count": null,
   "metadata": {
    "colab": {},
    "colab_type": "code",
    "id": "goC3HlDJgZQi",
    "scrolled": true
   },
   "outputs": [],
   "source": [
    "! gatk CollectReadCounts \\\n",
    "    -I gs://gatk-tutorials/$WORKSHOP/3-somatic/bams/tumor.bam \\\n",
    "    -L /home/jupyter/notebooks/3-somatic-cna/sandbox/targets_chr17.preprocessed.interval_list \\\n",
    "    -R gs://gatk-tutorials/$WORKSHOP/3-somatic/ref/Homo_sapiens_assembly38.fasta \\\n",
    "    --format TSV \\\n",
    "    -imr OVERLAPPING_ONLY \\\n",
    "    -O /home/jupyter/notebooks/3-somatic-cna/sandbox/tumor.counts.tsv"
   ]
  },
  {
   "cell_type": "code",
   "execution_count": null,
   "metadata": {
    "colab": {},
    "colab_type": "code",
    "id": "UW-7SLoQgZQk",
    "scrolled": true
   },
   "outputs": [],
   "source": [
    "! gatk CollectReadCounts \\\n",
    "    -I gs://gatk-tutorials/$WORKSHOP/3-somatic/bams/normal.bam \\\n",
    "    -L /home/jupyter/notebooks/3-somatic-cna/sandbox/targets_chr17.preprocessed.interval_list \\\n",
    "    -R gs://gatk-tutorials/$WORKSHOP/3-somatic/ref/Homo_sapiens_assembly38.fasta \\\n",
    "    --format TSV \\\n",
    "    -imr OVERLAPPING_ONLY \\\n",
    "    -O /home/jupyter/notebooks/3-somatic-cna/sandbox/normal.counts.tsv"
   ]
  },
  {
   "cell_type": "markdown",
   "metadata": {
    "colab_type": "text",
    "id": "qZHlGApsgZQm"
   },
   "source": [
    "Here we show the raw counts per target (y-axis) for the normal and the tumor across 23 chromosomes (x-axis). Each target is represented by a point.\n",
    "<img src=\"https://storage.googleapis.com/gatk-tutorials/images/3-somatic/cna-image1.png\" alt=\"drawing\" width=\"1000\"/>\n",
    "➤ Can you tell if either sample has copy number variants?"
   ]
  },
  {
   "cell_type": "markdown",
   "metadata": {
    "colab_type": "text",
    "id": "-yC8VTvCgZQm"
   },
   "source": [
    "---\n",
    "## Create a 1-sample panel of normals (PoN)"
   ]
  },
  {
   "cell_type": "markdown",
   "metadata": {
    "colab_type": "text",
    "id": "PhyMSqltgZQn"
   },
   "source": [
    "<img src=\"https://storage.googleapis.com/gatk-tutorials/images/3-somatic/somatic-cna-image5.July2019.png\" alt=\"drawing\" width=\"300\" align=\"right\" style=\"margin:0px 20px\"/> \n",
    "\n",
    "Now we generate the CNA PoN with CreateReadCountPanelOfNormals. The tool creates a panel of normals that forms the baseline for what is the norm against which the workflow compares case samples. The tool uses Singular Value Decomposition, a type of Principal Component Analysis to capture systematic noise against statistical noise.\n",
    "\n",
    "Normally, you will want to create a PoN with some number of **normal samples that were ideally subject to the same batch effects as your case sample** under scrutiny. This tutorial will use a PoN made of forty 1KGP normal samples and generated with the following command: \n",
    "\n",
    "```\n",
    "gatk --java-options \"-Xmx6500m\" CreateReadCountPanelOfNormals \\\n",
    "    -I file1_clean.counts.hdf5 \\\n",
    "    … \n",
    "    -I file40_clean.counts.hdf5 \\\n",
    "    -O cnaponC.pon.hdf5\n",
    "```\n",
    "\n",
    "CreateReadCountPanelOfNormals performs several other filtering steps across samples and across targets, and [this article section](https://gatk.broadinstitute.org/hc/en-us/articles/4405443742491-CreateReadCountPanelOfNormals) outlines these.\n",
    "\n",
    "**At the least, the PoN should consist of 10 normal samples** that were ideally subject to the same batch effects as that of the tumor sample. Our **recommendation is 40 or more normal samples**. To illustrate tool features, we create a PoN with our normal sample with the following command."
   ]
  },
  {
   "cell_type": "code",
   "execution_count": null,
   "metadata": {
    "colab": {},
    "colab_type": "code",
    "id": "IAI06U6sgZQo"
   },
   "outputs": [],
   "source": [
    "#For multiple samples, the -I would be specified multiple times\n",
    "! gatk CreateReadCountPanelOfNormals \\\n",
    "    -I /home/jupyter/notebooks/3-somatic-cna/sandbox/normal.counts.tsv \\\n",
    "    -O /home/jupyter/notebooks/3-somatic-cna/sandbox/normal.pon.hdf5"
   ]
  },
  {
   "cell_type": "markdown",
   "metadata": {
    "colab_type": "text",
    "id": "WTGAYu_NgZQp"
   },
   "source": [
    "➤ Study the stdout. \n",
    "\n",
    "**Are we losing any data during the filtering steps?** \n",
    "\n",
    "Given the reasons one might want to use a matched normal, **would you change this command?** \n",
    "\n",
    "Remember also __PoN medians are used to standardize case counts (by dividing)__.\n",
    "\n",
    "So far we have been using subset data."
   ]
  },
  {
   "cell_type": "markdown",
   "metadata": {},
   "source": [
    "## Run CreateReadCountPanelOfNormals \n",
    "\n",
    "Run the command using the full data file cna_inputs/hcc1143_N_clean.counts.hdf5. Here we have adjusted the parameters to include `--minimum-interval-median-percentile`.\n",
    "\n",
    "Changing the --minimum-interval-median-percentile argument from the default of 10.0 to a smaller value of 5.0 allows retention of more data, which is appropriate for this carefully selected normals cohort."
   ]
  },
  {
   "cell_type": "code",
   "execution_count": null,
   "metadata": {
    "colab": {},
    "colab_type": "code",
    "id": "s3zxa0-BgZQq"
   },
   "outputs": [],
   "source": [
    "! gatk CreateReadCountPanelOfNormals \\\n",
    "    -I /home/jupyter/notebooks/3-somatic-cna/cna_inputs/hcc1143_N_clean.counts.hdf5 \\\n",
    "    --minimum-interval-median-percentile 5.0 \\\n",
    "    -O /home/jupyter/notebooks/3-somatic-cna/sandbox/normal.pon.hdf5"
   ]
  },
  {
   "cell_type": "markdown",
   "metadata": {
    "colab_type": "text",
    "id": "l34S1dsmgZQs"
   },
   "source": [
    "➤ Which do you think will perform better in revealing copy number events in the tumor, the 40-sample PoN or the matched-normal? Why?\n",
    "\n",
    "If you are curious to see for yourself how the matched-normal PoN pans out, it is possible to substitute it in to the remaining steps. Instructions continue with the 40-sample PoN."
   ]
  },
  {
   "cell_type": "markdown",
   "metadata": {
    "colab_type": "text",
    "id": "H39kTum_gZQs"
   },
   "source": [
    "---\n",
    "## Remove noise from sample coverage using the PoN"
   ]
  },
  {
   "cell_type": "markdown",
   "metadata": {
    "colab_type": "text",
    "id": "-QCa8p_sgZQt"
   },
   "source": [
    "<img src=\"https://storage.googleapis.com/gatk-tutorials/images/3-somatic/somatic-cna-image6.July2019.png\" alt=\"drawing\" width=\"300\" align=\"right\" style=\"margin:0px 20px\"/>\n",
    "\n",
    "&nbsp;\n",
    "\n",
    "We use DenoiseReadCounts and the PoN to standardize and then denoise sample read counts. \n",
    "\n",
    "This produces two files, the standardized copy ratios hcc1143_T_clean.standardizedCR.tsv and the denoised copy ratios hcc1143_T_clean.denoisedCR.tsv that each represents a data transformation. In the first transformation, the tool standardizes counts by the PoN median counts. The standarization includes log2 transformation and normalizing the counts data to center around one. In the second transformation, the tool denoises the standardized copy ratios using the principal components of the PoN."
   ]
  },
  {
   "cell_type": "markdown",
   "metadata": {},
   "source": [
    "In the single-sample-PoN case, the two results will be identical to each other, as the tool only performs standardization.  \n",
    "\n",
    "### Denoise Read Counts"
   ]
  },
  {
   "cell_type": "code",
   "execution_count": null,
   "metadata": {
    "colab": {},
    "colab_type": "code",
    "id": "QSgAk1TdgZQt",
    "scrolled": true
   },
   "outputs": [],
   "source": [
    "! gatk --java-options \"-Xmx7g -DGATK_STACKTRACE_ON_USER_EXCEPTION=true\" DenoiseReadCounts \\\n",
    "    -I /home/jupyter/notebooks/3-somatic-cna/cna_inputs/hcc1143_T_clean.counts.hdf5 \\\n",
    "    --count-panel-of-normals /home/jupyter/notebooks/3-somatic-cna/cna_inputs/cnaponC.pon.hdf5 \\\n",
    "    --standardized-copy-ratios /home/jupyter/notebooks/3-somatic-cna/sandbox/hcc1143_T_clean.standardizedCR.tsv \\\n",
    "    --denoised-copy-ratios /home/jupyter/notebooks/3-somatic-cna/sandbox/hcc1143_T_clean.denoisedCR.tsv"
   ]
  },
  {
   "cell_type": "code",
   "execution_count": null,
   "metadata": {
    "colab": {},
    "colab_type": "code",
    "id": "kT3aVbYwgZQv",
    "scrolled": true
   },
   "outputs": [],
   "source": [
    "! gatk --java-options \"-Xmx7g\" DenoiseReadCounts \\\n",
    "    -I /home/jupyter/notebooks/3-somatic-cna/cna_inputs/hcc1143_N_clean.counts.hdf5 \\\n",
    "    --count-panel-of-normals /home/jupyter/notebooks/3-somatic-cna/cna_inputs/cnaponC.pon.hdf5 \\\n",
    "    --standardized-copy-ratios /home/jupyter/notebooks/3-somatic-cna/sandbox/hcc1143_N_clean.standardizedCR.tsv \\\n",
    "    --denoised-copy-ratios /home/jupyter/notebooks/3-somatic-cna/sandbox/hcc1143_N_clean.denoisedCR.tsv"
   ]
  },
  {
   "cell_type": "markdown",
   "metadata": {
    "colab_type": "text",
    "id": "YNLfjo94gZQy"
   },
   "source": [
    "➤ Skim the stdout to get a sense of the data transformations during standardization vs. denoising. \n",
    "\n",
    "The tool uses the maximum number of eigensamples available in the PoN. Changing the `--number-of-eigensamples` in DenoiseReadCounts to lower values can change the resolution of results, i.e. how smooth segments are. Using a larger number of principal components will result in a higher level of denoising and a larger difference in the MADs. The level of denoising should be chosen with some care, as it will ultimately affect the sensitivity of the analysis.\n",
    "\n",
    "### Plot Denoised Copy Ratios \n",
    "Let's take a look at the data in its current state."
   ]
  },
  {
   "cell_type": "code",
   "execution_count": null,
   "metadata": {
    "colab": {},
    "colab_type": "code",
    "id": "FT1RQ-nQgZQy",
    "scrolled": true
   },
   "outputs": [],
   "source": [
    "! gatk PlotDenoisedCopyRatios \\\n",
    "    --standardized-copy-ratios /home/jupyter/notebooks/3-somatic-cna/sandbox/hcc1143_T_clean.standardizedCR.tsv \\\n",
    "    --denoised-copy-ratios /home/jupyter/notebooks/3-somatic-cna/sandbox/hcc1143_T_clean.denoisedCR.tsv \\\n",
    "    --sequence-dictionary /home/jupyter/notebooks/3-somatic-cna/ref/Homo_sapiens_assembly38.dict \\\n",
    "    --minimum-contig-length 46709983 \\\n",
    "    --output-prefix hcc1143_T_clean \\\n",
    "    -O /home/jupyter/notebooks/3-somatic-cna/sandbox/cna_plots"
   ]
  },
  {
   "cell_type": "markdown",
   "metadata": {
    "colab_type": "text",
    "id": "DCPATbWygZQ1"
   },
   "source": [
    "View the plot by running the cell below."
   ]
  },
  {
   "cell_type": "code",
   "execution_count": null,
   "metadata": {
    "colab_type": "text",
    "id": "l2pMaKDbgZQ3"
   },
   "outputs": [],
   "source": [
    "display(Image('/home/jupyter/notebooks/3-somatic-cna/sandbox/cna_plots/hcc1143_T_clean.denoised.png'))"
   ]
  },
  {
   "cell_type": "code",
   "execution_count": null,
   "metadata": {
    "colab": {},
    "colab_type": "code",
    "id": "EBIdkf2cgZQ3",
    "scrolled": true
   },
   "outputs": [],
   "source": [
    "! gatk PlotDenoisedCopyRatios \\\n",
    "    --standardized-copy-ratios /home/jupyter/notebooks/3-somatic-cna/sandbox/hcc1143_N_clean.standardizedCR.tsv \\\n",
    "    --denoised-copy-ratios /home/jupyter/notebooks/3-somatic-cna/sandbox/hcc1143_N_clean.denoisedCR.tsv \\\n",
    "    --sequence-dictionary /home/jupyter/notebooks/3-somatic-cna/ref/Homo_sapiens_assembly38.dict \\\n",
    "    --minimum-contig-length 46709983 \\\n",
    "    --output /home/jupyter/notebooks/3-somatic-cna/sandbox/cna_plots \\\n",
    "    --output-prefix hcc1143_N_clean"
   ]
  },
  {
   "cell_type": "markdown",
   "metadata": {
    "colab_type": "text",
    "id": "55IkhvKwgZQ5"
   },
   "source": [
    "View the plot by running the cell below."
   ]
  },
  {
   "cell_type": "code",
   "execution_count": null,
   "metadata": {
    "colab_type": "text",
    "id": "QN6lVAgOgZQ5",
    "scrolled": false
   },
   "outputs": [],
   "source": [
    "display(Image('/home/jupyter/notebooks/3-somatic-cna/sandbox/cna_plots/hcc1143_N_clean.denoised.png'))"
   ]
  },
  {
   "cell_type": "markdown",
   "metadata": {
    "colab_type": "text",
    "id": "qvogS6H2gZQ6"
   },
   "source": [
    "➤ Skim the stdout to get a sense of the data transformations during standardization and denoising. \n",
    "\n",
    "Each command produces two sets of data: plots and QC values. \n",
    "- In the plots, standardized copy ratios are shown in blue. Standardization involves median-centering and log-transformation. Denoised copy ratios are in green. Denoising is performed using the principal components of the PoN. \n",
    "- The QC values pertain to the median-absolute-deviation (MAD) in different contexts, including the change between standardized and denoised (.deltaMAD.txt)  and the change between the two scaled by the standardized MAD (.deltaScaledMAD.txt).\n",
    "\n",
    "| &nbsp; | &nbsp; |\n",
    "| --- | --- |\n",
    "| <img src=\"https://storage.googleapis.com/gatk-tutorials/images/3-somatic/somatic-cna-image2.png\" alt=\"drawing\" width=\"500\"/> | <img src=\"https://storage.googleapis.com/gatk-tutorials/images/3-somatic/somatic-cna-image3.png\" alt=\"drawing\" width=\"500\"/> |\n",
    "\n",
    "---\n"
   ]
  },
  {
   "cell_type": "markdown",
   "metadata": {
    "colab_type": "text",
    "id": "P_zaDWYhgZQ6"
   },
   "source": [
    "## Perform segmentation based on coverage alone"
   ]
  },
  {
   "cell_type": "markdown",
   "metadata": {
    "colab_type": "text",
    "id": "_BKkop40gZQ7"
   },
   "source": [
    "At the heart of the GATK4 CNA workflow is ModelSegments, a tool that groups contiguous copy ratios into segments. Either or both copy ratios and allelic copy ratios inform segmentation. So far, the tutorial has focused only on coverage data. So let's see what segmentation with coverage alone looks like.\n",
    "\n",
    "<img src=\"https://storage.googleapis.com/gatk-tutorials/images/3-somatic/somatic-cna-image7.July2019.png\" alt=\"drawing\" width=\"800\" align=\"left\" style=\"margin:0px 20px\"/> \n",
    "\n",
    "\n"
   ]
  },
  {
   "cell_type": "markdown",
   "metadata": {},
   "source": [
    "### Model segments on coverage alone "
   ]
  },
  {
   "cell_type": "code",
   "execution_count": null,
   "metadata": {
    "colab": {},
    "colab_type": "code",
    "id": "zEmxHN3WgZQ8"
   },
   "outputs": [],
   "source": [
    "! gatk --java-options \"-Xmx7g\" ModelSegments \\\n",
    "    --denoised-copy-ratios /home/jupyter/notebooks/3-somatic-cna/sandbox/hcc1143_T_clean.denoisedCR.tsv \\\n",
    "    --output /home/jupyter/notebooks/3-somatic-cna/sandbox  \\\n",
    "    --output-prefix hcc1143_T_clean"
   ]
  },
  {
   "cell_type": "code",
   "execution_count": null,
   "metadata": {
    "colab": {},
    "colab_type": "code",
    "id": "8HhNrrp0gZQ-"
   },
   "outputs": [],
   "source": [
    "! gatk --java-options \"-Xmx7g\" ModelSegments \\\n",
    "    --denoised-copy-ratios /home/jupyter/notebooks/3-somatic-cna/sandbox/hcc1143_N_clean.denoisedCR.tsv \\\n",
    "    --output /home/jupyter/notebooks/3-somatic-cna/sandbox  \\\n",
    "    --output-prefix hcc1143_N_clean"
   ]
  },
  {
   "cell_type": "markdown",
   "metadata": {
    "colab_type": "text",
    "id": "mwPPVzW7gZQ_"
   },
   "source": [
    "Each command produces nine files.\n",
    "\n",
    "### Plot Modeled Segments\n",
    "Let's see what modeling segments on coverage alone looks like. Here we provide a second plotting tool, PlotModeledSegments, with the denoised copy ratios (from DenoiseReadCounts), the segments (from ModelSegments), and the reference sequence dictionary. "
   ]
  },
  {
   "cell_type": "code",
   "execution_count": null,
   "metadata": {
    "colab": {},
    "colab_type": "code",
    "id": "X3H6cVz-gZRA",
    "scrolled": true
   },
   "outputs": [],
   "source": [
    "! gatk PlotModeledSegments \\\n",
    "    --denoised-copy-ratios /home/jupyter/notebooks/3-somatic-cna/sandbox/hcc1143_T_clean.denoisedCR.tsv \\\n",
    "    --segments /home/jupyter/notebooks/3-somatic-cna/sandbox/hcc1143_T_clean.modelFinal.seg \\\n",
    "    --sequence-dictionary /home/jupyter/notebooks/3-somatic-cna/ref/Homo_sapiens_assembly38.dict \\\n",
    "    --minimum-contig-length 46709983 \\\n",
    "    --output /home/jupyter/notebooks/3-somatic-cna/sandbox/cna_plots \\\n",
    "    --output-prefix hcc1143_T_clean"
   ]
  },
  {
   "cell_type": "markdown",
   "metadata": {
    "colab_type": "text",
    "id": "EPc6eaAqgZRC"
   },
   "source": [
    "View the plot generated from the previous command by running the Markdown cell below."
   ]
  },
  {
   "cell_type": "code",
   "execution_count": null,
   "metadata": {
    "colab_type": "text",
    "id": "9dj1JyOsgZRC",
    "scrolled": true
   },
   "outputs": [],
   "source": [
    "display(Image('/home/jupyter/notebooks/3-somatic-cna/sandbox/cna_plots/hcc1143_T_clean.modeled.png'))"
   ]
  },
  {
   "cell_type": "code",
   "execution_count": null,
   "metadata": {
    "colab": {},
    "colab_type": "code",
    "id": "Q6xbn8pdgZRD",
    "scrolled": true
   },
   "outputs": [],
   "source": [
    "! gatk PlotModeledSegments \\\n",
    "    --denoised-copy-ratios /home/jupyter/notebooks/3-somatic-cna/sandbox/hcc1143_N_clean.denoisedCR.tsv \\\n",
    "    --segments /home/jupyter/notebooks/3-somatic-cna/sandbox/hcc1143_N_clean.modelFinal.seg \\\n",
    "    --sequence-dictionary /home/jupyter/notebooks/3-somatic-cna/ref/Homo_sapiens_assembly38.dict \\\n",
    "    --minimum-contig-length 46709983 \\\n",
    "    --output /home/jupyter/notebooks/3-somatic-cna/sandbox/cna_plots \\\n",
    "    --output-prefix hcc1143_N_clean\n"
   ]
  },
  {
   "cell_type": "markdown",
   "metadata": {
    "colab_type": "text",
    "id": "tkAnmiyMgZRE"
   },
   "source": [
    "View the plot generated from the previous command by running the cell below."
   ]
  },
  {
   "cell_type": "code",
   "execution_count": null,
   "metadata": {
    "colab_type": "text",
    "id": "nic7uGRHgZRF",
    "scrolled": true
   },
   "outputs": [],
   "source": [
    "display(Image('/home/jupyter/notebooks/3-somatic-cna/sandbox/cna_plots/hcc1143_N_clean.modeled.png'))"
   ]
  },
  {
   "cell_type": "markdown",
   "metadata": {
    "colab_type": "text",
    "id": "hqu_4gLIgZRF"
   },
   "source": [
    "The command produces a plot with extension .modeled.png, where denoised copy ratios in alternate segments are colored in blue and orange and segment medians are drawn in black. For noisy data, box plots of the available posteriors for each segment become visible. \n",
    "\n",
    "<img src=\"https://storage.googleapis.com/gatk-tutorials/images/3-somatic/somatic-cna-image4.png\" alt=\"drawing\" width=\"900\"/>\n",
    "<img src=\"https://storage.googleapis.com/gatk-tutorials/images/3-somatic/somatic-cna-image5.png\" alt=\"drawing\" width=\"900\"/>\n",
    "\n",
    "➤ The tumor sample shows a lot of activity. Specifically, it has 235 segments. Is this surprising?\n",
    "➤ Focus on chr2 of the normal sample. How do you interpret its copy ratio of ~1.3? How about the ~0.9 copy ratio of chr6? \n",
    " \n",
    "At glance, segments appear to separate into roughly evenly spaced ratios, which represent absolute copy numbers, e.g. 1, 2, 3 and so on. Segments that fall between these likely represent subclonal populations. \n",
    "\n",
    "### (Optional) Call Copy Ratio Segments\n",
    "If you need callsets with amplifications (+), deletions (-) and neutral segments (0) clearly marked, then CallCopyRatioSegments can do this for you. These designations are appended as a new column to the segmented copy-ratio .cr.seg file from ModelSegments."
   ]
  },
  {
   "cell_type": "code",
   "execution_count": null,
   "metadata": {
    "colab": {},
    "colab_type": "code",
    "id": "ZczPF9hMgZRG",
    "scrolled": true
   },
   "outputs": [],
   "source": [
    "! gatk CallCopyRatioSegments \\\n",
    "    -I /home/jupyter/notebooks/3-somatic-cna/sandbox/hcc1143_T_clean.cr.seg \\\n",
    "    -O /home/jupyter/notebooks/3-somatic-cna/sandbox/hcc1143_T_clean.called.seg"
   ]
  },
  {
   "cell_type": "markdown",
   "metadata": {
    "colab_type": "text",
    "id": "3wId82XRgZRI"
   },
   "source": [
    "---\n",
    "# INCORPORATE ALLELIC DATA: MODELSEGMENTS CNA"
   ]
  },
  {
   "cell_type": "markdown",
   "metadata": {
    "colab_type": "text",
    "id": "PdPPc1gugZRJ"
   },
   "source": [
    "## Perform segmentation jointly with coverage and allelic data\n",
    "<img src=\"https://storage.googleapis.com/gatk-tutorials/images/3-somatic/somatic-cna-image8.July2019.png\" alt=\"drawing\" width=\"35%\" align=\"right\" style=\"margin:0px 20px\"/> We just saw what segmentation with coverage data alone looks like. But we can squeeze more juice out of the lemon! In this section, we will model segments using both allelic counts and coverage data for a matched-control case. \n",
    "\n",
    "➤ How do allelic counts improve the detection of copy alteration?\n",
    "\n",
    "Consider in normal germline sequencing, how it is we decide a site's genotype is heterozygous versus homozygous. For a site that is heterozygous, that presents two alleles for a diploid sample, the confidence that the sample has at least two chromosomes is high. A hundred heterozygous sites adjacent to each other becomes strong evidence towards the multi-copy number state of the genomic interval. "
   ]
  },
  {
   "cell_type": "markdown",
   "metadata": {
    "colab_type": "text",
    "id": "PdPPc1gugZRJ"
   },
   "source": [
    "<img src=\"https://storage.googleapis.com/gatk-tutorials/images/3-somatic/somatic-cna-image2.July2019.png\" alt=\"drawing\" width=\"50%\" align=\"right\" style=\"margin:20px 20px\"/>We can extend this concept further towards detection of a type of zygosity that has implications for cancer. We can take allele counts for sites that are commonly variant in the population. For sites where the normal control is heterozygous, if the tumor sample is homozygous, then we can deduce the tumor underwent loss of heterozygosity (LOH) for the allele. With a string of adjacent LOH sites, we can be confident of an LOH segment. Here, either the tumor simply lost the chromosome segment or underwent a slightly more complicated event called copy-neutral LOH (cnLOH). Coverage data can offer clues towards deducing which type of loss is likely.   \n",
    "\n",
    "Note it is possible to use allelic counts alone with ModelSegments. Furthermore, the tool will model segments for either a matched case or for a case sample alone. The latter can be useful in revealing clonal subpopulations. \n",
    "\n",
    "### Collect allelic counts from pileups (chr17 data)\n",
    "CollectAllelicCounts tabulates counts of the reference allele and counts of the dominant alternate allele for sites in a given genomic intervals list. The tool filters out reads with MAPQ below 30 and discounts bases with base quality less than 20.\n",
    " \n",
    "We perform this step on the chr17 subset data. In later steps, we will use precomputed results from the full data. Here, theta_snps_paddedC_chr17.vcf.gz contains lifted-over gnomAD SNPs-only sites subset to the padded target regions from section 1. "
   ]
  },
  {
   "cell_type": "code",
   "execution_count": null,
   "metadata": {
    "colab": {},
    "colab_type": "code",
    "id": "ZZ3aGgAjgZRK",
    "scrolled": true
   },
   "outputs": [],
   "source": [
    "! gatk CollectAllelicCounts \\\n",
    "    -L gs://gatk-tutorials/$WORKSHOP/3-somatic/resources/theta_snps_paddedC_chr17.vcf.gz \\\n",
    "    -I gs://gatk-tutorials/$WORKSHOP/3-somatic/bams/tumor.bam \\\n",
    "    -R gs://gatk-tutorials/$WORKSHOP/3-somatic/ref/Homo_sapiens_assembly38.fasta \\\n",
    "    -O /home/jupyter/notebooks/3-somatic-cna/sandbox/hcc1143_T_clean.allelicCounts.tsv"
   ]
  },
  {
   "cell_type": "code",
   "execution_count": null,
   "metadata": {
    "colab": {},
    "colab_type": "code",
    "id": "73rx4dwYgZRL",
    "scrolled": true
   },
   "outputs": [],
   "source": [
    "! gatk CollectAllelicCounts \\\n",
    "    -L gs://gatk-tutorials/$WORKSHOP/3-somatic/resources/theta_snps_paddedC_chr17.vcf.gz \\\n",
    "    -I gs://gatk-tutorials/$WORKSHOP/3-somatic/bams/normal.bam \\\n",
    "    -R gs://gatk-tutorials/$WORKSHOP/3-somatic/ref/Homo_sapiens_assembly38.fasta \\\n",
    "    -O /home/jupyter/notebooks/3-somatic-cna/sandbox/hcc1143_N_clean.allelicCounts.tsv"
   ]
  },
  {
   "cell_type": "markdown",
   "metadata": {},
   "source": [
    "The resulting tables notate the read counts for REF and ALT as well as the REF allele and the ALT allele for every site provided in the intervals list.\n",
    "\n",
    "➤ For sites lacking ALT allele counts, what is in the field for ALT_NUCLEOTIDE?"
   ]
  },
  {
   "cell_type": "code",
   "execution_count": null,
   "metadata": {
    "scrolled": true
   },
   "outputs": [],
   "source": [
    "!grep -v ^@ /home/jupyter/notebooks/3-somatic-cna/sandbox/hcc1143_N_clean.allelicCounts.tsv | head \n"
   ]
  },
  {
   "cell_type": "markdown",
   "metadata": {
    "colab_type": "text",
    "id": "kV8h-ESzgZRN"
   },
   "source": [
    "\n",
    "\n",
    "### Model segments jointly on coverage and allelic data (full data)  \n",
    "In this step, the full spectrum of data converge. We provide precomputed allelic counts from the cna_inputs folder and tumor denoised read counts. Here we use default parameters. Adjusting tool parameters can change the resolution and smoothness of the segmentation results and we recommend researchers tune the parameters for their data.\n",
    "\n",
    "It is useful to have the matched normal in this case because it makes it easier to detect real heterozygous SNPs.  (Location and counts)"
   ]
  },
  {
   "cell_type": "code",
   "execution_count": null,
   "metadata": {
    "colab": {},
    "colab_type": "code",
    "id": "67xxr76agZRO",
    "scrolled": true
   },
   "outputs": [],
   "source": [
    "! gatk --java-options \"-Xmx7g\" ModelSegments \\\n",
    "    --denoised-copy-ratios /home/jupyter/notebooks/3-somatic-cna/sandbox/hcc1143_T_clean.denoisedCR.tsv \\\n",
    "    --allelic-counts /home/jupyter/notebooks/3-somatic-cna/cna_inputs/hcc1143_T_clean.allelicCounts.tsv \\\n",
    "    --normal-allelic-counts /home/jupyter/notebooks/3-somatic-cna/cna_inputs/hcc1143_N_clean.allelicCounts.tsv \\\n",
    "    --output /home/jupyter/notebooks/3-somatic-cna/sandbox \\\n",
    "    --output-prefix hcc1143_TN_clean"
   ]
  },
  {
   "cell_type": "markdown",
   "metadata": {
    "colab_type": "text",
    "id": "bIxdaXAMgZRQ"
   },
   "source": [
    "➤ Skim the stdout to get a sense of the preprocessing and analysis. The tool filters sites with total allelic counts less than how many? How many control heterozygous sites does the tool retain? Does the tool then use all of these towards the joint analysis?  \n",
    "➤ How many segments does the MultidimensionalKernelSegmenter initially find? After smoothing, how many final segments are there? \n",
    "\n",
    "The step produces eleven files. See [ModelSegments tool documentation](https://gatk.broadinstitute.org/hc/en-us/articles/4405451294747-ModelSegments) for details. Of note, we have two files with .hets. in the extension, .hets.normal.tsv and .hets.tsv. The former contains the normal control's heterozygous sites. The latter contains the tumor's allele counts for the normal's heterozygous sites. Finally, the .modelFinal.seg file contains the segmentation results.\n",
    "\n",
    "### Plot coverage copy ratios and alternate allele fractions \n",
    "We provide PlotModeledSegments the case sample's denoised copy ratios, .hets allele counts, and final segmentation results. \n",
    "<img src=\"https://storage.googleapis.com/gatk-tutorials/images/3-somatic/somatic-cna-image9.July2019.png\" alt=\"drawing\" width=\"50%\" style=\"margin:20px 20px\"/>\n"
   ]
  },
  {
   "cell_type": "code",
   "execution_count": null,
   "metadata": {
    "colab": {},
    "colab_type": "code",
    "id": "XEt2Y4mugZRQ",
    "scrolled": true
   },
   "outputs": [],
   "source": [
    "! gatk PlotModeledSegments \\\n",
    "    --denoised-copy-ratios /home/jupyter/notebooks/3-somatic-cna/sandbox/hcc1143_T_clean.denoisedCR.tsv \\\n",
    "    --allelic-counts /home/jupyter/notebooks/3-somatic-cna/sandbox/hcc1143_TN_clean.hets.tsv \\\n",
    "    --segments /home/jupyter/notebooks/3-somatic-cna/sandbox/hcc1143_TN_clean.modelFinal.seg \\\n",
    "    --sequence-dictionary /home/jupyter/notebooks/3-somatic-cna/ref/Homo_sapiens_assembly38.dict \\\n",
    "    --minimum-contig-length 46709983 \\\n",
    "    --output /home/jupyter/notebooks/3-somatic-cna/sandbox/cna_plots \\\n",
    "    --output-prefix hcc1143_TN_clean"
   ]
  },
  {
   "cell_type": "markdown",
   "metadata": {
    "colab_type": "text",
    "id": "szHPFacVgZRS"
   },
   "source": [
    "View the plot generated from the previous command by running the cell below."
   ]
  },
  {
   "cell_type": "code",
   "execution_count": null,
   "metadata": {
    "colab_type": "text",
    "id": "ata8j1NVgZRT"
   },
   "outputs": [],
   "source": [
    "display(Image('/home/jupyter/notebooks/3-somatic-cna/sandbox/cna_plots/hcc1143_TN_clean.modeled.png'))"
   ]
  },
  {
   "cell_type": "markdown",
   "metadata": {
    "colab_type": "text",
    "id": "AM1UupB6gZRT"
   },
   "source": [
    "This produces a file with two plots, each with 398 segments. The top plot shows segmented copy ratios and the bottom plot shows segmented alternate-allele fractions. Box plots for the major and minor allele fractions mark the 10th, 50th and 90th percentile credible intervals. Vertical streaks appear for very short segments as fewer supporting data points make estimates more uncertain.\n",
    "<img src=\"https://storage.googleapis.com/gatk-tutorials/images/3-somatic/somatic-cna-image6.png\" alt=\"drawing\" width=\"900\"/>\n",
    "➤ What do the allelic segments at 0 and 1 indicate? For example, at chr4, chr5 and chr17?\n",
    "\n",
    "---"
   ]
  },
  {
   "cell_type": "markdown",
   "metadata": {
    "colab_type": "text",
    "id": "AX3FoS22gZRU"
   },
   "source": [
    "## Perform segmentation with allelic data alone\n",
    "Perform one final comparison. Run ModelSegments and PlotModeledSegments for the matched-case using allelic data alone. \n"
   ]
  },
  {
   "cell_type": "code",
   "execution_count": null,
   "metadata": {
    "colab": {},
    "colab_type": "code",
    "id": "bGuMNL4vgZRU",
    "scrolled": true
   },
   "outputs": [],
   "source": [
    "! gatk --java-options \"-Xmx7g\" ModelSegments \\\n",
    "    --allelic-counts /home/jupyter/notebooks/3-somatic-cna/cna_inputs/hcc1143_T_clean.allelicCounts.tsv \\\n",
    "    --normal-allelic-counts /home/jupyter/notebooks/3-somatic-cna/cna_inputs/hcc1143_N_clean.allelicCounts.tsv \\\n",
    "    --output /home/jupyter/notebooks/3-somatic-cna/sandbox \\\n",
    "    --output-prefix hcc1143_TN_allelic"
   ]
  },
  {
   "cell_type": "code",
   "execution_count": null,
   "metadata": {
    "colab": {},
    "colab_type": "code",
    "id": "gpGTbb5YgZRW",
    "scrolled": true
   },
   "outputs": [],
   "source": [
    "! gatk PlotModeledSegments \\\n",
    "    --allelic-counts /home/jupyter/notebooks/3-somatic-cna/sandbox/hcc1143_TN_allelic.hets.tsv \\\n",
    "    --segments /home/jupyter/notebooks/3-somatic-cna/sandbox/hcc1143_TN_allelic.modelFinal.seg \\\n",
    "    --sequence-dictionary /home/jupyter/notebooks/3-somatic-cna/ref/Homo_sapiens_assembly38.dict \\\n",
    "    --minimum-contig-length 46709983 \\\n",
    "    --output /home/jupyter/notebooks/3-somatic-cna/sandbox/cna_plots \\\n",
    "    --output-prefix hcc1143_TN_allelic"
   ]
  },
  {
   "cell_type": "markdown",
   "metadata": {
    "colab_type": "text",
    "id": "7xXgIWTWgZRX"
   },
   "source": [
    "View the plot generated from the previous command by running the cell below."
   ]
  },
  {
   "cell_type": "code",
   "execution_count": null,
   "metadata": {
    "colab_type": "text",
    "id": "QggiD6xsgZRY",
    "scrolled": true
   },
   "outputs": [],
   "source": [
    "display(Image('/home/jupyter/notebooks/3-somatic-cna/sandbox/cna_plots/hcc1143_TN_allelic.modeled.png'))"
   ]
  },
  {
   "cell_type": "markdown",
   "metadata": {
    "colab_type": "text",
    "id": "Y4kAXSwbgZRY"
   },
   "source": [
    "This produces an allelic ratios plot with 105 segments. \n",
    "<img src=\"https://storage.googleapis.com/gatk-tutorials/images/3-somatic/somatic-cna-image7.png\" alt=\"drawing\" width=\"900\"/>\n",
    "➤ This is ~4x less segments than the CR + allelic analysis, and ~2x less than the 235 segments from the copy ratios alone. How do you explain such differences? \n",
    "\n",
    "Remember that joint calling groups contiguous segments with the same copy ratio and the same minor allele fraction, for high-resolution results. Finally, remember that the CNA workflow produces copy ratios and not copy numbers. GATK is developing a tool to call absolute somatic copy numbers. For germline absolute copy number detection, see GATK4's [GermlineCNVCaller](https://gatk.broadinstitute.org/hc/en-us/articles/4405451329179-GermlineCNVCaller). "
   ]
  },
  {
   "cell_type": "code",
   "execution_count": null,
   "metadata": {
    "colab": {},
    "colab_type": "code",
    "id": "YUG7jBQXgZRZ"
   },
   "outputs": [],
   "source": []
  }
 ],
 "metadata": {
  "colab": {
   "name": "Copy of 2-somatic-cna-tutorial.ipynb",
   "provenance": [
    {
     "file_id": "1Mq1TdSLhOasgxxz-CIDgeZlA_sKdotTs",
     "timestamp": 1560256061207
    }
   ],
   "toc_visible": true,
   "version": "0.3.2"
  },
  "kernelspec": {
   "display_name": "Python 3",
   "language": "python",
   "name": "python3"
  },
  "language_info": {
   "codemirror_mode": {
    "name": "ipython",
    "version": 3
   },
   "file_extension": ".py",
   "mimetype": "text/x-python",
   "name": "python",
   "nbconvert_exporter": "python",
   "pygments_lexer": "ipython3",
   "version": "3.7.10"
  },
  "toc": {
   "base_numbering": 1,
   "nav_menu": {
    "height": "150px",
    "width": "161px"
   },
   "number_sections": true,
   "sideBar": true,
   "skip_h1_title": false,
   "title_cell": "Table of Contents",
   "title_sidebar": "Contents",
   "toc_cell": false,
   "toc_position": {
    "height": "calc(100% - 180px)",
    "left": "10px",
    "top": "150px",
    "width": "316.181px"
   },
   "toc_section_display": true,
   "toc_window_display": true
  }
 },
 "nbformat": 4,
 "nbformat_minor": 1
}
