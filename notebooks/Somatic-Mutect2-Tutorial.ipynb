{
 "cells": [
  {
   "cell_type": "markdown",
   "metadata": {
    "colab_type": "text",
    "id": "f-8KIM_A-GZ0"
   },
   "source": [
    "# GATK Mutect2 Tutorial <a class=\"tocSkip\">\n",
    "\n",
    "**February 2020**\n",
    "\n",
    "<img src=\"https://storage.googleapis.com/gatk-tutorials/images/3-somatic/GATK_Mutect2_V4.1_042319_lg.png\" width=\"50%\" align=\"left\" style=\"margin:0px 20px\"/><font size =4>In this hands-on tutorial, we will call somatic short mutations, both single nucleotide and indels, using GATK4 Mutect2 and FilterMutectCalls. </font>\n",
    "\n",
    "Example data are based on a breast cancer cell line and its matched normal cell line derived from blood. Both cell lines are consented and known as HCC1143 and HCC1143_BL (blood normal), respectively and  are 2x76 paired end whole exome sequences aligned to GRCh38. \n",
    "\n",
    "_This tutorial was last tested with the GATK v4.1.4.1 and IGV v2.8.0._ \n",
    "See [GATK Tool Documentation](https://gatk.broadinstitute.org/hc/en-us/articles/360037224712) for further information on the tools we use below. For a primer on somatic calling, [read here](https://gatk.broadinstitute.org/hc/en-us/articles/360035890491).\n",
    "\n"
   ]
  },
  {
   "cell_type": "markdown",
   "metadata": {
    "colab_type": "text",
    "id": "X8L1HitBf_BH"
   },
   "source": [
    "# Set up your Notebook\n",
    "## Set runtime values\n",
    "If you are opening a notebook for the first time today and you didn't adjust any runtime values, now's the time to edit them. Click on the gear icon in the upper right to edit your Notebook Runtime. Set the values as specified below:\n",
    "\n",
    "| Option | Value |\n",
    "| ------ | ------ |\n",
    "| Environment | Default |\n",
    "| Profile | Custom |\n",
    "| CPU | 4 |\n",
    "| Disk size | 100 GB |\n",
    "| Memory | 15 GB |\n",
    "\n",
    "Click the \"Update\" button when you are done, and Terra will begin to create a new runtime with your settings. When it is finished, it will pop up asking you to apply the new settings.\n",
    "\n",
    "## Check kernel type\n",
    "A kernel is a _computational engine_ that executes the code in the notebook. For this particular notebook, we will be using a Python 3 kernel so we can execute GATK commands using _Python Magic_ (`!`). In the upper right corner of the notebook, just under the Notebook Runtime, it should say `Python3`. If this notebook isn't running a Python 3 kernel, you can switch it by navigating to the Kernel menu and selecting `Change kernel`.\n",
    "\n",
    "## Set up your files\n",
    "Your notebook has a temporary folder that exists so long as your cluster is running. To see what files are in your notebook environment at any time, you can click on the Jupyter logo in the upper left corner. \n",
    "\n",
    "For this tutorial, we need to copy some files from this temporary folder to and from our workspace bucket. Run the two commands below to set up the workspace bucket variable and the file paths inside your notebook.\n",
    "\n",
    "<font color = \"green\"> **Tool Tip:** To run a cell in a notebook, press `SHIFT + ENTER`</font>"
   ]
  },
  {
   "cell_type": "code",
   "execution_count": null,
   "metadata": {
    "colab": {},
    "colab_type": "code",
    "id": "KTQl3KSAf_BI"
   },
   "outputs": [],
   "source": [
    "# Set your workspace bucket variable for this notebook.\n",
    "import os\n",
    "BUCKET = os.environ['WORKSPACE_BUCKET']"
   ]
  },
  {
   "cell_type": "code",
   "execution_count": null,
   "metadata": {},
   "outputs": [],
   "source": [
    "# Set workshop variable to access the most recent materials\n",
    "WORKSHOP = \"workshop_2002\""
   ]
  },
  {
   "cell_type": "code",
   "execution_count": null,
   "metadata": {
    "colab": {},
    "colab_type": "code",
    "id": "l1IwoZmZf_BL"
   },
   "outputs": [],
   "source": [
    "# Create directories for your files to live inside this notebook\n",
    "!mkdir -p /home/jupyter-user/notebooks/sandbox"
   ]
  },
  {
   "cell_type": "markdown",
   "metadata": {
    "colab_type": "text",
    "id": "HlLC1l9Vf_BN"
   },
   "source": [
    "## Check data permissions\n",
    "For this tutorial, we have hosted the starting files in a public Google bucket. We will first check that the data is available to your user account, and if it is not, we simply need to install Google Cloud Storage."
   ]
  },
  {
   "cell_type": "code",
   "execution_count": null,
   "metadata": {
    "colab": {},
    "colab_type": "code",
    "id": "ZtHpNmsZf_BO"
   },
   "outputs": [],
   "source": [
    "# Check if data is accessible. The command should list several gs:// URLs.\n",
    "! gsutil ls gs://gatk-tutorials/$WORKSHOP/3-somatic/"
   ]
  },
  {
   "cell_type": "code",
   "execution_count": null,
   "metadata": {
    "colab": {},
    "colab_type": "code",
    "id": "-joX6PUtf_BQ"
   },
   "outputs": [],
   "source": [
    "# If you do not see gs:// URLs listed above, run this cell to install Google Cloud Storage. \n",
    "# Afterwards, restart the kernel with Kernel > Restart.\n",
    "#! pip install google-cloud-storage"
   ]
  },
  {
   "cell_type": "markdown",
   "metadata": {
    "colab_type": "text",
    "id": "l-Wsiho7f_BS"
   },
   "source": [
    "## Download Data to the Notebook \n",
    "Some tools are not able to read directly from a Google bucket, so we download their files to our local notebook folder."
   ]
  },
  {
   "cell_type": "code",
   "execution_count": null,
   "metadata": {
    "colab": {},
    "colab_type": "code",
    "id": "ktMupRBOf_BT",
    "scrolled": true
   },
   "outputs": [],
   "source": [
    "!gsutil -m cp -r gs://gatk-tutorials/$WORKSHOP/3-somatic/bams /home/jupyter-user/notebooks/\n",
    "!gsutil -m cp -r gs://gatk-tutorials/$WORKSHOP/3-somatic/ref /home/jupyter-user/notebooks/\n",
    "!gsutil -m cp -r gs://gatk-tutorials/$WORKSHOP/3-somatic/resources /home/jupyter-user/notebooks/\n",
    "!gsutil -m cp -r gs://gatk-tutorials/$WORKSHOP/3-somatic/mutect2_precomputed /home/jupyter-user/notebooks/"
   ]
  },
  {
   "cell_type": "markdown",
   "metadata": {
    "colab_type": "text",
    "id": "9eAoay1hf_BV"
   },
   "source": [
    "## Set up Integrative Genomics Viewer (IGV)\n",
    "We will be using IGV in this tutorial to view BAM and VCF files. In order to do so without downloading each individual file, we will connect IGV with our google account.\n",
    "- [Download IGV](https://software.broadinstitute.org/software/igv/download) to your local machine if you haven't already done so.\n",
    "- Follow [these instructions](https://googlegenomics.readthedocs.io/en/latest/use_cases/browse_genomic_data/igv.html) to connect your Google account to IGV.\n"
   ]
  },
  {
   "cell_type": "markdown",
   "metadata": {
    "colab_type": "text",
    "id": "N9BVUzTuAgWn"
   },
   "source": [
    "------\n",
    "\n",
    "# CALL SOMATIC SNV & INDELS WITH MUTECT2"
   ]
  },
  {
   "cell_type": "markdown",
   "metadata": {
    "colab_type": "text",
    "id": "RepDe-BKDdeI"
   },
   "source": [
    "## Call somatic SNVs and indels and generate a BAMOUT\n",
    "\n",
    "We start by calling somatic short mutations on our HCC1143 tumor sample and matched normal using Mutect2. This command produces:\n",
    "\n",
    "1. A raw unfiltered somatic callset restricted to the specified intervals list\n",
    "2. A BAM containing reassembled alignments \n",
    "3. Mutect stats file named `/home/jupyter-user/notebooks/sandbox/1_somatic_m2.vcf.gz.stats`"
   ]
  },
  {
   "cell_type": "code",
   "execution_count": null,
   "metadata": {
    "colab": {},
    "colab_type": "code",
    "id": "8-6qq6qrBk5s",
    "scrolled": true
   },
   "outputs": [],
   "source": [
    "!gatk Mutect2 \\\n",
    "     -R /home/jupyter-user/notebooks/ref/Homo_sapiens_assembly38.fasta \\\n",
    "     -I /home/jupyter-user/notebooks/bams/tumor.bam \\\n",
    "     -I /home/jupyter-user/notebooks/bams/normal.bam \\\n",
    "     -normal HCC1143_normal \\\n",
    "     -pon /home/jupyter-user/notebooks/resources/chr17_m2pon.vcf.gz \\\n",
    "     --germline-resource /home/jupyter-user/notebooks/resources/chr17_af-only-gnomad_grch38.vcf.gz \\\n",
    "     -L /home/jupyter-user/notebooks/resources/chr17plus.interval_list \\\n",
    "     -O /home/jupyter-user/notebooks/sandbox/1_somatic_m2.vcf.gz \\\n",
    "     -bamout /home/jupyter-user/notebooks/sandbox/2_tumor_normal_m2.bam"
   ]
  },
  {
   "cell_type": "markdown",
   "metadata": {
    "colab_type": "text",
    "id": "Vlw3wb_GCBDH"
   },
   "source": [
    "**➤ What is the value of using a matched normal control?**"
   ]
  },
  {
   "cell_type": "markdown",
   "metadata": {
    "colab_type": "text",
    "id": "nZ0r3Wf2D7Jt"
   },
   "source": [
    "<img style=\"float: right; margin:0px 20px\" src=\"https://storage.googleapis.com/gatk-tutorials/images/3-somatic/Matchednormal.png\" width=\"20%\" />**Mutect2 uses the matched normal** to additionally **exclude rare germline variation** not captured by the germline resource and individual-specific artifacts. \n",
    "\n",
    "**Mutect2 uses a germline population resource** towards evidence of alleles being germline. The simplified sites-only [gnomAD](http://gnomad.broadinstitute.org/) resource retaining allele-specific frequencies is available at <ftp://gsapubftp-anonymous@ftp.broadinstitute.org/bundle/Mutect2>. \n",
    "\n",
    "**A panel of normals (PoN)** has a vital role that fills a gap between the matched normal and the population resource. Mutect2 uses the PoN to catch additional **sites of noise in sequencing data**, like mapping artifacts or other somewhat random but systematic artifacts of sequencing and data processing. "
   ]
  },
  {
   "cell_type": "markdown",
   "metadata": {
    "colab_type": "text",
    "id": "BP9p9-roEv6n"
   },
   "source": [
    "\n",
    "\n",
    "##  Make a panel of normals (PoN)\n",
    "\n",
    "The PoN used here was made using GATK4.beta.6 with **40 exome samples** aligned to GRCh38 from the [1000 Genomes Project](http://www.internationalgenome.org/). Ideally, the PoN should include **technically similar samples that were sequenced on the same platform**, e.g. HiSeqX, using the same chemistry and analyzed using the same reference genome and tool-chain. However, **even an unmatched PoN is better than no PoN at all**. This is because mapping artifacts and polymerase slippage errors occur for pretty much the same genomic loci for short read sequencing approaches."
   ]
  },
  {
   "cell_type": "markdown",
   "metadata": {
    "colab_type": "text",
    "id": "fmMEwVxcXxPq"
   },
   "source": [
    "**To make your own PoN:** \n",
    "\n",
    "The tumor-only mode command below takes an extremely long time to run, so we are not doing it today.  To run it at a later date/time you will need 40 normals to pass into the initial step, but the command structure for all three steps is given below."
   ]
  },
  {
   "cell_type": "markdown",
   "metadata": {
    "colab_type": "text",
    "id": "4o2mghnLf_Bc"
   },
   "source": [
    "1) Run Mutect2 in tumor-only mode on each normal BAM individually,\n",
    "```\n",
    "!gatk Mutect2 -R reference.fasta -I normal1.bam --max-mnp-distance 0 -O normal1.vcf.gz \n",
    "!gatk Mutect2 -R reference.fasta -I normal2.bam --max-mnp-distance 0 -O normal2.vcf.gz \n",
    "...\n",
    "!gatk Mutect2 -R reference.fasta -I normal40.bam --max-mnp-distance 0 -O normal40.vcf.gz \n",
    "```"
   ]
  },
  {
   "cell_type": "markdown",
   "metadata": {
    "colab_type": "text",
    "id": "zcWs5yXXf_Bd"
   },
   "source": [
    "2) Create a GenomicsDB from the normal Mutect2 calls,\n",
    "```\n",
    "!gatk GenomicsDBImport -R reference.fasta -L intervals.interval_list \\\n",
    "  --genomicsdb-workspace-path pon_db \\\n",
    "  -V normal1.vcf.gz \\\n",
    "  -V normal2.vcf.gz \\\n",
    "  ...\n",
    "  -V normal40.vcf.gz\n",
    "```"
   ]
  },
  {
   "cell_type": "markdown",
   "metadata": {
    "colab_type": "text",
    "id": "GsCaWkypf_Bd"
   },
   "source": [
    "3) and then Combine the normal calls using CreateSomaticPanelOfNormals.\n",
    "\n",
    "```\n",
    "!gatk CreateSomaticPanelOfNormals -R reference.fasta \\\n",
    "  --germline-resource af-only-gnomad.vcf.gz \\\n",
    "  -V gendb://pon_db \\\n",
    "  -O pon.vcf.gz\n",
    "```"
   ]
  },
  {
   "cell_type": "markdown",
   "metadata": {
    "colab_type": "text",
    "id": "iLLMsfN9hXVc"
   },
   "source": [
    "---\n",
    "\n",
    "#  FILTER FOR CONFIDENT SOMATIC CALLS\n",
    "\n",
    "In section 2.1, we generated an unfiltered Mutect2 callset. Now, we will use filtering tools to identify which mutation candidates are likely to be real somatic mutations.\n",
    "\n"
   ]
  },
  {
   "cell_type": "markdown",
   "metadata": {
    "colab_type": "text",
    "id": "6ovnBYBlh45A"
   },
   "source": [
    "\n",
    "\n",
    "## Estimate cross-sample contamination \n",
    "\n",
    "We estimate cross-sample contamination with two tools `GetPileupSummaries` and `CalculateContamination`. \n"
   ]
  },
  {
   "cell_type": "markdown",
   "metadata": {
    "colab_type": "text",
    "id": "SOZsSee9iAap"
   },
   "source": [
    "### Run `GetPileupSummaries` to summarize read support for a set number of known variant sites. \n",
    "\n",
    "\n",
    "The tool tabulates read counts that support REF, ALT and OTHER alleles for the sites in the resource. This involves a known germline variant resource to **limit analysis to sites that are commonly variant**. Use a population germline resource containing only common biallelic variants\n",
    "\n",
    "Here we use a human population germline resource, [gnomAD]( http://gnomad.broadinstitute.org/). Let's run the tool on the tumor and the normal."
   ]
  },
  {
   "cell_type": "code",
   "execution_count": null,
   "metadata": {
    "colab": {},
    "colab_type": "code",
    "id": "Ygt9psaFijdQ",
    "scrolled": true
   },
   "outputs": [],
   "source": [
    "# Run on Tumor samples\n",
    "!gatk GetPileupSummaries \\\n",
    "    -I /home/jupyter-user/notebooks/bams/tumor.bam \\\n",
    "    -V /home/jupyter-user/notebooks/resources/chr17_small_exac_common_3_grch38.vcf.gz \\\n",
    "    -L /home/jupyter-user/notebooks/resources/chr17_small_exac_common_3_grch38.vcf.gz \\\n",
    "    -O /home/jupyter-user/notebooks/sandbox/7_tumor_getpileupsummaries.table"
   ]
  },
  {
   "cell_type": "code",
   "execution_count": null,
   "metadata": {
    "colab": {},
    "colab_type": "code",
    "id": "M3bnWCBsipkL",
    "scrolled": true
   },
   "outputs": [],
   "source": [
    "# Run on Normal samples\n",
    "!gatk GetPileupSummaries \\\n",
    "    -I /home/jupyter-user/notebooks/bams/normal.bam \\\n",
    "    -V /home/jupyter-user/notebooks/resources/chr17_small_exac_common_3_grch38.vcf.gz \\\n",
    "    -L /home/jupyter-user/notebooks/resources/chr17_small_exac_common_3_grch38.vcf.gz \\\n",
    "    -O /home/jupyter-user/notebooks/sandbox/7_normal_getpileupsummaries.table"
   ]
  },
  {
   "cell_type": "markdown",
   "metadata": {
    "colab_type": "text",
    "id": "A8AybONxiJsJ"
   },
   "source": [
    "\n",
    "Each command produces a six-column table as shown. The `alt_count` is the count of reads that support the ALT allele in the germline resource. The `allele_frequency` corresponds to that given in the germline resource. Counts for `other_alt_count` refer to reads that support all other alleles.\n"
   ]
  },
  {
   "cell_type": "code",
   "execution_count": null,
   "metadata": {
    "colab": {},
    "colab_type": "code",
    "id": "OCyYeLaDSuL1"
   },
   "outputs": [],
   "source": [
    "!head /home/jupyter-user/notebooks/sandbox/7_tumor_getpileupsummaries.table"
   ]
  },
  {
   "cell_type": "code",
   "execution_count": null,
   "metadata": {
    "colab": {},
    "colab_type": "code",
    "id": "p50vZcz7YVu4"
   },
   "outputs": [],
   "source": [
    "!head /home/jupyter-user/notebooks/sandbox/7_normal_getpileupsummaries.table"
   ]
  },
  {
   "cell_type": "markdown",
   "metadata": {
    "colab_type": "text",
    "id": "0M7_OdaPWvEA"
   },
   "source": [
    "The tool considers *homozygous-variant* sites in the sample where the alternate allele frequency (AF) in the population resource ranges between 0.01 and 0.2. This range is adjustable. We can expect a lot of contamination by alternate alleles at sites where the alternate AF is large, so those sites wouldn't tell us much. Conversely, at homozygous-alternate sites where the variant allele is rare in the population, we are more likely to observe the presence of REF or other alleles if there was cross-sample contamination, and therefore we will be able to measure contamination more accurately.\n",
    "\n"
   ]
  },
  {
   "cell_type": "markdown",
   "metadata": {
    "colab_type": "text",
    "id": "rnUIU7W6i4LQ"
   },
   "source": [
    "### Estimate contamination with `CalculateContamination`.\n",
    "\n",
    "The tool gives the fraction contamination. This estimation informs downstream filtering by FilterMutectCalls. "
   ]
  },
  {
   "cell_type": "code",
   "execution_count": null,
   "metadata": {
    "colab": {},
    "colab_type": "code",
    "id": "Gj92kJ1zj9UX",
    "scrolled": true
   },
   "outputs": [],
   "source": [
    "!gatk CalculateContamination \\\n",
    "    -I /home/jupyter-user/notebooks/sandbox/7_tumor_getpileupsummaries.table \\\n",
    "    -tumor-segmentation /home/jupyter-user/notebooks/sandbox/segments.table \\\n",
    "    -O /home/jupyter-user/notebooks/sandbox/8_tumor_calculatecontamination.table"
   ]
  },
  {
   "cell_type": "markdown",
   "metadata": {
    "colab_type": "text",
    "id": "2F8YksrWj3t8"
   },
   "source": [
    "Let's also try out an additional feature of the tool. We can provide both the tumor and the matched normal pileup table. The pairing can allow for a slightly more accurate estimate. "
   ]
  },
  {
   "cell_type": "code",
   "execution_count": null,
   "metadata": {
    "colab": {},
    "colab_type": "code",
    "id": "Opwp8OsBkdlS",
    "scrolled": true
   },
   "outputs": [],
   "source": [
    "!gatk CalculateContamination \\\n",
    "    -I /home/jupyter-user/notebooks/sandbox/7_tumor_getpileupsummaries.table \\\n",
    "    -matched /home/jupyter-user/notebooks/sandbox/7_normal_getpileupsummaries.table \\\n",
    "    -tumor-segmentation /home/jupyter-user/notebooks/sandbox/segments.table \\\n",
    "    -O /home/jupyter-user/notebooks/sandbox/8_pair_calculatecontamination.table "
   ]
  },
  {
   "cell_type": "markdown",
   "metadata": {
    "colab_type": "text",
    "id": "p4Bb5JHikKCd"
   },
   "source": [
    "The resulting files from the two variations each give the fraction contamination. Run the two cells below to view results: "
   ]
  },
  {
   "cell_type": "code",
   "execution_count": null,
   "metadata": {
    "colab": {},
    "colab_type": "code",
    "id": "JW6qYWhiKCL5"
   },
   "outputs": [],
   "source": [
    "!cat /home/jupyter-user/notebooks/sandbox/8_tumor_calculatecontamination.table"
   ]
  },
  {
   "cell_type": "code",
   "execution_count": null,
   "metadata": {
    "colab": {},
    "colab_type": "code",
    "id": "BT0GuhKbKCnF"
   },
   "outputs": [],
   "source": [
    "!cat /home/jupyter-user/notebooks/sandbox/8_pair_calculatecontamination.table"
   ]
  },
  {
   "cell_type": "markdown",
   "metadata": {
    "colab_type": "text",
    "id": "7LdPqRm7KAvg"
   },
   "source": [
    "For our small tumor BAM file, you can see the contamination is ~0.0191 with an error of ~0.0022. We get a slightly lower number, ~0.0120 +/– 0.00454 for the matched estimate. For the full BAM file, we see a slightly larger contamination number. This threshold informs you to be wary of calls with less than that number for the alternate allele fraction.\n",
    "\n",
    "---"
   ]
  },
  {
   "cell_type": "markdown",
   "metadata": {
    "colab_type": "text",
    "id": "2juBtsYHkPfC"
   },
   "source": [
    "\n",
    "## Apply filters with `FilterMutectCalls`\n",
    "\n",
    "In this step, we filter the small data, 1_somatic_m2.vcf, with `FilterMutectCalls`. The tool **uses the annotations within the callset, and if provided, uses the contamination table** in filtering. Default settings are tuned for human somatic analyses."
   ]
  },
  {
   "cell_type": "code",
   "execution_count": null,
   "metadata": {
    "colab": {},
    "colab_type": "code",
    "id": "ylouDsIzJbb9",
    "scrolled": true
   },
   "outputs": [],
   "source": [
    "!gatk FilterMutectCalls \\\n",
    "    -R /home/jupyter-user/notebooks/ref/Homo_sapiens_assembly38.fasta \\\n",
    "    -V /home/jupyter-user/notebooks/sandbox/1_somatic_m2.vcf.gz \\\n",
    "    --contamination-table /home/jupyter-user/notebooks/sandbox/8_pair_calculatecontamination.table \\\n",
    "    --stats /home/jupyter-user/notebooks/sandbox/1_somatic_m2.vcf.gz.stats \\\n",
    "    --tumor-segmentation /home/jupyter-user/notebooks/sandbox/segments.table \\\n",
    "    -O /home/jupyter-user/notebooks/sandbox/9_somatic_oncefiltered.vcf.gz"
   ]
  },
  {
   "cell_type": "markdown",
   "metadata": {
    "colab_type": "text",
    "id": "NMqC6uQTkagn"
   },
   "source": [
    "This produces a VCF callset `9_somatic_oncefiltered.vcf.gz` and index. Calls that are **likely true positives get the PASS label** in the FILTER field, and calls that are likely false positives are labeled with the reason(s) for filtering in the FILTER field of the VCF. We can view the available filters in the VCF header using "
   ]
  },
  {
   "cell_type": "code",
   "execution_count": null,
   "metadata": {
    "colab": {},
    "colab_type": "code",
    "id": "s3HOlwjeJ5rr",
    "scrolled": true
   },
   "outputs": [],
   "source": [
    "!zgrep '##FILTER' /home/jupyter-user/notebooks/sandbox/9_somatic_oncefiltered.vcf.gz"
   ]
  },
  {
   "cell_type": "markdown",
   "metadata": {
    "colab_type": "text",
    "id": "YRiNF3q8J3e4"
   },
   "source": [
    "This step seemingly applies **20 filters, including contamination**. However, if an annotation a filter relies on is absent, the tool skips the particular filtering. The filter will still appear in the header. For example, the `duplicate_evidence` filter requires a nonstandard annotation that our callset omits. \n",
    "\n",
    "---\n",
    "\n"
   ]
  },
  {
   "cell_type": "markdown",
   "metadata": {
    "colab_type": "text",
    "id": "HxkeBH8Us1S9"
   },
   "source": [
    "# REVIEW CALLS WITH IGV\n",
    "\n",
    "Deriving a good somatic callset involves comparing callsets from different callers, manually reviewing passing and filtered calls and, if necessary, additional filtering. Manual review extends from deciphering call record annotations to the nitty-gritty of reviewing read alignments using a visualizer. \n",
    "\n",
    "How do we account for variant calls based on the read data? Remember Mutect2 reassembles reads just like HaplotypeCaller, so the clean alignments will not necessarily reflect the calls. We must examine the BAMOUT that Mutect2's graph-assembly produces. We already generated this BAMOUT in section 1.1 (`sandbox/2_tumor_normal_m2.bam`).  We are going to copy it into our bucket for loading into the IGV.\n"
   ]
  },
  {
   "cell_type": "markdown",
   "metadata": {
    "colab_type": "text",
    "id": "lsY5Wf1uSuLj"
   },
   "source": [
    "## Copy the result of our analysis into the workspace bucket so we can load it into IGV.\n",
    "\n",
    "We use the google cloud utilities (`gsutil`) command for copy (`cp`) to put our sandbox files into the bucket wher we can load them into the IGV.  The other files (`bams`, `resources`,`mutect2_precomputed`) were already made available  through our gatk-tutorials bucket so we don't have to copy those again.  "
   ]
  },
  {
   "cell_type": "code",
   "execution_count": null,
   "metadata": {
    "colab": {},
    "colab_type": "code",
    "id": "oxD6X2R_SuLj",
    "scrolled": true
   },
   "outputs": [],
   "source": [
    "! gsutil cp /home/jupyter-user/notebooks/sandbox/2_tumor_normal_m2.bam $BUCKET/sandbox/\n",
    "! gsutil cp /home/jupyter-user/notebooks/sandbox/2_tumor_normal_m2.bai $BUCKET/sandbox/"
   ]
  },
  {
   "cell_type": "markdown",
   "metadata": {
    "colab_type": "text",
    "id": "Zo7AZx_BSuLr"
   },
   "source": [
    "## Set up your IGV window\n",
    "\n",
    "<font color=red>**Before anything else, load Human (hg38) as your reference genome.**</font> It is important to do this first, as changing the reference genome will require you to reload all files you may have previously loaded.\n",
    "\n",
    "Next, go to `File`-->`Load from URL` and load these files in order: "
   ]
  },
  {
   "cell_type": "code",
   "execution_count": null,
   "metadata": {
    "scrolled": true
   },
   "outputs": [],
   "source": [
    "#  Run this cell to print out the URLs of files to load. Copy and paste the result into IGV. \n",
    "! echo gs://gatk-tutorials/$WORKSHOP/3-somatic/mutect2_precomputed/9_somatic_oncefiltered.vcf.gz\n",
    "! echo $BUCKET/sandbox/2_tumor_normal_m2.bam\n",
    "! echo gs://gatk-tutorials/$WORKSHOP/3-somatic/bams/tumor.bam\n",
    "! echo gs://gatk-tutorials/$WORKSHOP/3-somatic/bams/normal.bam"
   ]
  },
  {
   "cell_type": "markdown",
   "metadata": {
    "colab_type": "text",
    "id": "r4CAOJnFSuLs"
   },
   "source": [
    "## Navigate to the location of the genome where variants were called\n",
    "\n",
    "Navigate IGV to the **TP53** locus at **chr17:7,666,402-7,689,550.** \n",
    "\n",
    "<img src=\"https://storage.googleapis.com/gatk-tutorials/images/3-somatic/m2-image2-IGVDesktop.png\" width=\"70%\" align=\"right\" style=\"margin:20px 20px\"/>\n",
    "\n",
    "* Zoom into **chr17:7,673,333-7,675,077** to better see the somatic call\n",
    "\n",
    "<br>\n",
    "\n",
    "<br>\n",
    "\n",
    "* Scroll through the data and notice the coverage for the samples. \n",
    "\n",
    "\n"
   ]
  },
  {
   "cell_type": "markdown",
   "metadata": {
    "colab_type": "text",
    "id": "xXQh3IcfuJj-"
   },
   "source": [
    "➤ <b>We see a C→T variant light up in red for the tumor but not the normal. What do you think is happening in 2_tumor_normal_m2.bam? </b>"
   ]
  },
  {
   "cell_type": "markdown",
   "metadata": {
    "colab_type": "text",
    "id": "LuSYcZ9dUwCH"
   },
   "source": [
    "➤ <b>What does the coverage tell you?</b>"
   ]
  },
  {
   "cell_type": "markdown",
   "metadata": {
    "colab_type": "text",
    "id": "QOsj4721U-C0"
   },
   "source": [
    "<img src=\"https://storage.googleapis.com/gatk-tutorials/images/3-somatic/m2-image3-IGVDesktop.png\" width=\"15%\" align=\"right\" style=\"margin:0px 20px\"/>If these alignments seem hard to decipher, it is because we need to tweak some settings.\n",
    "\n",
    "To make room to focus on track \\[2_tumor_normal_m2.bam], we need to remove the tumor and normal bam tracks. Shift+select on the left panels for both of those tracks & their corresponding coverage. Then right-click and `Remove Tracks` to remove the tumor and normal BAMs.\n",
    "\n",
    "Next, go to `View>Preferences>Alignments`. Uncheck `Downsample reads`.\n",
    "\n",
    "Now, right-click on the alignments track and\n",
    "\n",
    "-  Group by sample  \n",
    "-  Color alignments by tag: HC\n",
    "-  Sort by base\n",
    "    \n",
    "You can now scroll and click on a read in each group to determine which group belongs to which sample. The depth at this site is very high, but you can see a squished view of all the reads in the image to the right.\n",
    "\n",
    "\n",
    "\n"
   ]
  },
  {
   "cell_type": "markdown",
   "metadata": {
    "colab_type": "text",
    "id": "nWlbDj-rVA-s"
   },
   "source": [
    "➤ <b>What are the three grouped tracks for the bamout? What do the colors indicate? What differentiates the pastel versus gray reads?</b>\n",
    "\n"
   ]
  },
  {
   "cell_type": "markdown",
   "metadata": {
    "colab_type": "text",
    "id": "D25viKwBVCTb"
   },
   "source": [
    "➤ <b>How do you feel about this somatic call? </b>\n",
    "\n",
    "---"
   ]
  },
  {
   "cell_type": "markdown",
   "metadata": {
    "colab_type": "text",
    "id": "nvHXxt0ehgjC"
   },
   "source": [
    "\n",
    "# ANNOTATE MUTATIONS WITH FUNCOTATOR\n",
    "\n",
    "Another approach to filtering mutation calls is by the significance of their functional impact. For example, a stop codon in the middle of a protein coding region or a missense mutation that changes how a protein functions is more significant than a silent mutation or a mutation in the middle of an intron. \n",
    "\n",
    "To gauge functional impact, we must know which regions of the genome code for protein sequence and which correspond to elements important to gene expression. Transcript annotation resources such as [GENCODE](https://www.gencodegenes.org/) capture such information in a standardized [General Transfer Format (GTF)](https://www.gencodegenes.org/pages/data_format.html).   \n",
    "\n",
    "GATK4 Funcotator annotates variant alleles with information from any number of annotation resources. The annotation resources must be organized in a particular way. You can download prepared Funcotator resource bundles from `gs://broad-public-datasets/funcotator/` or use GATK4 `FuncotatorDataSourceDownloader` to download the latest data sources directly from your GATK4 install. For this tutorial, we have specially prepared a small annotation resource. \n",
    "\n"
   ]
  },
  {
   "cell_type": "markdown",
   "metadata": {
    "colab_type": "text",
    "id": "0Lz1O4XNwHU2"
   },
   "source": [
    "Annotate the `9_somatic_oncefiltered.vcf.gz` mutation callset with the resource."
   ]
  },
  {
   "cell_type": "code",
   "execution_count": null,
   "metadata": {
    "colab": {},
    "colab_type": "code",
    "id": "MAkXgEMnVc1x",
    "scrolled": true
   },
   "outputs": [],
   "source": [
    "!gatk Funcotator \\\n",
    "    --data-sources-path /home/jupyter-user/notebooks/resources/funcotator_dataSources_GATK_Workshop_20181205/ \\\n",
    "    --ref-version hg38 \\\n",
    "    -R /home/jupyter-user/notebooks/ref/Homo_sapiens_assembly38.fasta \\\n",
    "    -V /home/jupyter-user/notebooks/mutect2_precomputed/9_somatic_oncefiltered.vcf.gz \\\n",
    "    -O /home/jupyter-user/notebooks/sandbox/12_somatic_oncefiltered_funcotate.vcf.gz \\\n",
    "    --output-file-format VCF"
   ]
  },
  {
   "cell_type": "markdown",
   "metadata": {
    "colab_type": "text",
    "id": "TXav1Vq_wLe0"
   },
   "source": [
    "\n",
    "\n",
    "This produces a VCF callset with annotations. If needed, Funcotator can instead write results in historic [Mutation Annotation Format (MAF)](http://software.broadinstitute.org/software/igv/MutationAnnotationFormat) given `–-output-file-format MAF`.\n",
    "\n"
   ]
  },
  {
   "cell_type": "markdown",
   "metadata": {
    "colab_type": "text",
    "id": "GSPVve4WT1Wx"
   },
   "source": [
    "\n",
    "**➤ Examine the annotations for the TP53 mutation that we viewed earlier in IGV, at chr17:7674220.**\n",
    "\n"
   ]
  },
  {
   "cell_type": "code",
   "execution_count": null,
   "metadata": {
    "colab": {},
    "colab_type": "code",
    "id": "dP4Q9T3kSuLz"
   },
   "outputs": [],
   "source": [
    "!zgrep chr17 /home/jupyter-user/notebooks/sandbox/12_somatic_oncefiltered_funcotate.vcf.gz | grep 7674220"
   ]
  },
  {
   "cell_type": "markdown",
   "metadata": {
    "colab_type": "text",
    "id": "RN3-Yl0wTF3Y"
   },
   "source": [
    "We see an arginine (R) to glutamine (Q) missense mutation at position 248. In our 124 mutation records, 21 are annotated with MISSENSE, and of these, ten PASS filters. \n"
   ]
  },
  {
   "cell_type": "code",
   "execution_count": null,
   "metadata": {},
   "outputs": [],
   "source": [
    "# Count the total mutation records\n",
    "!zgrep -v \"^#\" /home/jupyter-user/notebooks/sandbox/12_somatic_oncefiltered_funcotate.vcf.gz | wc"
   ]
  },
  {
   "cell_type": "code",
   "execution_count": null,
   "metadata": {},
   "outputs": [],
   "source": [
    "# Count the number of MISSENSE records\n",
    "!zgrep -v \"^#\" /home/jupyter-user/notebooks/sandbox/12_somatic_oncefiltered_funcotate.vcf.gz | grep \"|MISSENSE|\" | wc"
   ]
  },
  {
   "cell_type": "code",
   "execution_count": null,
   "metadata": {},
   "outputs": [],
   "source": [
    "# Count the number of MISSENSE records that PASS filters\n",
    "!zgrep -v \"^#\" /home/jupyter-user/notebooks/sandbox/12_somatic_oncefiltered_funcotate.vcf.gz | grep \"|MISSENSE|\" | grep PASS | wc"
   ]
  },
  {
   "cell_type": "markdown",
   "metadata": {
    "colab_type": "text",
    "id": "cV1aFLuQtmtv"
   },
   "source": [
    "##  Review filtered indels to study the logic behind different filters\n",
    "\n",
    "Explore a few insertion and deletion sites in IGV and consider the evidence that supports the filtering decisions."
   ]
  },
  {
   "cell_type": "markdown",
   "metadata": {
    "colab_type": "text",
    "id": "cV1aFLuQtmtv"
   },
   "source": [
    "| CHROM | POS | REF | ALT | FILTER |\n",
    "| --- | --- | --- | --- | --- |\n",
    "| chr17 | 7,221,420| CACTGCCCTAGGTCAGGA | C | artifact_in_normal;contamination;panel_of_normals;str_contraction |\n",
    "| chr17 | 19,748,387| G | GA | contamination;str_contraction;t_lod |\n",
    "| chr17 | 50,124,771 | GCACACACACACACACA | G,GCACA,GCACACA | artifact_in_normal;clustered_events;germline_risk;multiallelic;panel_of_normals"
   ]
  },
  {
   "cell_type": "markdown",
   "metadata": {
    "colab_type": "text",
    "id": "_dfsMfvJOW_W"
   },
   "source": [
    "Here are a few more filtered indel calls to explore.\n",
    "\n",
    "\n",
    "| CHROM | POS | REF | ALT | FILTER |\n",
    "| --- | --- | --- | --- | --- |\n",
    "| chr17 | 26,982,033 | G | GC | artifact_in_normal;bad_haplotype;clustered_events |\n",
    "| chr17 | 35,671,734 | CTT | C,CT,CTTT | artifact_in_normal;multiallelic;panel_of_normals |\n",
    "| chr17 | 47,157,394 | CAA | C,CAAA | artifact_in_normal;germline_risk;panel_of_normals |\n",
    "| chr17 | 68,907,890 | GA | G,GAA | artifact_in_normal;base_quality;germline_risk;panel_of_normals;str_contraction |\n",
    "| chr17 | 69,182,632 | C | CA | artifact_in_normal;contamination;str_contraction;t_lod |\n",
    "\n",
    "\n"
   ]
  },
  {
   "cell_type": "code",
   "execution_count": null,
   "metadata": {},
   "outputs": [],
   "source": []
  }
 ],
 "metadata": {
  "colab": {
   "collapsed_sections": [],
   "name": "Copy of 1-somatic-mutect2-tutorial.ipynb",
   "provenance": [
    {
     "file_id": "1XztW-gsX73EsNuYaavyZMAitzW3gJ6R1",
     "timestamp": 1560255965768
    }
   ],
   "toc_visible": true,
   "version": "0.3.2"
  },
  "kernelspec": {
   "display_name": "Python 3",
   "language": "python",
   "name": "python3"
  },
  "language_info": {
   "codemirror_mode": {
    "name": "ipython",
    "version": 3
   },
   "file_extension": ".py",
   "mimetype": "text/x-python",
   "name": "python",
   "nbconvert_exporter": "python",
   "pygments_lexer": "ipython3",
   "version": "3.7.10"
  },
  "toc": {
   "base_numbering": 1,
   "nav_menu": {},
   "number_sections": true,
   "sideBar": true,
   "skip_h1_title": false,
   "title_cell": "Table of Contents",
   "title_sidebar": "Contents",
   "toc_cell": false,
   "toc_position": {
    "height": "calc(100% - 180px)",
    "left": "10px",
    "top": "150px",
    "width": "262px"
   },
   "toc_section_display": true,
   "toc_window_display": true
  }
 },
 "nbformat": 4,
 "nbformat_minor": 1
}
