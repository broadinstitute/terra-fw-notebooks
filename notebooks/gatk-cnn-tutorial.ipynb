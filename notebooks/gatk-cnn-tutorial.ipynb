{
 "cells": [
  {
   "cell_type": "markdown",
   "metadata": {
    "colab_type": "text",
    "id": "lxWF2oIljvMi"
   },
   "source": [
    "# GATK Convolutional Neural Network (CNN) Filtering Tutorial <a class=\"tocSkip\">\n",
    "   "
   ]
  },
  {
   "cell_type": "markdown",
   "metadata": {
    "colab_type": "text",
    "id": "FynFph92jvMk"
   },
   "source": [
    "**January 2020**\n",
    "\n",
    "<font size=4>This GATK tutorial will help you become familiar with using Convolutional Neural Net to filter annotated variants. The notebook illustrates the following steps. \n",
    "\n",
    "- Use GATK to annotate a VCF with scores from a Convolutional Neural Network (CNN)\n",
    "- Generate 1D and 2D CNN models\n",
    "- Apply tranche filtering to VCF based on scores from an annotation in the INFO field  \n",
    "- Calculate concordance metrics</font>\n",
    "\n",
    "_This tutorial was last tested with GATK v4.1.4.1 and IGV v2.8.0._ See [GATK Tool Documentation](https://gatk.broadinstitute.org/hc/en-us/articles/360037224712) for further information on the tools we use below."
   ]
  },
  {
   "cell_type": "markdown",
   "metadata": {
    "colab_type": "text",
    "id": "iPxdlVOHjvMk"
   },
   "source": [
    "# Set up your Notebook\n",
    "\n",
    "## Set cloud environment values\n",
    "If you opened this notebook and didn't adjust any cloud environment values, now's the time to edit them. Click on the gear icon in the upper right to edit your Cloud Environment form. Set the values as specified below:\n",
    "\n",
    "| Option | Value |\n",
    "| ------ | ------ |\n",
    "| Environment | Default |\n",
    "| Profile | Custom |\n",
    "| CPU | 4 |\n",
    "| Disk size | 100 GB |\n",
    "| Memory | 15 GB |\n",
    "\n",
    "Click the \"Update\" button when you are done, and Terra will begin to create a new runtime with your settings. When it is finished, it will pop up asking you to apply the new settings. In the meantime, you can continue with the setup instructions below. \n",
    "\n",
    "## Check kernel type\n",
    "A kernel is a _computational engine_ that executes the code in the notebook. For this particular notebook, we will be using a Python 3 kernel so we can execute GATK commands using _Python Magic_ (`!`). In the upper right corner of the notebook, just under the Notebook Runtime, it should say `Python3`. If this notebook isn't running a Python 3 kernel, you can switch it by navigating to the Kernel menu and selecting `Change kernel`.\n",
    "\n",
    "## Set up your files\n",
    "Your notebook has a temporary folder that exists so long as your cluster is running. To see what files are in your notebook environment at any time, you can click on the Jupyter logo in the upper left corner. \n",
    "\n",
    "For this tutorial, we need to copy some files from this temporary folder to and from our workspace bucket. Run the two commands below to set up the workspace bucket variable and the file paths inside your notebook.\n",
    "\n",
    "<font color = \"green\"> **Tool Tip:** To run a cell in a notebook, press `SHIFT + ENTER`</font>"
   ]
  },
  {
   "cell_type": "code",
   "execution_count": null,
   "metadata": {
    "colab": {},
    "colab_type": "code",
    "id": "_GWaRo3tjvMl"
   },
   "outputs": [],
   "source": [
    "# Set your workspace bucket variable for this notebook.\n",
    "import os\n",
    "BUCKET = os.environ['WORKSPACE_BUCKET']"
   ]
  },
  {
   "cell_type": "code",
   "execution_count": null,
   "metadata": {},
   "outputs": [],
   "source": [
    "# Set workshop variable to access the most recent materials\n",
    "WORKSHOP = \"workshop_2002\""
   ]
  },
  {
   "cell_type": "code",
   "execution_count": null,
   "metadata": {
    "colab": {},
    "colab_type": "code",
    "id": "HAFDqnq0jvMo"
   },
   "outputs": [],
   "source": [
    "# Create directories for your files to live inside this notebook\n",
    "! mkdir -p /home/jupyter/notebooks/2-germline-vd/sandbox/\n",
    "! mkdir -p /home/jupyter/notebooks/2-germline-vd/ref\n",
    "! mkdir -p /home/jupyter/notebooks/2-germline-vd/resources\n",
    "! mkdir -p /home/jupyter/notebooks/CNN/Output/"
   ]
  },
  {
   "cell_type": "markdown",
   "metadata": {
    "colab_type": "text",
    "id": "jpsakJxsjvMq"
   },
   "source": [
    "## Check data permissions\n",
    "For this tutorial, we have hosted the starting files in a public Google bucket. We will first check that the data is available to your user account, and if it is not, we simply need to install Google Cloud Storage."
   ]
  },
  {
   "cell_type": "code",
   "execution_count": null,
   "metadata": {
    "colab": {},
    "colab_type": "code",
    "id": "4aXeUz8XjvMr"
   },
   "outputs": [],
   "source": [
    "# Check if data is accessible. The command should list several gs:// URLs.\n",
    "! gsutil ls gs://gatk-tutorials/$WORKSHOP/2-germline/"
   ]
  },
  {
   "cell_type": "code",
   "execution_count": null,
   "metadata": {
    "colab": {},
    "colab_type": "code",
    "id": "r5wR4GELjvMt"
   },
   "outputs": [],
   "source": [
    "# If you do not see gs:// URLs listed above, run this cell to install Google Cloud Storage. \n",
    "# Afterwards, restart the kernel with Kernel > Restart.\n",
    "#! pip install google-cloud-storage"
   ]
  },
  {
   "cell_type": "markdown",
   "metadata": {
    "colab_type": "text",
    "id": "GItqUSbYjvMv"
   },
   "source": [
    "## Download Data to the Notebook \n",
    "Some tools are not able to read directly from a Google bucket, so we download their files to our local notebook folder."
   ]
  },
  {
   "cell_type": "code",
   "execution_count": null,
   "metadata": {
    "colab": {},
    "colab_type": "code",
    "id": "1meW4GtMjvMw",
    "scrolled": true
   },
   "outputs": [],
   "source": [
    "! gsutil cp gs://gatk-tutorials/$WORKSHOP/2-germline/ref/* /home/jupyter/notebooks/2-germline-vd/ref\n",
    "! gsutil cp gs://gatk-tutorials/$WORKSHOP/2-germline/trio.ped /home/jupyter/notebooks/2-germline-vd/\n",
    "! gsutil cp gs://gatk-tutorials/$WORKSHOP/2-germline/resources/* /home/jupyter/notebooks/2-germline-vd/resources/"
   ]
  },
  {
   "cell_type": "markdown",
   "metadata": {
    "colab_type": "text",
    "id": "lt-iXAiQjvMz"
   },
   "source": [
    "---\n",
    "# Run the default 1D model on the VCF with CNNScoreVariants\n",
    "\n",
    "CNNScoreVariant is a pre-trained Convolutional Neural Network tool to score variants. This tool uses machine learning to differentiate between good variants and artifacts of the sequencing process, a fairly new approach that is especially effective at correctly calling indels. \n",
    "\n",
    "VQSR and Hard-filtering only take into account variant annotations. However, CNNScoreVariants 1D Model evaluates **annotations** AND **reference files**, plus or minus 64 bases from the variant. For example, it accounts for regions in the ref file that are difficult to sequence.\n",
    "\n",
    "To enable the models to accurately filter and score variants from VCF files, we **trained** on validated VCFs (from truth models including **SynDip, Genomes in a bottle, and Platinum Genomes**) with unvalidated VCFs aligned to different reference builds (**HG19, HG38**), sequenced on **different machines**, using **different protocols**. "
   ]
  },
  {
   "cell_type": "code",
   "execution_count": null,
   "metadata": {
    "colab": {},
    "colab_type": "code",
    "id": "qMvcrZ6pjvMz",
    "scrolled": true
   },
   "outputs": [],
   "source": [
    "!gatk CNNScoreVariants \\\n",
    "-V gs://gatk-tutorials/$WORKSHOP/2-germline/CNNScoreVariants/vcfs/g94982_b37_chr20_1m_15871.vcf.gz \\\n",
    "-O /home/jupyter/notebooks/CNN/Output/my_1d_cnn_scored.vcf \\\n",
    "-R gs://gcp-public-data--broad-references/hg19/v0/Homo_sapiens_assembly19.fasta"
   ]
  },
  {
   "cell_type": "markdown",
   "metadata": {
    "colab_type": "text",
    "id": "6PLJOxIYjvM1"
   },
   "source": [
    "The output VCF `my_1d_cnn_scored.vcf` will now have an INFO  field CNN_1D which corresponds to the score assigned by 1D model."
   ]
  },
  {
   "cell_type": "code",
   "execution_count": null,
   "metadata": {
    "colab": {},
    "colab_type": "code",
    "id": "XLWPcKDYjvM2"
   },
   "outputs": [],
   "source": [
    "!cat /home/jupyter/notebooks/CNN/Output/my_1d_cnn_scored.vcf | grep -v '##' | head -5"
   ]
  },
  {
   "cell_type": "markdown",
   "metadata": {
    "colab_type": "text",
    "id": "kfJiQ9dVjvM5"
   },
   "source": [
    "## Apply filters to the VCF based on the CNN_1D score with the FilterVariantTranches tool\n",
    "\n",
    "After scoring, you can filter your VCF by applying a sensitivity threshold with the tool FilterVariantTranches. "
   ]
  },
  {
   "cell_type": "code",
   "execution_count": null,
   "metadata": {
    "colab": {},
    "colab_type": "code",
    "id": "VcUIL_DfjvM6",
    "scrolled": true
   },
   "outputs": [],
   "source": [
    "!gatk FilterVariantTranches \\\n",
    "-V /home/jupyter/notebooks/CNN/Output/my_1d_cnn_scored.vcf \\\n",
    "--resource gs://gcp-public-data--broad-references/hg19/v0/1000G_omni2.5.b37.vcf.gz \\\n",
    "--resource gs://gcp-public-data--broad-references/hg19/v0/hapmap_3.3.b37.vcf.gz \\\n",
    "--info-key CNN_1D \\\n",
    "--snp-tranche 99.9 \\\n",
    "--indel-tranche 99.9 \\\n",
    "-O /home/jupyter/notebooks/CNN/Output/my_1d_filtered.vcf \\\n",
    "--invalidate-previous-filters "
   ]
  },
  {
   "cell_type": "markdown",
   "metadata": {
    "colab_type": "text",
    "id": "gBVRBZErjvM8"
   },
   "source": [
    "**Now you have a neural network filtered VCF!**"
   ]
  },
  {
   "cell_type": "markdown",
   "metadata": {
    "colab_type": "text",
    "id": "HiwNQ22EjvNA"
   },
   "source": [
    "## Evaluate the 1D Model "
   ]
  },
  {
   "cell_type": "code",
   "execution_count": null,
   "metadata": {
    "colab": {},
    "colab_type": "code",
    "id": "H88wXEuNjvNB",
    "scrolled": true
   },
   "outputs": [],
   "source": [
    "!gatk Concordance \\\n",
    "-truth gs://gatk-tutorials/$WORKSHOP/2-germline/CNNScoreVariants/vcfs/hg001_na12878_b37_truth.vcf.gz \\\n",
    "-eval /home/jupyter/notebooks/CNN/Output/my_1d_filtered.vcf \\\n",
    "-L 20:1000000-9467292 \\\n",
    "-S /home/jupyter/notebooks/CNN/Output/my_1d_filtered_concordance.txt\n"
   ]
  },
  {
   "cell_type": "markdown",
   "metadata": {
    "colab_type": "text",
    "id": "qlkljHQajvND"
   },
   "source": [
    "## Evaluate the unfiltered VCF"
   ]
  },
  {
   "cell_type": "code",
   "execution_count": null,
   "metadata": {
    "colab": {},
    "colab_type": "code",
    "id": "Y5fw3iLSjvNE",
    "scrolled": true
   },
   "outputs": [],
   "source": [
    "!gatk Concordance \\\n",
    "-truth gs://gatk-tutorials/$WORKSHOP/2-germline/CNNScoreVariants/vcfs/hg001_na12878_b37_truth.vcf.gz \\\n",
    "-eval gs://gatk-tutorials/$WORKSHOP/2-germline/CNNScoreVariants/vcfs/g94982_b37_chr20_1m_15871.vcf.gz \\\n",
    "-L 20:1000000-9467292 \\\n",
    "-S /home/jupyter/notebooks/CNN/Output/unfiltered_concordance.txt\n"
   ]
  },
  {
   "cell_type": "markdown",
   "metadata": {
    "colab_type": "text",
    "id": "JYSN59z9jvNG"
   },
   "source": [
    "**Now look at how precision goes up (and sensitivity goes down) as we filter.**"
   ]
  },
  {
   "cell_type": "code",
   "execution_count": null,
   "metadata": {
    "colab": {},
    "colab_type": "code",
    "id": "o6x_2NBijvNH"
   },
   "outputs": [],
   "source": [
    "!cat /home/jupyter/notebooks/CNN/Output/unfiltered_concordance.txt"
   ]
  },
  {
   "cell_type": "code",
   "execution_count": null,
   "metadata": {
    "colab": {},
    "colab_type": "code",
    "id": "HhD1FtYwjvNJ"
   },
   "outputs": [],
   "source": [
    "!cat /home/jupyter/notebooks/CNN/Output/my_1d_filtered_concordance.txt"
   ]
  },
  {
   "cell_type": "markdown",
   "metadata": {
    "colab_type": "text",
    "id": "ppiYwaFCjvM9"
   },
   "source": [
    "# (Try on your own) Run the default 2D model on the VCF with CNNScoreVariants"
   ]
  },
  {
   "cell_type": "markdown",
   "metadata": {
    "colab_type": "text",
    "id": "hwZ65bzZjvM-"
   },
   "source": [
    "Due to time constraints, we encourage you to try the following 2D modelling on your own after the workshop.\n",
    "\n",
    "The process is quite similar for the 2D model except we will also need to supply a BAM file with DNA read data to CNNScoreVariants.  We tell the tool to use the 2D read processing model with the tensor-type argument.\n",
    "\n",
    "> **CNNScoreVariants 2D Model evaluates a) annotations, b) reference files and c) all variant information from the bam file.**\n",
    "\n",
    "Copy and paste the following code into a new code cell block to run it.\n",
    "\n",
    "```\n",
    "!gatk CNNScoreVariants \\\n",
    "-I gs://gatk-tutorials/$WORKSHOP/2-germline/CNNScoreVariants/bams/g94982_chr20_1m_10m_bamout.bam \\\n",
    "-V gs://gatk-tutorials/$WORKSHOP/2-germline/CNNScoreVariants/vcfs/g94982_b37_chr20_1m_895.vcf \\\n",
    "-R gs://gcp-public-data--broad-references/hg19/v0/Homo_sapiens_assembly19.fasta \\\n",
    "-O /home/jupyter/notebooks/CNN/Output/my_2d_cnn_scored.vcf \\\n",
    "--tensor-type read_tensor \\\n",
    "--transfer-batch-size 8 \\\n",
    "--inference-batch-size 8\n",
    "```"
   ]
  },
  {
   "cell_type": "code",
   "execution_count": null,
   "metadata": {
    "scrolled": true
   },
   "outputs": [],
   "source": []
  },
  {
   "cell_type": "markdown",
   "metadata": {
    "colab_type": "text",
    "id": "sl6nQII3jvM-"
   },
   "source": [
    "## Now apply filters to the VCF based on the CNN_2D score with the FilterVariantTranches tool"
   ]
  },
  {
   "cell_type": "markdown",
   "metadata": {
    "colab_type": "text",
    "id": "35kGiduTjvM_"
   },
   "source": [
    "Copy and paste the following code into a new code cell block to run it.\n",
    "\n",
    "```\n",
    "!gatk FilterVariantTranches \\\n",
    "-V /home/jupyter/notebooks/CNN/Output/my_2d_cnn_scored.vcf \\\n",
    "--resource gs://gcp-public-data--broad-references/hg19/v0/1000G_omni2.5.b37.vcf.gz \\\n",
    "--resource gs://gcp-public-data--broad-references/hg19/v0/hapmap_3.3.b37.vcf.gz \\\n",
    "--info-key CNN_2D \\\n",
    "--snp-tranche 95.9 \\\n",
    "--indel-tranche 95.0 \\\n",
    "-O /home/jupyter/notebooks/CNN/Output/my_2d_filtered.vcf \\\n",
    "--invalidate-previous-filters\n",
    "```"
   ]
  },
  {
   "cell_type": "code",
   "execution_count": null,
   "metadata": {
    "scrolled": true
   },
   "outputs": [],
   "source": []
  },
  {
   "cell_type": "markdown",
   "metadata": {
    "colab_type": "text",
    "id": "tL9ebvaxjvNL"
   },
   "source": [
    "## Evaluate the 2D Model\n",
    "Now let’s evaluate how the filter did by running the concordance tool. "
   ]
  },
  {
   "cell_type": "markdown",
   "metadata": {
    "colab_type": "text",
    "id": "ZQYIr4iFjvNM"
   },
   "source": [
    "Copy and paste the following code into a new code cell block to run it.\n",
    "\n",
    "```\n",
    "!gatk Concordance \\\n",
    "-truth gs://gatk-tutorials/$WORKSHOP/2-germline/CNNScoreVariants/vcfs/hg001_na12878_b37_truth.vcf.gz \\\n",
    "-eval /home/jupyter/notebooks/CNN/Output/my_2d_filtered.vcf \\\n",
    "-L 20:1000000-1432828 \\\n",
    "-S /home/jupyter/notebooks/CNN/Output/2d_filtered_concordance.txt\n",
    "```\n"
   ]
  },
  {
   "cell_type": "code",
   "execution_count": null,
   "metadata": {
    "scrolled": true
   },
   "outputs": [],
   "source": []
  },
  {
   "cell_type": "markdown",
   "metadata": {
    "colab_type": "text",
    "id": "T1qD4zcljvNM"
   },
   "source": [
    "## Evaluate the unfiltered VCF"
   ]
  },
  {
   "cell_type": "markdown",
   "metadata": {
    "colab_type": "text",
    "id": "z83QHMFHjvNO"
   },
   "source": [
    "Copy and paste the following code into a new code cell block to run it.\n",
    "\n",
    "```\n",
    "!gatk Concordance \\\n",
    "-truth gs://gatk-tutorials/$WORKSHOP/2-germline/CNNScoreVariants/vcfs/hg001_na12878_b37_truth.vcf.gz \\\n",
    "-eval gs://gatk-tutorials/$WORKSHOP/2-germline/CNNScoreVariants/vcfs/g94982_b37_chr20_1m_895.vcf \\\n",
    "-L 20:1000000-1432828 \\\n",
    "-S /home/jupyter/notebooks/CNN/Output/unfiltered_2d_concordance.txt\n",
    "```"
   ]
  },
  {
   "cell_type": "code",
   "execution_count": null,
   "metadata": {
    "scrolled": true
   },
   "outputs": [],
   "source": []
  },
  {
   "cell_type": "markdown",
   "metadata": {
    "colab_type": "text",
    "id": "ilTlOg3yjvNO"
   },
   "source": [
    "**Now look at how precision goes up (and sensitivity goes down) as we filter.**"
   ]
  },
  {
   "cell_type": "markdown",
   "metadata": {
    "colab_type": "text",
    "id": "5NvevmQEjvNP",
    "scrolled": false
   },
   "source": [
    "Copy and paste the following code into a new code cell block to run it.\n",
    "\n",
    "`!cat /home/jupyter/notebooks/CNN/Output/unfiltered_2d_concordance.txt`"
   ]
  },
  {
   "cell_type": "code",
   "execution_count": null,
   "metadata": {},
   "outputs": [],
   "source": []
  },
  {
   "cell_type": "markdown",
   "metadata": {
    "colab_type": "text",
    "id": "Dn7Vs7msjvNQ"
   },
   "source": [
    "Copy and paste the following code into a new code cell block to run it.\n",
    "\n",
    "`!cat /home/jupyter/notebooks/CNN/Output/2d_filtered_concordance.txt`"
   ]
  },
  {
   "cell_type": "code",
   "execution_count": null,
   "metadata": {},
   "outputs": [],
   "source": []
  },
  {
   "cell_type": "markdown",
   "metadata": {
    "colab_type": "text",
    "id": "2TKjsvUrjvNS"
   },
   "source": [
    "**Finally, you can train your own models with the tools CNNVariantWriteTensors and CNNVariantTrain, as long as you have validated VCFs to use as training data.**"
   ]
  },
  {
   "cell_type": "code",
   "execution_count": null,
   "metadata": {},
   "outputs": [],
   "source": []
  }
 ],
 "metadata": {
  "colab": {
   "name": "Copy of 4-gatk-cnn-tutorial-python.ipynb",
   "provenance": [
    {
     "file_id": "1mLSVww2qFdpJYpZHD7p8haR_ek9dBbdQ",
     "timestamp": 1560189836154
    }
   ],
   "version": "0.3.2"
  },
  "kernelspec": {
   "display_name": "Python 3",
   "language": "python",
   "name": "python3"
  },
  "language_info": {
   "codemirror_mode": {
    "name": "ipython",
    "version": 3
   },
   "file_extension": ".py",
   "mimetype": "text/x-python",
   "name": "python",
   "nbconvert_exporter": "python",
   "pygments_lexer": "ipython3",
   "version": "3.7.10"
  },
  "toc": {
   "base_numbering": 1,
   "nav_menu": {},
   "number_sections": true,
   "sideBar": true,
   "skip_h1_title": false,
   "title_cell": "Table of Contents",
   "title_sidebar": "Contents",
   "toc_cell": false,
   "toc_position": {},
   "toc_section_display": true,
   "toc_window_display": true
  }
 },
 "nbformat": 4,
 "nbformat_minor": 1
}
