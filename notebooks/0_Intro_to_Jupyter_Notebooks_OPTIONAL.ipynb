{
 "cells": [
  {
   "cell_type": "markdown",
   "metadata": {},
   "source": [
    "# Intro to Jupyter Notebooks"
   ]
  },
  {
   "cell_type": "markdown",
   "metadata": {},
   "source": [
    "<img src=\"https://storage.googleapis.com/terra-featured-workspaces/hail-tutorials/Intro_to_Jupyter_Notebooks/Intro_image1.png\" alt=\"drawing comparing Jupyter notebook to traditional scientist notebook\" width=\"800\"/>\n",
    "\n",
    "Maybe you have heard of Jupyter notebooks and you're interested in a crash course in what they are and how to start using them to do interacftive analysis. If so, we're glad you're here! \n",
    "\n",
    "## Notebook overview   \n",
    "This notebook will help you understand     \n",
    "* Why notebooks are used in biomedical research\n",
    "* The relationship between the notebook and the workspace\n",
    "* Jupyter Notebook basics: how to use a notebook, install packages, and import modules\n",
    "* Common libraries in data analysis and popular tutorial notebooks"
   ]
  },
  {
   "cell_type": "markdown",
   "metadata": {},
   "source": [
    "## Reproducible Notebooks - The Future of Biomedical Research"
   ]
  },
  {
   "cell_type": "markdown",
   "metadata": {},
   "source": [
    "### Notebooks make it easy to record and reproduce data analysis steps <a class=\"tocSkip\">"
   ]
  },
  {
   "cell_type": "markdown",
   "metadata": {},
   "source": [
    "Insights in biomedical research require data analysis, but complex analysis is hard to document, share and reproduce. Notebooks enable researchers to quickly develop a rich scientific document that conducts an analysis, shows the results, and explains scientific context. Each code cell of a notebook executes commands to manipulate and explore your data. Code cells can be written in Python, R, or other languages already familiar to the researcher. It is straightforward to expand the functionality of the source code by installing pre-existing libraries, packages or modules of code in a variety of languages. Markdown cells contain formatted explanatory text, links, and images to compliment code cells. Better than \"notes\", Jupyter notebooks mean you will never have questions you can't answer because you forgot your exact analysis steps from eight years ago.\n",
    " \n",
    "The notebook's linear structure records each step you take in order. When shared, someone else can see how you manipulated the data and can execute the cells in order to reproduce your analysis."
   ]
  },
  {
   "cell_type": "markdown",
   "metadata": {},
   "source": [
    "- **They enable interactive analysis**     \n",
    "When you “run” a code cell, output displays right away in a new cell directly underneath the original cell. Working in a notebook, it is possible to run an analysis, observe the result, then change the parameters and re-run the analysis step by step, in real time.  \n",
    "\n",
    " \n",
    "- **Notebooks extend the information content of published articles**     \n",
    "Today, researchers can lend detail about how they derived their results and make it easy for others to reproduce or replicate their analysis by publishing notebooks as an addendum to a traditional publication. Traditional scientific journals can only capture so much detail. Most of the critical data analytics process is under-the-hood, and missing from a summary section. Seeing and executing the actual code tells so much more. Further, when others query your notebook, they can poke around, and even build on your findings. They can easily access your methods and apply them to other populations.  \n",
    " \n",
    " \n",
    "- **They make collaborating and sharing seamless**    \n",
    "Because Notebooks are easy to share, and self-contained, collaborating and sharing work in process and reults is a simple matter of sharing a workspace. \n"
   ]
  },
  {
   "cell_type": "markdown",
   "metadata": {
    "solution2": "hidden",
    "solution2_first": true
   },
   "source": [
    "## How do notebooks fit into a Terra workspace?"
   ]
  },
  {
   "cell_type": "markdown",
   "metadata": {
    "solution2": "hidden"
   },
   "source": [
    "The workspace is the home base of your project, where you will access and manage the data and analysis tools of your research project. Analysis tools include workflows (a.k.a. \"methods\") for pipeloining, and Jupyter notebooks and R-studio for interactive analysis.\n",
    "\n",
    "You can use the Data Explorer to create a cohort  (subset w=of a dataset in the Data Libvrary)and interactively query and analyze data in the cloud using a notebook (see the [Notebooks-QuickStart](https://app.terra.bio/#workspaces/fc-product-demo/Terra-Notebooks-Quickstart)). Or you can go right to the notebook and create a cohort there. You can access the notebook later by saving it. If you share your workspace, others can access your notebook, too."
   ]
  },
  {
   "cell_type": "markdown",
   "metadata": {},
   "source": [
    "## What you need to know about the Terra Notebook Environment "
   ]
  },
  {
   "cell_type": "markdown",
   "metadata": {},
   "source": [
    "Understanding what notebooks **are** and what happens behind the scenes when Notebooks are created, opened and saved in a Terra workspace can save a lot of heartache, as well as help enhance your ability to do interactive analyses. These Terra Knowledge-Base articles are a great place to start.\n",
    " \n",
    "* [Key components (i.e. Billing Projects) in Terra's notebooks environment](https://broadinstitute.zendesk.com/hc/en-us/articles/360027237871-Terra-s-Jupyter-Notebooks-Environment-Part-I-Key-Components)   \n",
    "* [Key operations and how they impact your work](https://broadinstitute.zendesk.com/hc/en-us/articles/360027083172-Terra-s-Jupyter-Notebooks-Environment-Part-II-Key-Operations)   "
   ]
  },
  {
   "cell_type": "markdown",
   "metadata": {},
   "source": [
    "## Glossary of terms"
   ]
  },
  {
   "cell_type": "markdown",
   "metadata": {},
   "source": [
    "- **Cell** - the fundamental unit of a notebook, these rectangular boxes are where you execute code or markdown.\n",
    "- **Dependencies** - all the additional modules, packages, and libraries required to execute the code blocks in your notebook.\n",
    "- **Kernel** - the program that runs and introspects your code in the background. The type of kernel will indicate what [language](https://github.com/jupyter/jupyter/wiki/Jupyter-kernels) you can write in the notebook's code cells. AoU supports Python and R kernels. \n",
    "- **Library** - a collection of functions and methods that allows you to perform several operations without writing your own code. A library could contain several modules.\n",
    "- **Markdown** - a lightweight markup language with plain text formatting syntax used to write text in a cell.\n",
    "- **Modules** - code that provides a piece of functionality. "
   ]
  },
  {
   "cell_type": "markdown",
   "metadata": {},
   "source": [
    "# Notebook Basics"
   ]
  },
  {
   "cell_type": "markdown",
   "metadata": {},
   "source": [
    "## Take the preinstalled User Interface Tour (< 3 minutes)"
   ]
  },
  {
   "cell_type": "markdown",
   "metadata": {},
   "source": [
    "1. Go to Help -> User Interface Tour:\n",
    "\n",
    "<img src=\"https://storage.cloud.google.com/terra-featured-workspaces/QuickStart/Notebook_User_Interface_Tour_Screen%20Shot.png\" alt=\"User Interface Tour screenshot\" width=\"700\"/>"
   ]
  },
  {
   "cell_type": "markdown",
   "metadata": {
    "heading_collapsed": true
   },
   "source": [
    "## Exercise One - Executing a code cell <font color=\"#FF6600\">(click to expand) </font>"
   ]
  },
  {
   "cell_type": "markdown",
   "metadata": {
    "hidden": true
   },
   "source": [
    "**Try these steps in the cell below:**\n",
    "1. Click on the cell. \n",
    "   The cell will default to \"Code\" mode.    \n",
    "   \n",
    "   \n",
    "2. Type in some commands and see how the kernel interacts by running (executing) the cell (click the play button in the menu-bar or use the short-cut \"Shift-Enter\"). There are several additional options for executing cells underneath **Cell** in the menubar. Click the box icon (stop) to stop the operation.   \n",
    "\n",
    "3. The cell is done executing when **In [*]**  turns to **In [a number]**.   \n",
    "\n",
    "4.  Type a piece of code, such as the below example     \n",
    "`print(\"Hello\")`   \n",
    "\n",
    "\n",
    "**Note about standard output:** When you execute a code cell, the kernel will often send a message with important information, including conflicts and warnings, as well as the actual command outputs. These are useful, but do not always demand action. If there is a problem executing the code, this will be clear when you read teh output. With time, you'll be able to skim these messages. Don't be alarmed if you get output in a pale red box, for example!  "
   ]
  },
  {
   "cell_type": "code",
   "execution_count": null,
   "metadata": {
    "hidden": true
   },
   "outputs": [],
   "source": [
    "print(\"Hello\")"
   ]
  },
  {
   "cell_type": "markdown",
   "metadata": {
    "heading_collapsed": true,
    "solution": "hidden"
   },
   "source": [
    "## Exercise Two - Creating a \"markdown\" type cell <font color=\"#FF6600\">(click to expand) </font>"
   ]
  },
  {
   "cell_type": "markdown",
   "metadata": {
    "hidden": true
   },
   "source": [
    "To use \"Markdown\" mode, change the type in the dropdown under the \"Code\" (**Note** Heading and Raw NBConvert are advanced cell type options). Try to answer the question \"why are notebooks used in biomedical research\" in the cell below this one: \n",
    "1. Click on the cell     \n",
    "\n",
    "\n",
    "2. Change the dropdown box in the menubar above from \"Code\" to \"Markdown\" (see screenshot below):   \n",
    "\n",
    "\n",
    "![Screenshot - selecting markdown cell type](https://storage.cloud.google.com/terra-featured-workspaces/QuickStart/Markdown_code_cell_Screen%20Shot.png)     \n",
    "\n",
    "\n",
    "3. Double click in the cell to open the mardown and write your answer in the cell     \n",
    "\n",
    "\n",
    "4. When you are done, click the \"Run\" button in the menubar or use the short-cut (Shift-Enter)\n"
   ]
  },
  {
   "cell_type": "code",
   "execution_count": null,
   "metadata": {
    "hidden": true
   },
   "outputs": [],
   "source": [
    "Type your answer here...\n",
    "\n",
    "### What happens when you leave three hashmarks in front of your answer/ \n",
    "\n",
    "**What happens when you have two asterisks on either side?**"
   ]
  },
  {
   "cell_type": "markdown",
   "metadata": {
    "hidden": true
   },
   "source": [
    "**Hint:** \n",
    "If you get an error that looks like this:\n",
    "    \n",
    "<img src=\"https://storage.googleapis.com/terra-featured-workspaces/hail-tutorials/Intro_to_Jupyter_Notebooks/Intro_image4.png\" alt=\"drawing\" width=\"600\"/>\n",
    "\n",
    "Make sure that you changed the cell type to **Markdown** before running it.\n"
   ]
  },
  {
   "cell_type": "markdown",
   "metadata": {
    "heading_collapsed": true
   },
   "source": [
    "## To learn more about markdown code <font color=\"#FF6600\">(click to expand) </font>\n"
   ]
  },
  {
   "cell_type": "markdown",
   "metadata": {
    "hidden": true
   },
   "source": [
    "Use a shortcut under the \"help\" tab:\n",
    "![Notebooks Markdown help tab](https://storage.cloud.google.com/terra-featured-workspaces/QuickStart/Notebooks_Markdown_help_Screen%20Shot.png)  "
   ]
  },
  {
   "cell_type": "markdown",
   "metadata": {
    "heading_collapsed": true
   },
   "source": [
    "## How to add or remove cells <font color=\"#FF6600\">(click to expand) </font>"
   ]
  },
  {
   "cell_type": "markdown",
   "metadata": {
    "hidden": true
   },
   "source": [
    "To add a cell (three options):\n",
    "* Click the + icon in the menubar\n",
    "* Insert -> Choose Cell Above or Below your current cell\n",
    "* press ESC A\n",
    "\n",
    "\n",
    "To remove a cell (three options):\n",
    "* Click the scissors icon in the menubar\n",
    "* Edit -> Delete or Cut cells\n",
    "* press ESC X (for cut) ESC d d (for delete)"
   ]
  },
  {
   "cell_type": "markdown",
   "metadata": {
    "hidden": true
   },
   "source": [
    "**Try removing the cell below. Then try adding it back**"
   ]
  },
  {
   "cell_type": "code",
   "execution_count": null,
   "metadata": {
    "hidden": true
   },
   "outputs": [],
   "source": [
    "#Try removing and adding this cell."
   ]
  },
  {
   "cell_type": "markdown",
   "metadata": {
    "heading_collapsed": true
   },
   "source": [
    "## Keyboard shortcuts <font color=\"#FF6600\">(click to expand) </font>"
   ]
  },
  {
   "cell_type": "markdown",
   "metadata": {
    "hidden": true
   },
   "source": [
    " - Evaluate a cell: `SHIFT + ENTER` or `CTRL + ENTER` \n",
    " - Return to navigation mode: `ESC` \n",
    " - Turn a markdown cell into code: `y`\n",
    " - Turn a code cell into markdown: `m`\n",
    " - Add a new cell **above** the currently selected cell: `a`\n",
    " - Add a new cell **below** the currently selected cell: `b`\n",
    " - Delete the currently selected cell: `d, d` (repeated)\n",
    " - Activate code completion: `TAB`\n",
    " \n",
    "  \n",
    "**To try this out, create a new cell below this one using `b`, and print `my_variable` by starting with `print(my` and pressing `TAB`!**"
   ]
  },
  {
   "cell_type": "markdown",
   "metadata": {
    "heading_collapsed": true
   },
   "source": [
    "## How to change the kernel (Python 2, Python 3, or R) <font color=\"#FF6600\">(click to expand) </font>"
   ]
  },
  {
   "cell_type": "markdown",
   "metadata": {
    "hidden": true
   },
   "source": [
    "Click **Kernel** -> **Change Kernel** -> Choose the language/version you want\n",
    "\n",
    "<img src=\"https://storage.googleapis.com/terra-featured-workspaces/hail-tutorials/Intro_to_Jupyter_Notebooks/Intro_image10.png\" alt=\"drawing\" width=\"600\"/>"
   ]
  },
  {
   "cell_type": "markdown",
   "metadata": {
    "heading_collapsed": true
   },
   "source": [
    "##  How to install a package <font color=\"#FF6600\">(click to expand) </font>"
   ]
  },
  {
   "cell_type": "markdown",
   "metadata": {
    "hidden": true
   },
   "source": [
    "`pip` is a package management system used to install and manage software packages written in Python. We use it here to install the AoU Python client library.\n",
    "\n",
    "**To install this package, try the steps below.**\n",
    "\n",
    "1. Copy and paste in the cell: \n",
    "\n",
    "```\n",
    "!pip install --user --upgrade 'https://github.com/all-of-us/pyclient/archive/pyclient-v1-11.zip#egg=aou_workbench_client&subdirectory=py'\n",
    "```\n",
    "\n",
    "2. Execute the cell"
   ]
  },
  {
   "cell_type": "code",
   "execution_count": null,
   "metadata": {
    "hidden": true
   },
   "outputs": [],
   "source": [
    "!pip install --upgrade google-api-python-client"
   ]
  },
  {
   "cell_type": "markdown",
   "metadata": {
    "hidden": true
   },
   "source": [
    "An asterisk in the brackets to the left of the code cell indicates that the command is executing.\n",
    "\n",
    "<img src=\"https://storage.googleapis.com/terra-featured-workspaces/hail-tutorials/Intro_to_Jupyter_Notebooks/Intro_image7.png\" alt=\"drawing\" width=\"300\"/>"
   ]
  },
  {
   "cell_type": "markdown",
   "metadata": {
    "hidden": true
   },
   "source": [
    "When the program runs the first time, you may see the cell turn pink. Not to worry - these are usually some warnings that do not affect the notebook's results.       \n",
    "\n",
    "When complete, you will see a large code block of output text. This is the standard output, the same text you would see if you ran this command directly from the terminal. It often contains important information such as warnings, so it can be useful to skim through.\n",
    "\n",
    "<img src=\"https://storage.googleapis.com/terra-featured-workspaces/hail-tutorials/Intro_to_Jupyter_Notebooks/Intro_image11.png\" alt=\"drawing\" width=\"800\"/>"
   ]
  },
  {
   "cell_type": "markdown",
   "metadata": {
    "hidden": true
   },
   "source": [
    "**TIP** If you don’t need to print the output for review, you can “capture” it by typing this command before the code:\n",
    "\n",
    "```\n",
    "%%capture\n",
    "\n",
    "```\n",
    "\n",
    "Try adding this line before the command in the block above, and rerunning the cell. \n",
    "\n",
    "**Note**: One cell can contain multiple commands."
   ]
  },
  {
   "cell_type": "markdown",
   "metadata": {
    "heading_collapsed": true
   },
   "source": [
    "## Exercise Three: Practice importing packages <font color=\"#FF6600\">(click to expand) </font>"
   ]
  },
  {
   "cell_type": "markdown",
   "metadata": {
    "hidden": true
   },
   "source": [
    "To reduce the time it takes to program commands from scratch, you can access discipline-specific classes, objects, or functions by importing packages or modules. \n",
    "\n",
    "Some popular libraries for data analysis are in the code cells below. To learn more, click “Help” in the menubar for online resources.\n",
    "\n",
    "\n",
    "**Note on syntax**: `as` defines an alias, which you can use to call the library instead of typing out the full name in every cell.\n",
    "\n",
    "Running ```!pip list``` will give information on pre-installed packages. The `!` in front of pip indicates that the command is runing external to python, directly on the command line. In the python kernel, code is expected to match the kernel setting, so you will need to add an extra character to indicate that it is being run as if it is a command on the command line, or even another kernel (such as R).\n"
   ]
  },
  {
   "cell_type": "code",
   "execution_count": null,
   "metadata": {
    "hidden": true
   },
   "outputs": [],
   "source": [
    "!pip list"
   ]
  },
  {
   "cell_type": "markdown",
   "metadata": {
    "hidden": true
   },
   "source": [
    "When running the code as a direct python command, no additional `!` is needed in front of the command.\n",
    "\n",
    "If there is no output to the command, it will just run and put a number in the \"[ ]\" to the left."
   ]
  },
  {
   "cell_type": "code",
   "execution_count": null,
   "metadata": {
    "hidden": true
   },
   "outputs": [],
   "source": [
    "# Scientific computing in python\n",
    "import numpy as np"
   ]
  },
  {
   "cell_type": "code",
   "execution_count": null,
   "metadata": {
    "hidden": true
   },
   "outputs": [],
   "source": [
    "# Data visualizations\n",
    "import matplotlib as mpl"
   ]
  },
  {
   "cell_type": "code",
   "execution_count": null,
   "metadata": {
    "hidden": true
   },
   "outputs": [],
   "source": [
    "# Data analysis tools and data structures like the DataFrame\n",
    "import pandas as pd"
   ]
  },
  {
   "cell_type": "code",
   "execution_count": null,
   "metadata": {
    "hidden": true
   },
   "outputs": [],
   "source": [
    "# Statistical data visualization, site: https://seaborn.pydata.org/\n",
    "import seaborn as sb"
   ]
  },
  {
   "cell_type": "markdown",
   "metadata": {
    "hidden": true
   },
   "source": [
    "A quick way to check if a program has been activated in Python is to run a command that shows all the possible command attributes.  Try `dir(pd)` or `dir(pd)` in the cell block below."
   ]
  },
  {
   "cell_type": "code",
   "execution_count": null,
   "metadata": {
    "hidden": true
   },
   "outputs": [],
   "source": [
    "dir(pandas)"
   ]
  },
  {
   "cell_type": "markdown",
   "metadata": {
    "hidden": true,
    "solution2": "hidden",
    "solution2_first": true
   },
   "source": [
    "#### What happens if you try `dir(pandas)` instead?**<a class=\"tocSkip\">"
   ]
  },
  {
   "cell_type": "markdown",
   "metadata": {
    "hidden": true,
    "solution2": "hidden"
   },
   "source": [
    "Solution:  You should see an error, because the program was imported under the alias `pd` and not the full name of the pakcage, `pandas'\n",
    "\n",
    "<img src=\"https://storage.googleapis.com/terra-featured-workspaces/hail-tutorials/Intro_to_Jupyter_Notebooks/Intro_image12.png\" alt=\"drawing\" width=\"600\"/>\n",
    "    \n"
   ]
  },
  {
   "cell_type": "markdown",
   "metadata": {
    "heading_collapsed": true
   },
   "source": [
    "# Interactive plotting examples <font color=\"#FF6600\">(click to expand) </font>"
   ]
  },
  {
   "cell_type": "markdown",
   "metadata": {
    "hidden": true
   },
   "source": [
    "Below is an example of a histogram you can generate in a Python notebook - if you have installed the package with definitions for these commands on your cluster. If you try to run the code cell below before running the cells that contain the \"import\" command, you will see an error message. \n",
    "\n",
    "**To see the histogram output**  \n",
    "\n",
    "- Make sure to first run the two cells above that import the modules 'numpy' and 'matplotlib.pyplot'   \n",
    "\n",
    "- Then rerun the cell below to generate the histogram\n",
    "\n",
    "\n",
    "This plot uses a module inside matplotlibs called pyplot. To learn more about pyplot, go [here](https://matplotlib.org/api/pyplot_api.html)."
   ]
  },
  {
   "cell_type": "code",
   "execution_count": null,
   "metadata": {
    "hidden": true,
    "scrolled": true
   },
   "outputs": [],
   "source": [
    "# A hash sign in front of a line of code tells the program that this is a \"comment\"\n",
    "\n",
    "# Import a specific module inside the matplotlib packages\n",
    "import matplotlib.pyplot as plt\n",
    "\n",
    "# Set a random number as a starting point or \"seed\"\n",
    "np.random.seed(19680801)\n",
    "\n",
    "#Set the middle point, mu, as 100, the distribution, sigma as 15 and add 10000 random points\n",
    "mu, sigma = 100, 15\n",
    "x = mu + sigma * np.random.randn(10000)\n",
    "\n",
    "# Generate a histogram using the program \"hist\" inside matplotlib\n",
    "# The histogram of the data\n",
    "n, bins, patches = plt.hist(x, 50, density=True, facecolor='g', alpha=0.75)\n",
    "\n",
    "#The information below adds labels to your graph\n",
    "plt.xlabel('Smarts')\n",
    "plt.ylabel('Probability')\n",
    "plt.title('Histogram of IQ')\n",
    "plt.text(60, .025, r'$\\mu=100,\\ \\sigma=15$')\n",
    "plt.axis([40, 160, 0, 0.03])\n",
    "plt.grid(True)\n",
    "plt.show()"
   ]
  },
  {
   "cell_type": "markdown",
   "metadata": {
    "hidden": true
   },
   "source": [
    "Another example of a plot using matplotlib - a sigmoidal curve"
   ]
  },
  {
   "cell_type": "code",
   "execution_count": null,
   "metadata": {
    "hidden": true,
    "scrolled": false
   },
   "outputs": [],
   "source": [
    "#import matplotlib.pyplot as plt\n",
    "#import numpy as np \n",
    "\n",
    "x = np.linspace(-10 , 10, 100)\n",
    "y = np.sin(x) \n",
    "plt.plot(x, y, marker=\"x\")\n",
    "plt.show()"
   ]
  },
  {
   "cell_type": "markdown",
   "metadata": {
    "heading_collapsed": true
   },
   "source": [
    "# Learn about commands <font color=\"#FF6600\">(click to expand) </font>"
   ]
  },
  {
   "cell_type": "markdown",
   "metadata": {
    "hidden": true,
    "scrolled": true
   },
   "source": [
    "Before you check out some of the great additional resources below, let's try one last trick within the notebook environment:    \n",
    "To learn about a command, you can use a question mark (?) in front of the command in a code cell. \n",
    "\n",
    "**To try it out, type ```?print``` in the cell below and run it.** "
   ]
  },
  {
   "cell_type": "markdown",
   "metadata": {
    "hidden": true
   },
   "source": [
    "An explanation should pop up at the bottom of the screen.\n",
    "\n",
    "Note that this functionality is native to both Python and to R. A notebook will execute code based on the language chosen for the kernel, so you should only expect helpful information when the command you are enquiring about exists in the language you have set your kernel to.\n",
    "\n",
    "For example, ```?print``` will work with either a Python kernel or an R kernel because the \"print\" command is native to both Python and R.\n",
    "\n",
    "For a counter example, try running a cell with the following:\n",
    "\n",
    "```\n",
    "?log\n",
    "```\n",
    "\n",
    "This produces an error, because we are currently using a kernel set to the Python language and this is the R command to calculate logarithms. If you switch your kernel to R and re-run the cell, you should get the information in question.\n",
    "\n",
    "**Reminder** use the folllowing to change the kernel:\n",
    "\n",
    "<img src=\"https://storage.googleapis.com/terra-featured-workspaces/hail-tutorials/Intro_to_Jupyter_Notebooks/Intro_image10.png\" alt=\"drawing\" width=\"400\"/>"
   ]
  },
  {
   "cell_type": "code",
   "execution_count": null,
   "metadata": {
    "hidden": true
   },
   "outputs": [],
   "source": [
    "?print"
   ]
  },
  {
   "cell_type": "markdown",
   "metadata": {
    "heading_collapsed": true
   },
   "source": [
    "# Other Tutorial Notebook Resources\n",
    "\n",
    "Now that you know Jupyter Notebooks basics, check out the notebooks in the [Terra Notebooks Playgound](https://app.terra.bio/#workspaces/help-gatk/Terra%20Notebooks%20Playground), which contains a set of Jupyter Notebooks that allow users to play with this functionality. These include both R and Python Setup notebooks and template notebooks for accessing and analysing data. \n",
    "\n",
    "In addition to the wealth of useful notebooks in Terra Playground, there are lots of online resources for honing your notebook skills.  "
   ]
  },
  {
   "cell_type": "markdown",
   "metadata": {
    "heading_collapsed": true,
    "hidden": true
   },
   "source": [
    "## Learning Python"
   ]
  },
  {
   "cell_type": "markdown",
   "metadata": {
    "hidden": true
   },
   "source": [
    "* [Python for Coders](http://watpy.ca/learn/introduction/Python%20for%20Coders.md) Part of an introduction to Python course from the Waterloo Python users group. You can download a Jupyter notebook that covers the material. \n",
    "\n",
    "* Code Academy's free [Python course](https://www.codecademy.com/learn/learn-python) (Not a notebook, but good!)"
   ]
  },
  {
   "cell_type": "markdown",
   "metadata": {
    "heading_collapsed": true,
    "hidden": true
   },
   "source": [
    "## Learning R"
   ]
  },
  {
   "cell_type": "markdown",
   "metadata": {
    "hidden": true
   },
   "source": [
    "* [edX course](https://www.edx.org/learn/r-programming)\n",
    "\n",
    "* [Interactive R practice](https://swirlstats.com/)\n",
    "\n",
    "* [RStudio online training resources](https://www.rstudio.com/online-learning/)"
   ]
  },
  {
   "cell_type": "markdown",
   "metadata": {
    "heading_collapsed": true,
    "hidden": true
   },
   "source": [
    "## Running Python and R in the same notbook"
   ]
  },
  {
   "cell_type": "markdown",
   "metadata": {
    "hidden": true
   },
   "source": [
    "[Interfacing R from a Python 3 Jupyter Notebook](https://www.linkedin.com/pulse/interfacing-r-from-python-3-jupyter-notebook-jared-stufft/)"
   ]
  },
  {
   "cell_type": "markdown",
   "metadata": {
    "heading_collapsed": true,
    "hidden": true
   },
   "source": [
    "## Learning anything"
   ]
  },
  {
   "cell_type": "markdown",
   "metadata": {
    "hidden": true
   },
   "source": [
    "Check out this gallery of interesting Notebooks: https://github.com/jupyter/jupyter/wiki/A-gallery-of-interesting-Jupyter-Notebooks"
   ]
  },
  {
   "cell_type": "markdown",
   "metadata": {
    "hidden": true
   },
   "source": [
    "## Reproducible Academic Publications"
   ]
  },
  {
   "cell_type": "markdown",
   "metadata": {
    "hidden": true
   },
   "source": [
    "Here is a [list of academic publications](https://github.com/jupyter/jupyter/wiki/A-gallery-of-interesting-Jupyter-Notebooks#reproducible-academic-publications) with links to their notebooks."
   ]
  },
  {
   "cell_type": "markdown",
   "metadata": {
    "hidden": true
   },
   "source": [
    "## Additional notebooks resources"
   ]
  },
  {
   "cell_type": "markdown",
   "metadata": {
    "hidden": true
   },
   "source": [
    "- **How to use notebooks to do research** | [Interactive notebooks: Sharing the code](https://www.nature.com/news/interactive-notebooks-sharing-the-code-1.16261) | by Helen Shen, 5 Nov 2014\n",
    "- **A history of Jupyter notebooks -- and how they improve scientific research today** | [The Scientific Paper Is Obsolete](https://www.theatlantic.com/science/archive/2018/04/the-scientific-paper-is-obsolete/556676/) | by James Somers, 5 Apr 2018     \n",
    "    \n",
    "- For an example of doing the first, exploratory part of a GWAS in a notebook, see this [Featured Workspace](https://app.terra.bio/#workspaces/fc-product-demo/2019_ASHG_Reproducible_GWAS)     \n",
    "\n",
    "- For a real-world example of using a Jupyter notebook in Terra to reproduce a cluster analysis from a publication, see [this Featured Workspace](https://app.terra.bio/#workspaces/help-gatk/Reproducibility_Case_Study_Tetralogy_of_Fallot). "
   ]
  }
 ],
 "metadata": {
  "kernelspec": {
   "display_name": "Python 3",
   "language": "python",
   "name": "python3"
  },
  "language_info": {
   "codemirror_mode": {
    "name": "ipython",
    "version": 3
   },
   "file_extension": ".py",
   "mimetype": "text/x-python",
   "name": "python",
   "nbconvert_exporter": "python",
   "pygments_lexer": "ipython3",
   "version": "3.7.7"
  },
  "toc": {
   "base_numbering": 1,
   "nav_menu": {},
   "number_sections": true,
   "sideBar": true,
   "skip_h1_title": false,
   "title_cell": "Table of Contents",
   "title_sidebar": "Contents",
   "toc_cell": false,
   "toc_position": {
    "height": "calc(100% - 180px)",
    "left": "10px",
    "top": "150px",
    "width": "280px"
   },
   "toc_section_display": true,
   "toc_window_display": true
  },
  "widgets": {
   "application/vnd.jupyter.widget-state+json": {
    "state": {},
    "version_major": 2,
    "version_minor": 0
   }
  }
 },
 "nbformat": 4,
 "nbformat_minor": 2
}
