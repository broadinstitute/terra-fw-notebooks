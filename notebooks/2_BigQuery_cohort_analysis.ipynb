{
 "cells": [
  {
   "cell_type": "markdown",
   "metadata": {
    "heading_collapsed": true
   },
   "source": [
    "### <font color=\"#FF6600\">(expand for tip) </font> <font color=\"#445555\">A note about opening notebooks in shared workspaces<font><a class=\"tocSkip\">"
   ]
  },
  {
   "cell_type": "markdown",
   "metadata": {
    "hidden": true
   },
   "source": [
    "<font color=\"#445555\">Please do not run master copies of notebooks unless you intend to improve the code. As a general rule, it is good to be cautious when editing a notebook in a shared workspace, because you don't want to overwrite the work of your collaborators. Best practices is to test in a cloned workspace or make a duplicate notebook with an easily identifiable name.</font>"
   ]
  },
  {
   "cell_type": "markdown",
   "metadata": {},
   "source": [
    "## Notebook overview <a class=\"tocSkip\">"
   ]
  },
  {
   "cell_type": "markdown",
   "metadata": {},
   "source": [
    "Terra hosts several datasets stored in BigQuery, and this notebook gives an example of how to import BigQuery data into a notebook using the library Data Explorer. We will be working with public-access, low coverage 1,000 Genomes Project data. \n",
    "\n",
    "This notebook is one of three notebooks in the last (analysis) step in the Terra_Notebook_QuickStart workspace flow:   \n",
    "![Notebooks_QuickStart_flow](https://storage.cloud.google.com/terra-featured-workspaces/QuickStart/Notebooks-QuickStart_symbol_flow.png)\n",
    "\n",
    "### Analysis steps (overview) <a class=\"tocSkip\">\n",
    "As you execute the code in the notebook, you'll go through the following steps: \n",
    "\n",
    "1. Set up the notebook virtual environment\n",
    "2. Get the cohort query (participant IDs) into the notebook environment\n",
    "3. Join data from BigQuery table to the participant IDs in the notebook\n",
    "4. Look at a plot of the data\n",
    "5. Gather provenance for reproducibility\n"
   ]
  },
  {
   "cell_type": "markdown",
   "metadata": {},
   "source": [
    "### This notebook assumes you have already done the following <a class=\"tocSkip\">\n",
    "1. Created a data subset (cohort) of 1,000 Genomes data in Terra's data Library using the Data Explorer\n",
    "2. Exporedt the particpant IDs of the cohort to your cloned workspace data table     \n",
    "3. Run the setup notebook \"1_R_Setup\" in this workspace    \n",
    "    \n",
    "Follow instructions in the [step-by-step documentation](https://support.terra.bio/hc/en-us/articles/360059009571).      "
   ]
  },
  {
   "cell_type": "markdown",
   "metadata": {
    "heading_collapsed": true
   },
   "source": [
    "### <font color=\"#FF6600\">(expand for tip) </font> <font color=\"#445555\">What is BigQuery?<a class=\"tocSkip\"></font>"
   ]
  },
  {
   "cell_type": "markdown",
   "metadata": {
    "hidden": true
   },
   "source": [
    "<font color=\"#445555\">BigQuery is the Google Cloud Storage solution for structured data (like a spreadsheet optimized for quick retieval of particular sections that you access with a \"query\". To learn more, see this five-minute video from Google [here](https://www.youtube.com/watch?v=aupC-Wj7XDY). Many datasets, including the public-access [1,000 Genomes Project](https://www.internationalgenome.org/about), are stored in BigQuery, for anyone to access. \n",
    "\n",
    "Exporting the cohort in Terra adds a query to the workspace data table.<font color=\"gray\">"
   ]
  },
  {
   "cell_type": "markdown",
   "metadata": {
    "heading_collapsed": true
   },
   "source": [
    "### <font color=\"#FF6600\">(expand for tip) </font> <font color=\"#445555\">Important note about cost <a class=\"tocSkip\">"
   ]
  },
  {
   "cell_type": "markdown",
   "metadata": {
    "hidden": true
   },
   "source": [
    "<font color=\"#445555\">Although you are not paying for the data storage for this public-access dataset, querying the data carries a cost, paid to Google Cloud Storage. In the case of this notebook, it is only a few cents.    \n",
    "    \n",
    "**To learn more about controlling costs in Terra, see our [documentation here](https://support.terra.bio/hc/en-us/sections/360006459511).** "
   ]
  },
  {
   "cell_type": "markdown",
   "metadata": {},
   "source": [
    "# Environment setup\n",
    "\n",
    "Before moving on to the analysis, you will need to make sure your virtual notebook environment includes basic R packages and libraries.</font>\n",
    "\n",
    "## Run the notebook `1_R environment setup` \n",
    "Any time you create a new notebook runtime, you need to run the setup notebook first to set up basic R packages and libraries."
   ]
  },
  {
   "cell_type": "markdown",
   "metadata": {},
   "source": [
    "## Install additional R packages\n",
    "\n",
    "Many notebooks reference additional packages and libraries, which you will install in this section.  "
   ]
  },
  {
   "cell_type": "code",
   "execution_count": null,
   "metadata": {
    "code_folding": [
     0
    ]
   },
   "outputs": [],
   "source": [
    "# The bigrquery package makes it easy to work with data stored in Google BigQuery by allowing you to query \n",
    "# BigQuery tables and retrieve metadata about your projects, datasets, tables, and jobs\n",
    "library(bigrquery)\n",
    "\n",
    "# ggplot2 is a library of integrated plotting functions\n",
    "library(ggplot2)"
   ]
  },
  {
   "cell_type": "markdown",
   "metadata": {},
   "source": [
    "Next we need to allow the notebook kernel, which is on a virtual machine, to speak to the workspace, which is mounted to a google bucket. The program that does this, called FISS (Firecloud Service Selector), is a Python module that allows API (Application Programming Interface) calls from the notebook to the workspace.     "
   ]
  },
  {
   "cell_type": "code",
   "execution_count": null,
   "metadata": {
    "code_folding": []
   },
   "outputs": [],
   "source": [
    "# The reticulate package translates Python code into R code, so we can use Python commands in \n",
    "# this R notebook (remember FISS is a Python module)\n",
    "library(reticulate)"
   ]
  },
  {
   "cell_type": "code",
   "execution_count": null,
   "metadata": {
    "code_folding": []
   },
   "outputs": [],
   "source": [
    "# Import Firecloud Service Selector (FISS) modules using reticulate\n",
    "os <- import(\"os\")\n",
    "firecloud <- import(\"firecloud\")\n",
    "fiss <- import(\"firecloud.fiss\")"
   ]
  },
  {
   "cell_type": "markdown",
   "metadata": {},
   "source": [
    "## Set project globals\n",
    "\n",
    "These next few code cells set global variables, like the workspace name, automatically. This way, the notebook can be used in multiple workspaces with different project names and different billing projects without any manual adjustments."
   ]
  },
  {
   "cell_type": "code",
   "execution_count": null,
   "metadata": {
    "code_folding": []
   },
   "outputs": [],
   "source": [
    "# Set the project variables. Using variables ensures this notebook works without having to manually\n",
    "# retype the project or workspace names (when copied to another workspace, for example)\n",
    "PROJECT <- Sys.getenv('GOOGLE_PROJECT')\n",
    "WORKSPACE <- os$path$basename(os$path$dirname(os$getcwd()))"
   ]
  },
  {
   "cell_type": "code",
   "execution_count": null,
   "metadata": {
    "code_folding": []
   },
   "outputs": [],
   "source": [
    "# Set the project ID of the clould project to bill for queries to BigQuery\n",
    "BILLING_PROJECT_ID <- Sys.getenv('GOOGLE_PROJECT')"
   ]
  },
  {
   "cell_type": "code",
   "execution_count": null,
   "metadata": {},
   "outputs": [],
   "source": [
    "# To use access BigQuery, you must first autheniticate, or verify your identity.\n",
    "# This code cell does that\n",
    "bq_auth(path=WORKSPACE)"
   ]
  },
  {
   "cell_type": "markdown",
   "metadata": {},
   "source": [
    "# Get the cohort query\n",
    "\n",
    "In this section, we are going to pull information from the \"cohort\" table you created at the beginning of this tutorial into the notebook environment. We'll use the workspace variables and FISS to accomplish this. "
   ]
  },
  {
   "cell_type": "code",
   "execution_count": null,
   "metadata": {
    "code_folding": []
   },
   "outputs": [],
   "source": [
    "# The FISS module that communicates between the notebook environment and Terra is in Python\n",
    "# So the first step is to create Python versions of the workspace and project variables\n",
    "workspace = r_to_py(WORKSPACE)\n",
    "project = r_to_py(PROJECT)"
   ]
  },
  {
   "cell_type": "code",
   "execution_count": null,
   "metadata": {
    "code_folding": [],
    "scrolled": true
   },
   "outputs": [],
   "source": [
    "# Bring information from the \"cohort\" table into a notebook variable \"cohort_entity\".\n",
    "cohort_entity<- fiss$fapi$get_entities(project,workspace,\"cohort\")$json()"
   ]
  },
  {
   "cell_type": "code",
   "execution_count": null,
   "metadata": {
    "code_folding": []
   },
   "outputs": [],
   "source": [
    "# From the first row in the `cohort` table, find the column with the header \"query\" and save this information \n",
    "# as a variable \"cohort_query\"     \n",
    "cohort_query <- cohort_entity[[1]][['attributes']][['query']]"
   ]
  },
  {
   "cell_type": "code",
   "execution_count": null,
   "metadata": {
    "code_folding": [],
    "scrolled": true
   },
   "outputs": [],
   "source": [
    "# Sanity check - This cell just prints out the cohort_entity variable - information the notebook will use\n",
    "# The values should look familiar!\n",
    "cohort_entity"
   ]
  },
  {
   "cell_type": "markdown",
   "metadata": {
    "heading_collapsed": true
   },
   "source": [
    "### <font color=\"#FF6600\">(expand for tip) </font> <font color=\"#445555\"> How to select from multiple workspace cohorts <a class=\"tocSkip\">"
   ]
  },
  {
   "cell_type": "markdown",
   "metadata": {
    "hidden": true
   },
   "source": [
    "<font color=\"#445555\">The command you just ran grabs the first cohort in your workspace data table. If there were multiple queries saved into your workspace table, the one you choose can be changed by updating the number in the double brackets in the code cell above.   \n",
    "\n",
    "For example, using [[2]] would point to the cohort in the second row of the table.  "
   ]
  },
  {
   "cell_type": "markdown",
   "metadata": {},
   "source": [
    "# Call BigQuery"
   ]
  },
  {
   "cell_type": "code",
   "execution_count": null,
   "metadata": {
    "code_folding": [
     0
    ]
   },
   "outputs": [],
   "source": [
    "# Execute the query and return all results into an in-memory table, \"t\", in R\n",
    "t <- bigrquery::bq_project_query(\n",
    "    BILLING_PROJECT_ID,\n",
    "    cohort_query\n",
    ")\n",
    "\n",
    "tt <- bigrquery::bq_table_download(t)"
   ]
  },
  {
   "cell_type": "code",
   "execution_count": null,
   "metadata": {},
   "outputs": [],
   "source": [
    "# Examine the output. This is a table of the participant IDs of your cohort. \n",
    "print(tt)"
   ]
  },
  {
   "cell_type": "markdown",
   "metadata": {},
   "source": [
    "# Add data by \"joining\" with another table\n",
    "The query you just ran returns **just the participant IDs** of your cohort in a table. To do an analysis, you will want additional information from the BigQuery dataset. This section is an example of how to access the additional data you need. "
   ]
  },
  {
   "cell_type": "code",
   "execution_count": null,
   "metadata": {
    "code_folding": [
     0
    ]
   },
   "outputs": [],
   "source": [
    "# Query the public-access data to grab pairs of participants IDs and genders and put in a table (named \"table\") \n",
    "query <- '\n",
    "SELECT\n",
    "    DISTINCT participant_id,\n",
    "    Gender\n",
    "FROM\n",
    "    `verily-public-data.human_genome_variants.1000_genomes_participant_info`\n",
    "'\n",
    "table_data <- bigrquery::bq_project_query(\n",
    "    BILLING_PROJECT_ID,\n",
    "    query\n",
    ")\n",
    "table <- bigrquery::bq_table_download(table_data)"
   ]
  },
  {
   "cell_type": "code",
   "execution_count": null,
   "metadata": {
    "code_folding": []
   },
   "outputs": [],
   "source": [
    "# Print the dimensions of `table`, which includes all participants, not just those in your cohort \n",
    "dim(table)"
   ]
  },
  {
   "cell_type": "code",
   "execution_count": null,
   "metadata": {
    "code_folding": [
     0
    ]
   },
   "outputs": [],
   "source": [
    "# Create a **new table**, `merged_table`, of the participant ID and gender pairs for the participants in the cohort\n",
    "merged_table <- merge(x = tt, y = table, by=\"participant_id\", all.x = TRUE)"
   ]
  },
  {
   "cell_type": "code",
   "execution_count": null,
   "metadata": {},
   "outputs": [],
   "source": [
    "# Sanity check - print out the dimensions of the merged table \n",
    "# It should have two columns (for ID and gender) and the number of rows = size of your cohort\n",
    "dim(merged_table)"
   ]
  },
  {
   "cell_type": "markdown",
   "metadata": {},
   "source": [
    "# Plot data"
   ]
  },
  {
   "cell_type": "code",
   "execution_count": null,
   "metadata": {},
   "outputs": [],
   "source": [
    "# This plot is to confirm you hve the data you expect in your notebook \n",
    "grouped <- table(merged_table$Gender)\n",
    "print(grouped)\n",
    "\n",
    "g <- ggplot(merged_table, aes(Gender))\n",
    "g + geom_bar()"
   ]
  },
  {
   "cell_type": "markdown",
   "metadata": {},
   "source": [
    "## <font color=\"#445555\">How to make your own analysis</font><a class=\"tocSkip\">"
   ]
  },
  {
   "cell_type": "markdown",
   "metadata": {},
   "source": [
    "<font color=\"#445555\">This notebook is a demonstration - not really an analysis at all. If you were doing an actual analysis, this is where you would include your R or Python analysis code.</font>"
   ]
  },
  {
   "cell_type": "markdown",
   "metadata": {},
   "source": [
    "# Provenance"
   ]
  },
  {
   "cell_type": "markdown",
   "metadata": {},
   "source": [
    "Provenance is a record of exactly the environment you used when running the notebook. It's useful for collaborating, and helpful when you return to a notebook months after your initial analysis. It's also Best Practices for reproducible research."
   ]
  },
  {
   "cell_type": "code",
   "execution_count": null,
   "metadata": {},
   "outputs": [],
   "source": [
    "# Outputs all session information\n",
    "devtools::session_info()"
   ]
  },
  {
   "cell_type": "markdown",
   "metadata": {},
   "source": [
    "Copyright 2019 The Broad Institute, Inc., Verily Life Sciences, LLC All rights reserved.\n",
    "\n",
    "This software may be modified and distributed under the terms of the BSD license. See the LICENSE file for details."
   ]
  }
 ],
 "metadata": {
  "kernelspec": {
   "display_name": "R",
   "language": "R",
   "name": "ir"
  },
  "language_info": {
   "codemirror_mode": "r",
   "file_extension": ".r",
   "mimetype": "text/x-r-source",
   "name": "R",
   "pygments_lexer": "r",
   "version": "4.0.3"
  },
  "toc": {
   "base_numbering": 1,
   "nav_menu": {},
   "number_sections": true,
   "sideBar": true,
   "skip_h1_title": false,
   "title_cell": "Table of Contents",
   "title_sidebar": "Contents",
   "toc_cell": false,
   "toc_position": {
    "height": "838.976px",
    "left": "21px",
    "top": "470.965px",
    "width": "267.917px"
   },
   "toc_section_display": true,
   "toc_window_display": true
  }
 },
 "nbformat": 4,
 "nbformat_minor": 2
}
