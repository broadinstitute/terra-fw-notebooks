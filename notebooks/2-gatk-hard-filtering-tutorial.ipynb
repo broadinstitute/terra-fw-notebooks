{
 "cells": [
  {
   "cell_type": "markdown",
   "metadata": {
    "colab_type": "text",
    "id": "AjwO8vWIa_Iu"
   },
   "source": [
    "# GATK Hard Filtering Tutorial (Python)<a class=\"tocSkip\">"
   ]
  },
  {
   "cell_type": "markdown",
   "metadata": {
    "colab_type": "text",
    "id": "A7jPhscpa_Iv"
   },
   "source": [
    "**February 2020**  \n",
    "\n",
    "<img src=\"https://storage.googleapis.com/gatk-tutorials/images/2-germline/vd-image1.png\" alt=\"drawing\" width=\"40%\" align=\"left\" style=\"margin:0px 20px\"/> <font size =\"4\">This tutorial focuses on analyses post variant discovery. We will illustrate hard-filtering germline raw variant calls based on plots of site-level annotations. Our goals are to get you on the road to understanding variant annotations to enable you to evaluate callsets.\n",
    "\n",
    "This notebook and the next one will show you methods for hard filtering, but we will also discuss how those apply in Variant Quality Score Recalibration (VQSR). Later, you will see in another notebook how we use deep learning with Convolutional Neural Networks (CNN) to filter on single samples. For generic hard-filtering recommendations, see [this article](https://gatk.broadinstitute.org/hc/en-us/articles/360035531112).</font>\n",
    "\n",
    "_This tutorial was last tested with GATK v4.1.4.1 and IGV v2.8.0._\n",
    " See [GATK Tool Documentation](https://gatk.broadinstitute.org/hc/en-us/articles/360037224712) for further information on the tools we use below."
   ]
  },
  {
   "cell_type": "markdown",
   "metadata": {
    "colab_type": "text",
    "id": "bqtsENIra_Iw"
   },
   "source": [
    "# Set up your Notebook"
   ]
  },
  {
   "cell_type": "markdown",
   "metadata": {},
   "source": [
    "## Set cloud environment values\n",
    "If you opened this notebook and didn't adjust any cloud environment values, now's the time to edit them. Click on the gear icon in the upper right to edit your Cloud Environment form. Set the values as specified below:\n",
    "\n",
    "| Option | Value |\n",
    "| ------ | ------ |\n",
    "| Environment | Default |\n",
    "| Profile | Custom |\n",
    "| CPU | 4 |\n",
    "| Disk size | 100 GB |\n",
    "| Memory | 15 GB |\n",
    "\n",
    "Click the \"Update\" button when you are done, and Terra will begin to create a new cloud environment with your settings. When it is finished, it will pop up asking you to apply the new settings. In the meantime, you can continue with the setup instructions below. "
   ]
  },
  {
   "cell_type": "markdown",
   "metadata": {
    "colab_type": "text",
    "id": "bqtsENIra_Iw"
   },
   "source": [
    "## Set up rpy\n",
    "This notebook uses Python for a majority, but we will do some graphing in R. In order to do so, we need to run the two commands below.\n",
    "\n",
    "<font color = \"green\"> **Tool Tip:** To run a cell in a notebook, press `SHIFT + ENTER`</font>"
   ]
  },
  {
   "cell_type": "code",
   "execution_count": null,
   "metadata": {},
   "outputs": [],
   "source": [
    "!pip install rpy2"
   ]
  },
  {
   "cell_type": "markdown",
   "metadata": {},
   "source": [
    "Restart kernel before running the next cell"
   ]
  },
  {
   "cell_type": "code",
   "execution_count": null,
   "metadata": {},
   "outputs": [],
   "source": [
    "import rpy2"
   ]
  },
  {
   "cell_type": "code",
   "execution_count": null,
   "metadata": {},
   "outputs": [],
   "source": [
    "%load_ext rpy2.ipython"
   ]
  },
  {
   "cell_type": "markdown",
   "metadata": {},
   "source": [
    "## Check kernel type\n",
    "A kernel is a _computational engine_ that executes the code in the notebook. For this particular notebook, we will be using a Python 3 kernel so we can execute GATK commands using _Python Magic_ (`!`). In the upper right corner of the notebook, just under the Notebook Runtime, it should say `Python3`. If this notebook isn't running a Python 3 kernel, you can switch it by navigating to the Kernel menu and selecting `Change kernel`.\n",
    "\n",
    "## Set up your files\n",
    "Your notebook has a temporary folder that exists so long as your cluster is running. To see what files are in your notebook environment at any time, you can click on the Jupyter logo in the upper left corner. \n",
    "\n",
    "For this tutorial, we need to copy some files from this temporary folder to and from our workspace bucket. Run the two commands below to set up the workspace bucket variable and the file paths inside your notebook."
   ]
  },
  {
   "cell_type": "code",
   "execution_count": null,
   "metadata": {
    "colab": {
     "base_uri": "https://localhost:8080/",
     "height": 311
    },
    "colab_type": "code",
    "executionInfo": {
     "elapsed": 473,
     "status": "error",
     "timestamp": 1561117460071,
     "user": {
      "displayName": "Adelaide Rhodes",
      "photoUrl": "https://lh6.googleusercontent.com/-btsjdXqDOaw/AAAAAAAAAAI/AAAAAAAAAAc/bSfvkT4xjiw/s64/photo.jpg",
      "userId": "01268730178107877997"
     },
     "user_tz": 240
    },
    "id": "uWPStSxqa_Ix",
    "outputId": "4f8bb5db-f643-4c88-978b-d462747ecc20"
   },
   "outputs": [],
   "source": [
    "# Set your workspace bucket variable for this notebook.\n",
    "import os\n",
    "BUCKET = os.environ['WORKSPACE_BUCKET']"
   ]
  },
  {
   "cell_type": "code",
   "execution_count": null,
   "metadata": {},
   "outputs": [],
   "source": [
    "# Set workshop variable to access the most recent materials\n",
    "WORKSHOP = \"workshop_2002\""
   ]
  },
  {
   "cell_type": "code",
   "execution_count": null,
   "metadata": {},
   "outputs": [],
   "source": [
    "# Create directories for your files to live inside this notebook\n",
    "! mkdir -p /home/jupyter/notebooks/2-germline-vd/sandbox/\n",
    "! mkdir -p /home/jupyter/notebooks/2-germline-vd/ref\n",
    "! mkdir -p /home/jupyter/notebooks/2-germline-vd/resources\n",
    "! mkdir -p /home/jupyter/notebooks/2-germline-vd/gvcfs\n",
    "! mkdir -p /home/jupyter/notebooks/CNN/Output/"
   ]
  },
  {
   "cell_type": "markdown",
   "metadata": {
    "colab_type": "text",
    "id": "XzfJP4If_sY0"
   },
   "source": [
    "## Check data permissions\n",
    "For this tutorial, we have hosted the starting files in a public Google bucket. We will first check that the data is available to your user account, and if it is not, we simply need to install Google Cloud Storage."
   ]
  },
  {
   "cell_type": "code",
   "execution_count": null,
   "metadata": {
    "colab": {
     "base_uri": "https://localhost:8080/",
     "height": 318
    },
    "colab_type": "code",
    "executionInfo": {
     "elapsed": 9902,
     "status": "ok",
     "timestamp": 1560183294278,
     "user": {
      "displayName": "Adelaide Rhodes",
      "photoUrl": "https://lh6.googleusercontent.com/-btsjdXqDOaw/AAAAAAAAAAI/AAAAAAAAAAc/bSfvkT4xjiw/s64/photo.jpg",
      "userId": "01268730178107877997"
     },
     "user_tz": 240
    },
    "id": "SjEiRqH4_sY0",
    "outputId": "15042217-97b7-4fa4-9d62-cb7bb175ce67",
    "scrolled": false
   },
   "outputs": [],
   "source": [
    "# Check if data is accessible. The command should list several gs:// URLs.\n",
    "! gsutil ls gs://gatk-tutorials/$WORKSHOP/2-germline/"
   ]
  },
  {
   "cell_type": "code",
   "execution_count": null,
   "metadata": {
    "colab": {},
    "colab_type": "code",
    "id": "FbSTRvc0_sY2",
    "scrolled": false
   },
   "outputs": [],
   "source": [
    "# If you do not see gs:// URLs listed above, run this cell to install Google Cloud Storage. \n",
    "# Afterwards, restart the kernel with Kernel > Restart.\n",
    "#! pip install google-cloud-storage"
   ]
  },
  {
   "cell_type": "markdown",
   "metadata": {
    "colab_type": "text",
    "id": "I95K0qyU_sY4"
   },
   "source": [
    "## Download Data to the Notebook \n",
    "Some tools are not able to read directly from a Google bucket, so we download their files to our local notebook folder."
   ]
  },
  {
   "cell_type": "code",
   "execution_count": null,
   "metadata": {
    "colab": {
     "base_uri": "https://localhost:8080/",
     "height": 478
    },
    "colab_type": "code",
    "executionInfo": {
     "elapsed": 16135,
     "status": "ok",
     "timestamp": 1560183314333,
     "user": {
      "displayName": "Adelaide Rhodes",
      "photoUrl": "https://lh6.googleusercontent.com/-btsjdXqDOaw/AAAAAAAAAAI/AAAAAAAAAAc/bSfvkT4xjiw/s64/photo.jpg",
      "userId": "01268730178107877997"
     },
     "user_tz": 240
    },
    "id": "GI122M4b_sY5",
    "outputId": "f398d31f-b117-40e4-fae8-e5d000bbb2d0",
    "scrolled": true
   },
   "outputs": [],
   "source": [
    "! gsutil cp gs://gatk-tutorials/$WORKSHOP/2-germline/ref/* /home/jupyter/notebooks/2-germline-vd/ref\n",
    "! gsutil cp gs://gatk-tutorials/$WORKSHOP/2-germline/trio.ped /home/jupyter/notebooks/2-germline-vd/\n",
    "! gsutil cp gs://gatk-tutorials/$WORKSHOP/2-germline/resources/* /home/jupyter/notebooks/2-germline-vd/resources/"
   ]
  },
  {
   "cell_type": "markdown",
   "metadata": {
    "colab_type": "text",
    "id": "vm6NFq-Wa_I9"
   },
   "source": [
    "---\n",
    "# Subset variants to SNPs of a single sample with SelectVariants"
   ]
  },
  {
   "cell_type": "markdown",
   "metadata": {
    "colab_type": "text",
    "id": "RtI1GPfDa_I-"
   },
   "source": [
    "Subset the trio callset to just the SNPs of the mother (sample NA12878). Make sure to remove sites for which the sample genotype is homozygous-reference and remove unused alleles, including spanning deletions. \n",
    "\n",
    "> The tool recalculates depth of coverage (DP) per site as well as the allele count in genotypes for each ALT allele (AC), allele frequency for each ALT allele (AF), and  total number of alleles in called genotypes (AN), to reflect only the subset sample(s)."
   ]
  },
  {
   "cell_type": "code",
   "execution_count": null,
   "metadata": {
    "colab": {},
    "colab_type": "code",
    "id": "G1rMy8Oma_I_",
    "outputId": "763bd70f-a741-4cbf-8aff-a8243fd35a2a",
    "scrolled": true
   },
   "outputs": [],
   "source": [
    "! gatk SelectVariants \\\n",
    "-V gs://gatk-tutorials/$WORKSHOP/2-germline/illumina_platinum/trio.vcf.gz \\\n",
    "-sn NA12878 \\\n",
    "-select-type SNP \\\n",
    "--exclude-non-variants \\\n",
    "--remove-unused-alternates \\\n",
    "-O /home/jupyter/notebooks/motherSNP.vcf.gz"
   ]
  },
  {
   "cell_type": "code",
   "execution_count": null,
   "metadata": {
    "colab": {},
    "colab_type": "code",
    "id": "1i_PfhO0a_JB",
    "outputId": "8f705adb-1c82-468b-dace-647003f67a5e",
    "scrolled": true
   },
   "outputs": [],
   "source": [
    "# Peruse the resulting file \n",
    "! zcat /home/jupyter/notebooks/motherSNP.vcf.gz | grep -v '##' | head"
   ]
  },
  {
   "cell_type": "markdown",
   "metadata": {
    "colab_type": "text",
    "id": "mLBhX4yDa_JF"
   },
   "source": [
    "---\n",
    "## Annotate intersecting true positives with VariantAnnotator"
   ]
  },
  {
   "cell_type": "markdown",
   "metadata": {
    "colab_type": "text",
    "id": "gbtb_dRNa_JF"
   },
   "source": [
    "We use VariantAnnotator to annotate which variants in our callset are also present in the truthset (GIAB), which are considered true positives. Variants not present in the truthset are considered false positives. Here we produce a callset where variants that are present in the truthset are annotated with the giab.callsets annotation plus a value indicating how many of the callsets used to develop the truthset agreed with that call."
   ]
  },
  {
   "cell_type": "code",
   "execution_count": null,
   "metadata": {
    "colab": {},
    "colab_type": "code",
    "id": "jataTIM5a_JG",
    "outputId": "fdef84da-41c2-4365-edfd-a8b8981e09b7",
    "scrolled": true
   },
   "outputs": [],
   "source": [
    "! gatk VariantAnnotator \\\n",
    "-V /home/jupyter/notebooks/motherSNP.vcf.gz \\\n",
    "--resource:giab gs://gatk-tutorials/$WORKSHOP/2-germline/resources/motherGIABsnps.vcf.gz \\\n",
    "-E giab.callsets \\\n",
    "-O /home/jupyter/notebooks/motherSNP.giab.vcf.gz"
   ]
  },
  {
   "cell_type": "code",
   "execution_count": null,
   "metadata": {
    "colab": {},
    "colab_type": "code",
    "id": "V2M9BFoka_JJ",
    "outputId": "13366801-de95-4cb5-80fd-c1293110f53f",
    "scrolled": true
   },
   "outputs": [],
   "source": [
    "# Peruse the resulting file \n",
    "! zcat /home/jupyter/notebooks/motherSNP.giab.vcf.gz | grep -v '##' | head"
   ]
  },
  {
   "cell_type": "markdown",
   "metadata": {
    "colab_type": "text",
    "id": "CMKAp67da_JL"
   },
   "source": [
    "---\n",
    "## Tabulate annotations of interest with VariantsToTable"
   ]
  },
  {
   "cell_type": "markdown",
   "metadata": {
    "colab_type": "text",
    "id": "rZlnWEKAa_JL"
   },
   "source": [
    "Convert the information from the callset into a tab delimited table using VariantsToTable, so that we can parse it easily in R. The tool parameters differentiate INFO/site-level fields fields (`-F`) and FORMAT/sample-level fields genotype fields (`-GF`). This step produces a table where each line represents a variant record from the VCF, and each column represents an annotation we have specified. Wherever the requested annotations are not present, e.g. RankSum annotations at homozygous sites, the value will be replaced by NA. "
   ]
  },
  {
   "cell_type": "code",
   "execution_count": null,
   "metadata": {
    "colab": {},
    "colab_type": "code",
    "id": "MA0fnw-ua_JM",
    "outputId": "2ed75cba-39c2-4c4b-ede8-85eb8905e34c",
    "scrolled": true
   },
   "outputs": [],
   "source": [
    "! gatk VariantsToTable \\\n",
    "-V /home/jupyter/notebooks/motherSNP.giab.vcf.gz \\\n",
    "-F CHROM -F POS -F QUAL \\\n",
    "-F BaseQRankSum -F MQRankSum -F ReadPosRankSum \\\n",
    "-F DP -F FS -F MQ -F QD -F SOR \\\n",
    "-F giab.callsets \\\n",
    "-GF GQ \\\n",
    "-O /home/jupyter/notebooks/motherSNP.giab.txt"
   ]
  },
  {
   "cell_type": "code",
   "execution_count": null,
   "metadata": {
    "colab": {},
    "colab_type": "code",
    "id": "VOieZBtRa_JO",
    "outputId": "37db5d8c-0895-453e-e7ad-1a7e062d5453",
    "scrolled": true
   },
   "outputs": [],
   "source": [
    "# Peruse the resulting file\n",
    "! cat /home/jupyter/notebooks/motherSNP.giab.txt | head -n300"
   ]
  },
  {
   "cell_type": "markdown",
   "metadata": {
    "colab_type": "text",
    "id": "yk1OosZSa_JQ"
   },
   "source": [
    "\n",
    "---\n",
    "## Make density and scatter plots in R and determine filtering thresholds"
   ]
  },
  {
   "cell_type": "markdown",
   "metadata": {
    "colab_type": "text",
    "id": "7L_oO1wNa_JQ"
   },
   "source": [
    "The rpy2 package loaded earlier allows a python notebook to run R scripts for intuitive exploration of the plots for this next section."
   ]
  },
  {
   "cell_type": "code",
   "execution_count": null,
   "metadata": {
    "colab": {},
    "colab_type": "code",
    "id": "_criSUAM2HSO",
    "outputId": "d8914bb4-2e2e-4483-d63c-e46e05d62908",
    "scrolled": true
   },
   "outputs": [],
   "source": [
    "%%R\n",
    "\n",
    "# plotting.R script loads ggplot and gridExtra libraries and defines functions to plot variant annotations \n",
    "library(ggplot2)\n",
    "install.packages(\"gridExtra\")\n",
    "library(gridExtra)\n",
    "\n",
    "require(ggplot2, quietly = TRUE)\n",
    "require(gridExtra, quietly = TRUE)\n",
    "\n",
    "get_legend<-function(myggplot){\n",
    "  tmp <- ggplot_gtable(ggplot_build(myggplot))\n",
    "  leg <- which(sapply(tmp$grobs, function(x) x$name) == \"guide-box\")\n",
    "  legend <- tmp$grobs[[leg]]\n",
    "  return(legend)\n",
    "}\n",
    "\n",
    "\n",
    "# Function for making density plots of a single annotation\n",
    "makeDensityPlot <- function(dataframe, xvar, split, xmin=min(dataframe[xvar], na.rm=TRUE), xmax=max(dataframe[xvar], na.rm=TRUE), alpha=0.5) {\n",
    "  \n",
    "  if(missing(split)) {\n",
    "    return(ggplot(data=dataframe, aes_string(x=xvar)) + xlim(xmin,xmax) + geom_density() )\n",
    "  }\n",
    "  else {\n",
    "    return(ggplot(data=dataframe, aes_string(x=xvar, fill=split)) + xlim(xmin,xmax) + geom_density(alpha=alpha) )\n",
    "  }\n",
    "}\n",
    "\n",
    "# Function for making scatter plots of two annotations\n",
    "makeScatterPlot <- function(dataframe, xvar, yvar, split, xmin=min(dataframe[xvar], na.rm=TRUE), xmax=max(dataframe[xvar], na.rm=TRUE), ymin=min(dataframe[yvar], na.rm=TRUE), ymax=max(dataframe[yvar], na.rm=TRUE), ptSize=1, alpha=0.6) {\n",
    "  if(missing(split)) {\n",
    "    return(ggplot(data=dataframe) + aes_string(x=xvar, y=yvar) + xlim(xmin,xmax) + ylim(ymin,ymax) + geom_point(size=ptSize, alpha=alpha) )\n",
    "  }\n",
    "  else {\n",
    "    return(ggplot(data=dataframe) + aes_string(x=xvar, y=yvar) + aes_string(color=split) + xlim(xmin,xmax) + ylim(ymin,ymax) + geom_point(size=ptSize, alpha=alpha) )\n",
    "  }\n",
    "}\n",
    "\n",
    "# Function for making scatter plots of two annotations with marginal density plots of each\n",
    "makeScatterPlotWithMarginalDensity <- function(dataframe, xvar, yvar, split, xmin=min(dataframe[xvar], na.rm=TRUE), xmax=max(dataframe[xvar], na.rm=TRUE), ymin=min(dataframe[yvar], na.rm=TRUE), ymax=max(dataframe[yvar], na.rm=TRUE), ptSize=1, ptAlpha=0.6, fillAlpha=0.5) {\n",
    "  empty <- ggplot()+geom_point(aes(1,1), colour=\"white\") +\n",
    "    theme(\n",
    "      plot.background = element_blank(), \n",
    "      panel.grid.major = element_blank(), \n",
    "      panel.grid.minor = element_blank(), \n",
    "      panel.border = element_blank(), \n",
    "      panel.background = element_blank(),\n",
    "      axis.title.x = element_blank(),\n",
    "      axis.title.y = element_blank(),\n",
    "      axis.text.x = element_blank(),\n",
    "      axis.text.y = element_blank(),\n",
    "      axis.ticks = element_blank()\n",
    "    )\n",
    "  \n",
    "  if(missing(split)){\n",
    "    scatter <- ggplot(data=dataframe) + aes_string(x=xvar, y=yvar) + geom_point(size=ptSize, alpha=ptAlpha) + xlim(xmin,xmax) + ylim(ymin,ymax) \n",
    "    plot_top <- ggplot(data=dataframe, aes_string(x=xvar)) + geom_density(alpha=fillAlpha) + theme(legend.position=\"none\") + xlim(xmin,xmax) \n",
    "    plot_right <- ggplot(data=dataframe, aes_string(x=yvar)) + geom_density(alpha=fillAlpha) + coord_flip() + theme(legend.position=\"none\") + xlim(ymin,ymax) \n",
    "  } \n",
    "  else{\n",
    "    scatter <- ggplot(data=dataframe) + aes_string(x=xvar, y=yvar) + geom_point(size=ptSize, alpha=ptAlpha, aes_string(color=split)) + xlim(xmin,xmax) + ylim(ymin,ymax) \n",
    "    plot_top <- ggplot(data=dataframe, aes_string(x=xvar, fill=split)) + geom_density(alpha=fillAlpha) + theme(legend.position=\"none\") + xlim(xmin,xmax) \n",
    "    plot_right <- ggplot(data=dataframe, aes_string(x=yvar, fill=split)) + geom_density(alpha=fillAlpha) + coord_flip() + theme(legend.position=\"none\") + xlim(ymin,ymax) \n",
    "  }\n",
    "  legend <- get_legend(scatter)\n",
    "  scatter <- scatter + theme(legend.position=\"none\")\n",
    "  temp <- grid.arrange(plot_top, legend, scatter, plot_right, ncol=2, nrow=2, widths=c(4,1), heights=c(1,4))\n",
    "  return(temp)\n",
    "}"
   ]
  },
  {
   "cell_type": "markdown",
   "metadata": {
    "colab_type": "text",
    "id": "fRljsAdcbLRE"
   },
   "source": [
    "---\n",
    "# Make density and scatter plots in R and determine filtering thresholds"
   ]
  },
  {
   "cell_type": "markdown",
   "metadata": {
    "colab_type": "text",
    "id": "cElaL7YcbPHw"
   },
   "source": [
    "Now you're ready to start! Plotting the density of values for an annotation shows us to see the overall range and distribution of values observed in a callset. In combination with some basic knowledge of what the annotation represents and how it is calculated, this allows us to make a first estimation of value thresholds that segregate FPs from TPs. Plotting the scatter of values for two annotations, one against the other, additionally shows us what tradeoffs we make when setting a threshold on annotation values individually. "
   ]
  },
  {
   "cell_type": "markdown",
   "metadata": {
    "colab_type": "text",
    "id": "zuf83CmTbTCp"
   },
   "source": [
    "## Make a density plot for QUAL with the `makeDensityPlot` function\n",
    "\n",
    "Iteratively improve the plot by modifying `qual`. Here are some suggestions to start.\n",
    "- B = makeDensityPlot(motherSNP.giab, \"QUAL\")\n",
    "- B = makeDensityPlot(motherSNP.giab, \"QUAL\", xmax=10000)\n",
    "- B = makeDensityPlot(motherSNP.giab, \"QUAL\", xmax=10000, split=\"giab.callsets\")\n",
    "\n",
    "> _How does the density distribution relate to what the annotation represents? Can we find some clues of what might distinguish good vs. bad variants?_\n",
    "> _When we plot the split version, can we see a clear difference between the set distributions? What does that tell us?_"
   ]
  },
  {
   "cell_type": "code",
   "execution_count": null,
   "metadata": {
    "colab": {},
    "colab_type": "code",
    "id": "hjjkPgMD2HSQ"
   },
   "outputs": [],
   "source": [
    "%%R\n",
    "# Call the readr library and use its read_delim function to load motherSNP.giab.txt into the \n",
    "# motherSNP.giab object.\n",
    "library(readr)\n",
    "motherSNP.giab <- read_delim(\"/home/jupyter/notebooks/motherSNP.giab.txt\",\"\\t\", \n",
    "              escape_double = FALSE, col_types = cols(giab.callsets = col_character()), trim_ws = TRUE)"
   ]
  },
  {
   "cell_type": "markdown",
   "metadata": {},
   "source": [
    "Below are three different plotting functions. Uncomment them one at a time and see how the graph changes as you alter them. To uncomment, simply remove the `#` at the beginning of the line, and put it in front of the line you no longer want to graph."
   ]
  },
  {
   "cell_type": "code",
   "execution_count": null,
   "metadata": {
    "colab": {},
    "colab_type": "code",
    "id": "Gbfyj07T2HSR"
   },
   "outputs": [],
   "source": [
    "%%R\n",
    "#B = makeDensityPlot(motherSNP.giab, \"QUAL\")\n",
    "#B = makeDensityPlot(motherSNP.giab, \"QUAL\", xmax=10000)\n",
    "B = makeDensityPlot(motherSNP.giab, \"QUAL\", xmax=10000, split=\"giab.callsets\")"
   ]
  },
  {
   "cell_type": "code",
   "execution_count": null,
   "metadata": {
    "colab": {},
    "colab_type": "code",
    "id": "_ty5MFzH2HST",
    "outputId": "c95f0850-5f94-49dc-c547-c8fc949297b8"
   },
   "outputs": [],
   "source": [
    "%%R\n",
    "B"
   ]
  },
  {
   "cell_type": "markdown",
   "metadata": {
    "colab_type": "text",
    "id": "_K6GxfI6bYvr"
   },
   "source": [
    "## Make a QD (QualByDepth) density plot"
   ]
  },
  {
   "cell_type": "markdown",
   "metadata": {
    "colab_type": "text",
    "id": "Up4sAOngbdAX"
   },
   "source": [
    "QD puts the variant confidence QUAL score into perspective by normalizing for the amount of coverage available. Because each read contributes a little to the QUAL score, variants in regions with deep coverage can have artificially inflated QUAL scores, giving the impression that the call is supported by more evidence than it really is. To compensate for this, we normalize the variant confidence by depth, which gives us a more objective picture of how well supported the call is.\n",
    "\n",
    "> _What do the peaks represent?_"
   ]
  },
  {
   "cell_type": "code",
   "execution_count": null,
   "metadata": {
    "colab": {},
    "colab_type": "code",
    "id": "a6vTnlLcbg3D"
   },
   "outputs": [],
   "source": [
    "%%R\n",
    "# Change up the parameters, e.g. add 'split=\"giab.callsets\"', examine RankSums, FS and SOR\n",
    "C = makeDensityPlot(motherSNP.giab, \"QD\")\n",
    "#C = makeDensityPlot(motherSNP.giab, \"RankSums\", split=\"giab.callsets\")"
   ]
  },
  {
   "cell_type": "code",
   "execution_count": null,
   "metadata": {
    "colab": {},
    "colab_type": "code",
    "id": "HsgiKpcjbpMj"
   },
   "outputs": [],
   "source": [
    "%%R\n",
    "# Plot 'C'\n",
    "C"
   ]
  },
  {
   "cell_type": "markdown",
   "metadata": {
    "colab_type": "text",
    "id": "uw4jjlXHbz_N"
   },
   "source": [
    "## Make a scatterplot winged by marginal density plots\n",
    "\n",
    "The `makeScatterPlotWithMarginalDensity` function defines and plots. The `ptAlpha` parameter changes the transparency of the points. \n",
    "\n",
    "> _When plotting two annotations, does the combination of the two tell us anything more than either did separately?_\n",
    "\n",
    "- Try adjusting the parameters.\n",
    "- Substitute in other annotations. For example, the following recreates the plot on the front page of the tutorial worksheet.\n",
    "\n",
    "```\n",
    "F = makeScatterPlotWithMarginalDensity(motherSNP.giab, \"QUAL\", \"DP\", split=\"set\", xmax=10000, ymax=100, ptSize=0.5, ptAlpha=0.05)\n",
    "```\n",
    "\n",
    "\n"
   ]
  },
  {
   "cell_type": "markdown",
   "metadata": {
    "colab_type": "text",
    "id": "ai12ubK3hxIZ"
   },
   "source": [
    "---\n",
    "\n",
    "For reference, here are some basic filtering thresholds to improve upon.\n",
    "\n",
    "- -filter \"QD < 2.0\"\n",
    "- -filter \"QUAL < 30.0\"\n",
    "- -filter \"SOR > 3.0\"\n",
    "- -filter \"FS > 60.0\"\n",
    "- -filter \"MQ < 40.0\"\n",
    "- -filter \"MQRankSum < -12.5 \n",
    "- -filter \"ReadPosRankSum < -8.0\"\n",
    "\n",
    "---"
   ]
  },
  {
   "cell_type": "code",
   "execution_count": null,
   "metadata": {
    "colab": {},
    "colab_type": "code",
    "id": "9vWRhXIehxIZ"
   },
   "outputs": [],
   "source": [
    "%%R\n",
    "\n",
    "E = makeScatterPlotWithMarginalDensity(motherSNP.giab, \n",
    "                                       \"QD\", \"DP\", \n",
    "                                       split=\"giab.callsets\", \n",
    "                                       ymax=250, \n",
    "                                       ptSize=0.5, ptAlpha=0.2)"
   ]
  },
  {
   "cell_type": "code",
   "execution_count": null,
   "metadata": {
    "colab": {},
    "colab_type": "code",
    "id": "x_anImxihxIb"
   },
   "outputs": [],
   "source": [
    "# Blank cell for free use. Add additional cells with Menu > Insert.\n",
    "# Change the cell type with Cell > Cell Type.\n",
    "# Delete a cell with Edit > Delete Cells."
   ]
  },
  {
   "cell_type": "markdown",
   "metadata": {
    "colab_type": "text",
    "id": "m3HXCu7Ta_JR"
   },
   "source": [
    "---\n",
    "## Apply filters with VariantFiltration and evaluate results"
   ]
  },
  {
   "cell_type": "markdown",
   "metadata": {
    "colab_type": "text",
    "id": "tgZ6mvhqa_JR"
   },
   "source": [
    "### Filter on QUAL and tabulate baseline concordance\n",
    "\n",
    "Based on the plots we generated, we're going to apply some filters to weed out false positives. To illustrate how VariantFiltration works, and to establish baseline performance, we first filter on QUAL < 30. By default, GATK GenotypeGVCFs filters out variants with QUAL < 10. This step produces a VCF with all the original variants; those that failed the filter are annotated with the filter name in the FILTER column.\n"
   ]
  },
  {
   "cell_type": "code",
   "execution_count": null,
   "metadata": {
    "colab": {},
    "colab_type": "code",
    "id": "wOPHAg0ja_JS",
    "scrolled": true
   },
   "outputs": [],
   "source": [
    "# Filter callset on one annotation, QUAL < 30\n",
    "! gatk VariantFiltration \\\n",
    "-R gs://gatk-tutorials/$WORKSHOP/2-germline/ref/ref.fasta \\\n",
    "-V /home/jupyter/notebooks/motherSNP.vcf.gz \\\n",
    "--filter-expression \"QUAL < 30\" \\\n",
    "--filter-name \"qual30\" \\\n",
    "-O /home/jupyter/notebooks/motherSNPqualqd.vcf.gz"
   ]
  },
  {
   "cell_type": "code",
   "execution_count": null,
   "metadata": {
    "colab": {},
    "colab_type": "code",
    "id": "KIPTaWDTa_JT",
    "scrolled": true
   },
   "outputs": [],
   "source": [
    "# Peruse the results; try adding 'grep \"qual30\"'\n",
    "! zcat /home/jupyter/notebooks/motherSNPqualqd.vcf.gz | grep -v '##' | head -n100"
   ]
  },
  {
   "cell_type": "markdown",
   "metadata": {
    "colab_type": "text",
    "id": "etnYdHPWa_JV"
   },
   "source": [
    "### Filter on multiple annotations simultaneously using VariantFiltration"
   ]
  },
  {
   "cell_type": "markdown",
   "metadata": {
    "colab_type": "text",
    "id": "QwUKRErxa_JW"
   },
   "source": [
    "To filter on multiple expressions, provide each in separate expression. For INFO level annotations, the parameter is  `-filter`, which should be immediately followed by the corresponding `–-filter-name` label. Here we show basic hard-filtering thresholds.\n",
    "\n",
    "- If an annotation is missing, VariantFiltration skips any judgement on that annotation. To conservatively fail such missing annotation sites, set the `--missing-values-evaluate-as-failing` flag. \n",
    "- To filter based on FORMAT level annotations, use `--genotype-filter-expression` and `--genotype-filter-name`. "
   ]
  },
  {
   "cell_type": "code",
   "execution_count": null,
   "metadata": {
    "colab": {},
    "colab_type": "code",
    "id": "8DDDV3QIa_JW",
    "scrolled": true
   },
   "outputs": [],
   "source": [
    "# Filter callset on multiple annotations.\n",
    "# Iterate on thresholds to improve precision while maintaining high sensitivity.\n",
    "! gatk VariantFiltration \\\n",
    "-V /home/jupyter/notebooks/motherSNP.vcf.gz \\\n",
    "-filter \"QD < 2.0\" --filter-name \"QD2\" \\\n",
    "-filter \"QUAL < 30.0\" --filter-name \"QUAL30\" \\\n",
    "-filter \"SOR > 3.0\" --filter-name \"SOR3\" \\\n",
    "-filter \"FS > 60.0\" --filter-name \"FS60\" \\\n",
    "-filter \"MQ < 40.0\" --filter-name \"MQ40\" \\\n",
    "-filter \"MQRankSum < -12.5\" --filter-name \"MQRankSum-12.5\" \\\n",
    "-filter \"ReadPosRankSum < -8.0\" --filter-name \"ReadPosRankSum-8\" \\\n",
    "-O /home/jupyter/notebooks/motherSNPfilters.vcf.gz"
   ]
  },
  {
   "cell_type": "code",
   "execution_count": null,
   "metadata": {
    "colab": {},
    "colab_type": "code",
    "id": "9cw9O8aga_JZ",
    "scrolled": true
   },
   "outputs": [],
   "source": [
    "# Sanity-check that filtering is as expected by examining filtered records and PASS records.\n",
    "! zcat /home/jupyter/notebooks/motherSNPfilters.vcf.gz | grep -v '##' | grep -v 'PASS' | head -n20 | cut -f6-10"
   ]
  },
  {
   "cell_type": "markdown",
   "metadata": {
    "colab_type": "text",
    "id": "AtFUBuz6a_Jc"
   },
   "source": [
    "### Calculate Concordance"
   ]
  },
  {
   "cell_type": "code",
   "execution_count": null,
   "metadata": {},
   "outputs": [],
   "source": [
    "! gatk Concordance \\\n",
    "-eval /home/jupyter/notebooks/motherSNPfilters.vcf.gz \\\n",
    "-truth gs://gatk-tutorials/$WORKSHOP/2-germline/resources/motherGIABsnps.vcf.gz \\\n",
    "-L gs://gatk-tutorials/$WORKSHOP/2-germline/intervals/motherHighconf.bed \\\n",
    "-S /home/jupyter/notebooks/motherSNPfilters.txt"
   ]
  },
  {
   "cell_type": "code",
   "execution_count": null,
   "metadata": {
    "colab": {},
    "colab_type": "code",
    "id": "O4EPthLua_Je",
    "scrolled": true
   },
   "outputs": [],
   "source": [
    "! cat /home/jupyter/notebooks/motherSNPfilters.txt"
   ]
  },
  {
   "cell_type": "code",
   "execution_count": null,
   "metadata": {
    "colab": {},
    "colab_type": "code",
    "id": "sd9GI_66a_Jg",
    "scrolled": true
   },
   "outputs": [],
   "source": [
    "#Now lets re-run concordance from just using QUAL filtering first\n",
    "! gatk Concordance \\\n",
    "-eval /home/jupyter/notebooks/motherSNPqualqd.vcf.gz \\\n",
    "-truth gs://gatk-tutorials/$WORKSHOP/2-germline/resources/motherGIABsnps.vcf.gz \\\n",
    "-L gs://gatk-tutorials/$WORKSHOP/2-germline/intervals/motherHighconf.bed \\\n",
    "-S /home/jupyter/notebooks/motherSNPqualqd.txt"
   ]
  },
  {
   "cell_type": "code",
   "execution_count": null,
   "metadata": {
    "colab": {},
    "colab_type": "code",
    "id": "v8JTd_fPa_Ji"
   },
   "outputs": [],
   "source": [
    "# View the results\n",
    "! cat /home/jupyter/notebooks/motherSNPqualqd.txt"
   ]
  },
  {
   "cell_type": "markdown",
   "metadata": {
    "colab_type": "text",
    "id": "FfieZrqoa_Jk"
   },
   "source": [
    "---\n",
    "\n",
    "We performed hard-filtering to learn about germline variant annotations. Remember that GATK recommends _Variant Quality Score Recalibration_ (VQSR) for germline variant callset filtering. For more complex variant filtering and annotation, see the Broad [Hail.is](https://hail.is/index.html) framework. "
   ]
  }
 ],
 "metadata": {
  "colab": {
   "name": "2-gatk-hard-filtering-tutorial-python (1).ipynb",
   "provenance": [
    {
     "file_id": "1DXcKNdb9D0Sxi7RYbxMJKz0IivrW1BQe",
     "timestamp": 1560187557178
    }
   ],
   "toc_visible": true,
   "version": "0.3.2"
  },
  "kernelspec": {
   "display_name": "Python 3",
   "language": "python",
   "name": "python3"
  },
  "language_info": {
   "codemirror_mode": {
    "name": "ipython",
    "version": 3
   },
   "file_extension": ".py",
   "mimetype": "text/x-python",
   "name": "python",
   "nbconvert_exporter": "python",
   "pygments_lexer": "ipython3",
   "version": "3.7.12"
  },
  "toc": {
   "base_numbering": 1,
   "nav_menu": {},
   "number_sections": true,
   "sideBar": true,
   "skip_h1_title": false,
   "title_cell": "Table of Contents",
   "title_sidebar": "Contents",
   "toc_cell": false,
   "toc_position": {
    "height": "calc(100% - 180px)",
    "left": "10px",
    "top": "150px",
    "width": "275px"
   },
   "toc_section_display": true,
   "toc_window_display": true
  }
 },
 "nbformat": 4,
 "nbformat_minor": 1
}
