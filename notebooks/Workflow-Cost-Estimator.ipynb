{
  "cells": [
    {
      "cell_type": "markdown",
      "metadata": {},
      "source": "# Workflow Cost Estimator\nThis notebook demonstrates cost estimation for finished or in-progress workflows.\n\nThis is an experimental feature:\n  - Cost estimates may not be accurate.\n  - CPUs, Memory, and runtime is pulled from Terra's Firecloud API\n    [monitorSubmission](https://api.firecloud.org/#/Submissions/monitorSubmission) endpoint. This information is\n    available for 42 days after workflow completion.\n  - GCP Instance type is assumed custom configurations of eith N1 or N2 instance type.\n\n*author: Brian Hannafious, Genomics Institute, University of California Santa Cruz*\n"
    },
    {
      "cell_type": "markdown",
      "metadata": {},
      "source": "Install the newest version of [terra-notebook-utils](https://github.com/DataBiosphere/terra-notebook-utils)\n"
    },
    {
      "cell_type": "code",
      "metadata": {},
      "source": "%pip install --upgrade --no-cache-dir git+https://github.com/DataBiosphere/terra-notebook-utils\n",
      "execution_count": null,
      "outputs": []
    },
    {
      "cell_type": "markdown",
      "metadata": {},
      "source": "Define some useful functions.\n"
    },
    {
      "cell_type": "code",
      "metadata": {},
      "source": "from terra_notebook_utils import costs, workflows\n\ndef list_submissions_chronological():\n    listing = [(s['submissionDate'], s) for s in workflows.list_submissions()]\n    for date, submission in sorted(listing):\n        yield submission\n\ndef cost_for_submission(submission_id: str):\n    submission = workflows.get_submission(submission_id)\n    for wf in submission['workflows']:\n        shard_number = 1  # keep track of scattered workflows\n        for shard_info in workflows.estimate_workflow_cost(submission_id, wf['workflowId']):\n            shard_info['workflow_id'] = wf['workflowId']\n            shard_info['shard'] = shard_number\n            shard_number += 1\n            yield shard_info\n\ndef estimate_job_cost(cpus: int, memory_gb: int, runtime_hours: float, preemptible: bool) -> float:\n    return costs.GCPCustomN1Cost.estimate(cpus, memory_gb, runtime_hours * 3600, preemptible)\n",
      "execution_count": null,
      "outputs": []
    },
    {
      "cell_type": "markdown",
      "metadata": {},
      "source": "List submissions in chronological order.\n"
    },
    {
      "cell_type": "code",
      "metadata": {},
      "source": "for s in list_submissions_chronological():\n    print(s['submissionId'], s['submissionDate'], s['status'])\n",
      "execution_count": null,
      "outputs": []
    },
    {
      "cell_type": "code",
      "metadata": {},
      "source": "# submission_id = \"\"  # Uncomment and insert your submission id here\ntotal_cost = 0\nprint(\"%37s\" % \"workflow_id\",\n      \"%6s\" % \"shard\",\n      \"%5s\" % \"cpus\",\n      \"%12s\" % \"memory\",\n      \"%13s\" % \"duration\",\n      \"%7s\" % \"cost\")\nfor shard_info in cost_for_submission(submission_id):\n    total_cost += shard_info['cost']\n    print(\"%37s\" % shard_info['workflow_id'],\n          \"%6i\" % shard_info['shard'],\n          \"%5i\" % shard_info['number_of_cpus'],\n          \"%10iGB\" % shard_info['memory'],\n          \"%12.2fh\" % (shard_info['duration'] / 3600),  # convert from seconds to hours\n          \"%7s\" % (\"$%.2f\" % shard_info['cost']))\n    shard_info['duration'] /= 3600  # convert from seconds to hours\nprint(\"%85s\" % (\"total_cost: $%.2f\" % round(total_cost, 2)))\n",
      "execution_count": null,
      "outputs": []
    },
    {
      "cell_type": "markdown",
      "metadata": {},
      "source": "Explore costs for potential workflow configurations and runtimes.\n"
    },
    {
      "cell_type": "code",
      "metadata": {},
      "source": "# Define configurations for: cpus, memory(GB), runtime(hours), preemptible\nconfigurations = [(10, 64, 5, False),\n                  (8, 32, 10, False),\n                  (10, 64, 5, True),\n                  (8, 32, 10, True)]\nprint(\"%8s\" % \"cpus\",\n      \"%8s\" % \"memory\",\n      \"%8s\" % \"runtime\",\n      \"%12s\" % \"preemptible\",\n      \"%8s\" % \"cost\")\nfor cpus, memory_gb, runtime_hours, preemptible in configurations:\n    cost = estimate_job_cost(cpus, memory_gb, runtime_hours, preemptible)\n    print(\"%8i\" % cpus,\n          \"%6iGB\" % memory_gb,\n          \"%7ih\" % runtime_hours,\n          \"%12s\" % str(preemptible),\n          \"%8s\" % (\"$%.2f\" % cost))\n",
      "execution_count": null,
      "outputs": []
    },
    {
      "cell_type": "markdown",
      "metadata": {},
      "source": "## Contributions\nContributions, bug reports, and feature requests are welcome on:\n  - [terra-notebook-utils GitHub](https://github.com/DataBiosphere/terra-notebook-utils) for general functionality.\n  - [bdcat_notebooks GitHub](https://github.com/DataBiosphere/bdcat_notebooks) for this notebook."
    }
  ],
  "metadata": {
    "kernelspec": {
      "display_name": "Python 3",
      "language": "python",
      "name": "python3"
    },
    "language_info": {
      "codemirror_mode": {
        "name": "ipython",
        "version": 3
      },
      "file_extension": ".py",
      "mimetype": "text/x-python",
      "name": "python",
      "nbconvert_exporter": "python",
      "pygments_lexer": "ipython3",
      "version": "3.7.7"
    },
    "toc": {
      "base_numbering": 1,
      "nav_menu": {},
      "number_sections": true,
      "sideBar": true,
      "skip_h1_title": false,
      "title_cell": "Table of Contents",
      "title_sidebar": "Contents",
      "toc_cell": false,
      "toc_position": {},
      "toc_section_display": true,
      "toc_window_display": false
    }
  },
  "nbformat": 4,
  "nbformat_minor": 2
}
